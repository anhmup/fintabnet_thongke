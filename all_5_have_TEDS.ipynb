{
  "nbformat": 4,
  "nbformat_minor": 0,
  "metadata": {
    "colab": {
      "provenance": [],
      "collapsed_sections": [
        "qsLN9dq3SLHZ",
        "c2QKitIoVuVJ",
        "Z-q-Szm2YmE-"
      ]
    },
    "kernelspec": {
      "name": "python3",
      "display_name": "Python 3"
    },
    "language_info": {
      "name": "python"
    }
  },
  "cells": [
    {
      "cell_type": "code",
      "source": [
        "import numpy as np\n",
        "import matplotlib.pyplot as plt\n",
        "from PIL import Image"
      ],
      "metadata": {
        "id": "wN3u0eZ5SIPG"
      },
      "execution_count": null,
      "outputs": []
    },
    {
      "cell_type": "code",
      "execution_count": null,
      "metadata": {
        "colab": {
          "base_uri": "https://localhost:8080/"
        },
        "id": "3INefw8-NIiE",
        "outputId": "afab3f0d-d9c0-428c-fb82-bcdc45cc3625"
      },
      "outputs": [
        {
          "output_type": "stream",
          "name": "stdout",
          "text": [
            "Mounted at /content/drive\n"
          ]
        }
      ],
      "source": [
        "from google.colab import drive\n",
        "drive.mount('/content/drive')"
      ]
    },
    {
      "cell_type": "code",
      "source": [
        "model_folder_path = '/content/drive/MyDrive/model'"
      ],
      "metadata": {
        "id": "8tPxEoKYR7wI"
      },
      "execution_count": null,
      "outputs": []
    },
    {
      "cell_type": "markdown",
      "source": [
        "# TD"
      ],
      "metadata": {
        "id": "qsLN9dq3SLHZ"
      }
    },
    {
      "cell_type": "code",
      "source": [
        "!pip install ultralytics"
      ],
      "metadata": {
        "colab": {
          "base_uri": "https://localhost:8080/"
        },
        "id": "0gO1Xc9xSQCt",
        "outputId": "4e023092-51db-4eed-ba7c-276e7431aae8"
      },
      "execution_count": null,
      "outputs": [
        {
          "output_type": "stream",
          "name": "stdout",
          "text": [
            "Collecting ultralytics\n",
            "  Downloading ultralytics-8.3.73-py3-none-any.whl.metadata (35 kB)\n",
            "Requirement already satisfied: numpy<=2.1.1,>=1.23.0 in /usr/local/lib/python3.11/dist-packages (from ultralytics) (1.26.4)\n",
            "Requirement already satisfied: matplotlib>=3.3.0 in /usr/local/lib/python3.11/dist-packages (from ultralytics) (3.10.0)\n",
            "Requirement already satisfied: opencv-python>=4.6.0 in /usr/local/lib/python3.11/dist-packages (from ultralytics) (4.11.0.86)\n",
            "Requirement already satisfied: pillow>=7.1.2 in /usr/local/lib/python3.11/dist-packages (from ultralytics) (11.1.0)\n",
            "Requirement already satisfied: pyyaml>=5.3.1 in /usr/local/lib/python3.11/dist-packages (from ultralytics) (6.0.2)\n",
            "Requirement already satisfied: requests>=2.23.0 in /usr/local/lib/python3.11/dist-packages (from ultralytics) (2.32.3)\n",
            "Requirement already satisfied: scipy>=1.4.1 in /usr/local/lib/python3.11/dist-packages (from ultralytics) (1.13.1)\n",
            "Requirement already satisfied: torch>=1.8.0 in /usr/local/lib/python3.11/dist-packages (from ultralytics) (2.5.1+cu124)\n",
            "Requirement already satisfied: torchvision>=0.9.0 in /usr/local/lib/python3.11/dist-packages (from ultralytics) (0.20.1+cu124)\n",
            "Requirement already satisfied: tqdm>=4.64.0 in /usr/local/lib/python3.11/dist-packages (from ultralytics) (4.67.1)\n",
            "Requirement already satisfied: psutil in /usr/local/lib/python3.11/dist-packages (from ultralytics) (5.9.5)\n",
            "Requirement already satisfied: py-cpuinfo in /usr/local/lib/python3.11/dist-packages (from ultralytics) (9.0.0)\n",
            "Requirement already satisfied: pandas>=1.1.4 in /usr/local/lib/python3.11/dist-packages (from ultralytics) (2.2.2)\n",
            "Requirement already satisfied: seaborn>=0.11.0 in /usr/local/lib/python3.11/dist-packages (from ultralytics) (0.13.2)\n",
            "Collecting ultralytics-thop>=2.0.0 (from ultralytics)\n",
            "  Downloading ultralytics_thop-2.0.14-py3-none-any.whl.metadata (9.4 kB)\n",
            "Requirement already satisfied: contourpy>=1.0.1 in /usr/local/lib/python3.11/dist-packages (from matplotlib>=3.3.0->ultralytics) (1.3.1)\n",
            "Requirement already satisfied: cycler>=0.10 in /usr/local/lib/python3.11/dist-packages (from matplotlib>=3.3.0->ultralytics) (0.12.1)\n",
            "Requirement already satisfied: fonttools>=4.22.0 in /usr/local/lib/python3.11/dist-packages (from matplotlib>=3.3.0->ultralytics) (4.55.8)\n",
            "Requirement already satisfied: kiwisolver>=1.3.1 in /usr/local/lib/python3.11/dist-packages (from matplotlib>=3.3.0->ultralytics) (1.4.8)\n",
            "Requirement already satisfied: packaging>=20.0 in /usr/local/lib/python3.11/dist-packages (from matplotlib>=3.3.0->ultralytics) (24.2)\n",
            "Requirement already satisfied: pyparsing>=2.3.1 in /usr/local/lib/python3.11/dist-packages (from matplotlib>=3.3.0->ultralytics) (3.2.1)\n",
            "Requirement already satisfied: python-dateutil>=2.7 in /usr/local/lib/python3.11/dist-packages (from matplotlib>=3.3.0->ultralytics) (2.8.2)\n",
            "Requirement already satisfied: pytz>=2020.1 in /usr/local/lib/python3.11/dist-packages (from pandas>=1.1.4->ultralytics) (2025.1)\n",
            "Requirement already satisfied: tzdata>=2022.7 in /usr/local/lib/python3.11/dist-packages (from pandas>=1.1.4->ultralytics) (2025.1)\n",
            "Requirement already satisfied: charset-normalizer<4,>=2 in /usr/local/lib/python3.11/dist-packages (from requests>=2.23.0->ultralytics) (3.4.1)\n",
            "Requirement already satisfied: idna<4,>=2.5 in /usr/local/lib/python3.11/dist-packages (from requests>=2.23.0->ultralytics) (3.10)\n",
            "Requirement already satisfied: urllib3<3,>=1.21.1 in /usr/local/lib/python3.11/dist-packages (from requests>=2.23.0->ultralytics) (2.3.0)\n",
            "Requirement already satisfied: certifi>=2017.4.17 in /usr/local/lib/python3.11/dist-packages (from requests>=2.23.0->ultralytics) (2025.1.31)\n",
            "Requirement already satisfied: filelock in /usr/local/lib/python3.11/dist-packages (from torch>=1.8.0->ultralytics) (3.17.0)\n",
            "Requirement already satisfied: typing-extensions>=4.8.0 in /usr/local/lib/python3.11/dist-packages (from torch>=1.8.0->ultralytics) (4.12.2)\n",
            "Requirement already satisfied: networkx in /usr/local/lib/python3.11/dist-packages (from torch>=1.8.0->ultralytics) (3.4.2)\n",
            "Requirement already satisfied: jinja2 in /usr/local/lib/python3.11/dist-packages (from torch>=1.8.0->ultralytics) (3.1.5)\n",
            "Requirement already satisfied: fsspec in /usr/local/lib/python3.11/dist-packages (from torch>=1.8.0->ultralytics) (2024.10.0)\n",
            "Collecting nvidia-cuda-nvrtc-cu12==12.4.127 (from torch>=1.8.0->ultralytics)\n",
            "  Downloading nvidia_cuda_nvrtc_cu12-12.4.127-py3-none-manylinux2014_x86_64.whl.metadata (1.5 kB)\n",
            "Collecting nvidia-cuda-runtime-cu12==12.4.127 (from torch>=1.8.0->ultralytics)\n",
            "  Downloading nvidia_cuda_runtime_cu12-12.4.127-py3-none-manylinux2014_x86_64.whl.metadata (1.5 kB)\n",
            "Collecting nvidia-cuda-cupti-cu12==12.4.127 (from torch>=1.8.0->ultralytics)\n",
            "  Downloading nvidia_cuda_cupti_cu12-12.4.127-py3-none-manylinux2014_x86_64.whl.metadata (1.6 kB)\n",
            "Collecting nvidia-cudnn-cu12==9.1.0.70 (from torch>=1.8.0->ultralytics)\n",
            "  Downloading nvidia_cudnn_cu12-9.1.0.70-py3-none-manylinux2014_x86_64.whl.metadata (1.6 kB)\n",
            "Collecting nvidia-cublas-cu12==12.4.5.8 (from torch>=1.8.0->ultralytics)\n",
            "  Downloading nvidia_cublas_cu12-12.4.5.8-py3-none-manylinux2014_x86_64.whl.metadata (1.5 kB)\n",
            "Collecting nvidia-cufft-cu12==11.2.1.3 (from torch>=1.8.0->ultralytics)\n",
            "  Downloading nvidia_cufft_cu12-11.2.1.3-py3-none-manylinux2014_x86_64.whl.metadata (1.5 kB)\n",
            "Collecting nvidia-curand-cu12==10.3.5.147 (from torch>=1.8.0->ultralytics)\n",
            "  Downloading nvidia_curand_cu12-10.3.5.147-py3-none-manylinux2014_x86_64.whl.metadata (1.5 kB)\n",
            "Collecting nvidia-cusolver-cu12==11.6.1.9 (from torch>=1.8.0->ultralytics)\n",
            "  Downloading nvidia_cusolver_cu12-11.6.1.9-py3-none-manylinux2014_x86_64.whl.metadata (1.6 kB)\n",
            "Collecting nvidia-cusparse-cu12==12.3.1.170 (from torch>=1.8.0->ultralytics)\n",
            "  Downloading nvidia_cusparse_cu12-12.3.1.170-py3-none-manylinux2014_x86_64.whl.metadata (1.6 kB)\n",
            "Requirement already satisfied: nvidia-nccl-cu12==2.21.5 in /usr/local/lib/python3.11/dist-packages (from torch>=1.8.0->ultralytics) (2.21.5)\n",
            "Requirement already satisfied: nvidia-nvtx-cu12==12.4.127 in /usr/local/lib/python3.11/dist-packages (from torch>=1.8.0->ultralytics) (12.4.127)\n",
            "Collecting nvidia-nvjitlink-cu12==12.4.127 (from torch>=1.8.0->ultralytics)\n",
            "  Downloading nvidia_nvjitlink_cu12-12.4.127-py3-none-manylinux2014_x86_64.whl.metadata (1.5 kB)\n",
            "Requirement already satisfied: triton==3.1.0 in /usr/local/lib/python3.11/dist-packages (from torch>=1.8.0->ultralytics) (3.1.0)\n",
            "Requirement already satisfied: sympy==1.13.1 in /usr/local/lib/python3.11/dist-packages (from torch>=1.8.0->ultralytics) (1.13.1)\n",
            "Requirement already satisfied: mpmath<1.4,>=1.1.0 in /usr/local/lib/python3.11/dist-packages (from sympy==1.13.1->torch>=1.8.0->ultralytics) (1.3.0)\n",
            "Requirement already satisfied: six>=1.5 in /usr/local/lib/python3.11/dist-packages (from python-dateutil>=2.7->matplotlib>=3.3.0->ultralytics) (1.17.0)\n",
            "Requirement already satisfied: MarkupSafe>=2.0 in /usr/local/lib/python3.11/dist-packages (from jinja2->torch>=1.8.0->ultralytics) (3.0.2)\n",
            "Downloading ultralytics-8.3.73-py3-none-any.whl (914 kB)\n",
            "\u001b[2K   \u001b[90m━━━━━━━━━━━━━━━━━━━━━━━━━━━━━━━━━━━━━━━━\u001b[0m \u001b[32m914.6/914.6 kB\u001b[0m \u001b[31m16.4 MB/s\u001b[0m eta \u001b[36m0:00:00\u001b[0m\n",
            "\u001b[?25hDownloading nvidia_cublas_cu12-12.4.5.8-py3-none-manylinux2014_x86_64.whl (363.4 MB)\n",
            "\u001b[2K   \u001b[90m━━━━━━━━━━━━━━━━━━━━━━━━━━━━━━━━━━━━━━━━\u001b[0m \u001b[32m363.4/363.4 MB\u001b[0m \u001b[31m4.4 MB/s\u001b[0m eta \u001b[36m0:00:00\u001b[0m\n",
            "\u001b[?25hDownloading nvidia_cuda_cupti_cu12-12.4.127-py3-none-manylinux2014_x86_64.whl (13.8 MB)\n",
            "\u001b[2K   \u001b[90m━━━━━━━━━━━━━━━━━━━━━━━━━━━━━━━━━━━━━━━━\u001b[0m \u001b[32m13.8/13.8 MB\u001b[0m \u001b[31m54.8 MB/s\u001b[0m eta \u001b[36m0:00:00\u001b[0m\n",
            "\u001b[?25hDownloading nvidia_cuda_nvrtc_cu12-12.4.127-py3-none-manylinux2014_x86_64.whl (24.6 MB)\n",
            "\u001b[2K   \u001b[90m━━━━━━━━━━━━━━━━━━━━━━━━━━━━━━━━━━━━━━━━\u001b[0m \u001b[32m24.6/24.6 MB\u001b[0m \u001b[31m44.5 MB/s\u001b[0m eta \u001b[36m0:00:00\u001b[0m\n",
            "\u001b[?25hDownloading nvidia_cuda_runtime_cu12-12.4.127-py3-none-manylinux2014_x86_64.whl (883 kB)\n",
            "\u001b[2K   \u001b[90m━━━━━━━━━━━━━━━━━━━━━━━━━━━━━━━━━━━━━━━━\u001b[0m \u001b[32m883.7/883.7 kB\u001b[0m \u001b[31m29.3 MB/s\u001b[0m eta \u001b[36m0:00:00\u001b[0m\n",
            "\u001b[?25hDownloading nvidia_cudnn_cu12-9.1.0.70-py3-none-manylinux2014_x86_64.whl (664.8 MB)\n",
            "\u001b[2K   \u001b[90m━━━━━━━━━━━━━━━━━━━━━━━━━━━━━━━━━━━━━━━━\u001b[0m \u001b[32m664.8/664.8 MB\u001b[0m \u001b[31m740.1 kB/s\u001b[0m eta \u001b[36m0:00:00\u001b[0m\n",
            "\u001b[?25hDownloading nvidia_cufft_cu12-11.2.1.3-py3-none-manylinux2014_x86_64.whl (211.5 MB)\n",
            "\u001b[2K   \u001b[90m━━━━━━━━━━━━━━━━━━━━━━━━━━━━━━━━━━━━━━━━\u001b[0m \u001b[32m211.5/211.5 MB\u001b[0m \u001b[31m5.9 MB/s\u001b[0m eta \u001b[36m0:00:00\u001b[0m\n",
            "\u001b[?25hDownloading nvidia_curand_cu12-10.3.5.147-py3-none-manylinux2014_x86_64.whl (56.3 MB)\n",
            "\u001b[2K   \u001b[90m━━━━━━━━━━━━━━━━━━━━━━━━━━━━━━━━━━━━━━━━\u001b[0m \u001b[32m56.3/56.3 MB\u001b[0m \u001b[31m10.4 MB/s\u001b[0m eta \u001b[36m0:00:00\u001b[0m\n",
            "\u001b[?25hDownloading nvidia_cusolver_cu12-11.6.1.9-py3-none-manylinux2014_x86_64.whl (127.9 MB)\n",
            "\u001b[2K   \u001b[90m━━━━━━━━━━━━━━━━━━━━━━━━━━━━━━━━━━━━━━━━\u001b[0m \u001b[32m127.9/127.9 MB\u001b[0m \u001b[31m8.6 MB/s\u001b[0m eta \u001b[36m0:00:00\u001b[0m\n",
            "\u001b[?25hDownloading nvidia_cusparse_cu12-12.3.1.170-py3-none-manylinux2014_x86_64.whl (207.5 MB)\n",
            "\u001b[2K   \u001b[90m━━━━━━━━━━━━━━━━━━━━━━━━━━━━━━━━━━━━━━━━\u001b[0m \u001b[32m207.5/207.5 MB\u001b[0m \u001b[31m6.5 MB/s\u001b[0m eta \u001b[36m0:00:00\u001b[0m\n",
            "\u001b[?25hDownloading nvidia_nvjitlink_cu12-12.4.127-py3-none-manylinux2014_x86_64.whl (21.1 MB)\n",
            "\u001b[2K   \u001b[90m━━━━━━━━━━━━━━━━━━━━━━━━━━━━━━━━━━━━━━━━\u001b[0m \u001b[32m21.1/21.1 MB\u001b[0m \u001b[31m75.4 MB/s\u001b[0m eta \u001b[36m0:00:00\u001b[0m\n",
            "\u001b[?25hDownloading ultralytics_thop-2.0.14-py3-none-any.whl (26 kB)\n",
            "Installing collected packages: nvidia-nvjitlink-cu12, nvidia-curand-cu12, nvidia-cufft-cu12, nvidia-cuda-runtime-cu12, nvidia-cuda-nvrtc-cu12, nvidia-cuda-cupti-cu12, nvidia-cublas-cu12, nvidia-cusparse-cu12, nvidia-cudnn-cu12, nvidia-cusolver-cu12, ultralytics-thop, ultralytics\n",
            "  Attempting uninstall: nvidia-nvjitlink-cu12\n",
            "    Found existing installation: nvidia-nvjitlink-cu12 12.5.82\n",
            "    Uninstalling nvidia-nvjitlink-cu12-12.5.82:\n",
            "      Successfully uninstalled nvidia-nvjitlink-cu12-12.5.82\n",
            "  Attempting uninstall: nvidia-curand-cu12\n",
            "    Found existing installation: nvidia-curand-cu12 10.3.6.82\n",
            "    Uninstalling nvidia-curand-cu12-10.3.6.82:\n",
            "      Successfully uninstalled nvidia-curand-cu12-10.3.6.82\n",
            "  Attempting uninstall: nvidia-cufft-cu12\n",
            "    Found existing installation: nvidia-cufft-cu12 11.2.3.61\n",
            "    Uninstalling nvidia-cufft-cu12-11.2.3.61:\n",
            "      Successfully uninstalled nvidia-cufft-cu12-11.2.3.61\n",
            "  Attempting uninstall: nvidia-cuda-runtime-cu12\n",
            "    Found existing installation: nvidia-cuda-runtime-cu12 12.5.82\n",
            "    Uninstalling nvidia-cuda-runtime-cu12-12.5.82:\n",
            "      Successfully uninstalled nvidia-cuda-runtime-cu12-12.5.82\n",
            "  Attempting uninstall: nvidia-cuda-nvrtc-cu12\n",
            "    Found existing installation: nvidia-cuda-nvrtc-cu12 12.5.82\n",
            "    Uninstalling nvidia-cuda-nvrtc-cu12-12.5.82:\n",
            "      Successfully uninstalled nvidia-cuda-nvrtc-cu12-12.5.82\n",
            "  Attempting uninstall: nvidia-cuda-cupti-cu12\n",
            "    Found existing installation: nvidia-cuda-cupti-cu12 12.5.82\n",
            "    Uninstalling nvidia-cuda-cupti-cu12-12.5.82:\n",
            "      Successfully uninstalled nvidia-cuda-cupti-cu12-12.5.82\n",
            "  Attempting uninstall: nvidia-cublas-cu12\n",
            "    Found existing installation: nvidia-cublas-cu12 12.5.3.2\n",
            "    Uninstalling nvidia-cublas-cu12-12.5.3.2:\n",
            "      Successfully uninstalled nvidia-cublas-cu12-12.5.3.2\n",
            "  Attempting uninstall: nvidia-cusparse-cu12\n",
            "    Found existing installation: nvidia-cusparse-cu12 12.5.1.3\n",
            "    Uninstalling nvidia-cusparse-cu12-12.5.1.3:\n",
            "      Successfully uninstalled nvidia-cusparse-cu12-12.5.1.3\n",
            "  Attempting uninstall: nvidia-cudnn-cu12\n",
            "    Found existing installation: nvidia-cudnn-cu12 9.3.0.75\n",
            "    Uninstalling nvidia-cudnn-cu12-9.3.0.75:\n",
            "      Successfully uninstalled nvidia-cudnn-cu12-9.3.0.75\n",
            "  Attempting uninstall: nvidia-cusolver-cu12\n",
            "    Found existing installation: nvidia-cusolver-cu12 11.6.3.83\n",
            "    Uninstalling nvidia-cusolver-cu12-11.6.3.83:\n",
            "      Successfully uninstalled nvidia-cusolver-cu12-11.6.3.83\n",
            "Successfully installed nvidia-cublas-cu12-12.4.5.8 nvidia-cuda-cupti-cu12-12.4.127 nvidia-cuda-nvrtc-cu12-12.4.127 nvidia-cuda-runtime-cu12-12.4.127 nvidia-cudnn-cu12-9.1.0.70 nvidia-cufft-cu12-11.2.1.3 nvidia-curand-cu12-10.3.5.147 nvidia-cusolver-cu12-11.6.1.9 nvidia-cusparse-cu12-12.3.1.170 nvidia-nvjitlink-cu12-12.4.127 ultralytics-8.3.73 ultralytics-thop-2.0.14\n"
          ]
        }
      ]
    },
    {
      "cell_type": "code",
      "source": [
        "from ultralytics import YOLO"
      ],
      "metadata": {
        "colab": {
          "base_uri": "https://localhost:8080/"
        },
        "id": "dyQ_X11QSFDJ",
        "outputId": "9f6a9dbd-0362-4363-9ecc-4006df7ed9c1"
      },
      "execution_count": null,
      "outputs": [
        {
          "output_type": "stream",
          "name": "stdout",
          "text": [
            "Creating new Ultralytics Settings v0.0.6 file ✅ \n",
            "View Ultralytics Settings with 'yolo settings' or at '/root/.config/Ultralytics/settings.json'\n",
            "Update Settings with 'yolo settings key=value', i.e. 'yolo settings runs_dir=path/to/dir'. For help see https://docs.ultralytics.com/quickstart/#ultralytics-settings.\n"
          ]
        }
      ]
    },
    {
      "cell_type": "markdown",
      "source": [],
      "metadata": {
        "id": "XLOr_11hTTHI"
      }
    },
    {
      "cell_type": "code",
      "source": [
        "model_TD = YOLO(model_folder_path + '/1.pt')"
      ],
      "metadata": {
        "id": "oYizLTZFSW_S"
      },
      "execution_count": null,
      "outputs": []
    },
    {
      "cell_type": "markdown",
      "source": [
        "# split"
      ],
      "metadata": {
        "id": "ZOenGHR4Vgbo"
      }
    },
    {
      "cell_type": "markdown",
      "source": [
        "## function"
      ],
      "metadata": {
        "id": "c2QKitIoVuVJ"
      }
    },
    {
      "cell_type": "code",
      "source": [
        "import numpy as np\n",
        "import pandas as pd\n",
        "import torch\n",
        "import torch.nn as nn\n",
        "import torch.nn.functional as F\n",
        "import torchvision.ops as ops\n",
        "import math\n",
        "import cv2\n",
        "import ast\n",
        "\n",
        "\n",
        "import glob\n",
        "import numpy as np\n",
        "\n",
        "import matplotlib.pyplot as plt\n",
        "from PIL import Image\n",
        "import pandas as pd\n",
        "\n",
        "import torch\n",
        "import torch.nn as nn\n",
        "from torch.utils.data import Dataset, DataLoader\n",
        "import torch.optim as optim\n",
        "\n",
        "import torchvision\n",
        "import torchvision.models as models\n",
        "import torchvision.datasets as datasets"
      ],
      "metadata": {
        "id": "fThearnVViW9"
      },
      "execution_count": null,
      "outputs": []
    },
    {
      "cell_type": "code",
      "source": [
        "SHAPE = 512\n",
        "device = torch.device(\"cuda:0\" if torch.cuda.is_available() else \"cpu\")  # set device to gpu or cpu\n",
        "device"
      ],
      "metadata": {
        "colab": {
          "base_uri": "https://localhost:8080/"
        },
        "id": "kjYE7UsvVySL",
        "outputId": "c169b228-f696-4bf5-db07-e0408b3cad43"
      },
      "execution_count": null,
      "outputs": [
        {
          "output_type": "execute_result",
          "data": {
            "text/plain": [
              "device(type='cpu')"
            ]
          },
          "metadata": {},
          "execution_count": 5
        }
      ]
    },
    {
      "cell_type": "code",
      "source": [
        "class Resnet_FPN_split(nn.Module):\n",
        "    def __init__(self,out_channels = 128):\n",
        "        super(Resnet_FPN_split, self).__init__()\n",
        "        self.resnet = models.resnet18(pretrained=False)\n",
        "        self.resnet.to(device)\n",
        "        self.layer_1 = nn.Sequential(*list(self.resnet.children())[:4])\n",
        "        self.layer_2 = self.resnet.layer2\n",
        "        self.layer_3 = self.resnet.layer3\n",
        "        self.layer_4 = self.resnet.layer4\n",
        "\n",
        "        self.lateral4 = nn.Conv2d(512, out_channels, kernel_size=1, stride=1, padding=0)\n",
        "        self.lateral3 = nn.Conv2d(256, out_channels, kernel_size=1, stride=1, padding=0)\n",
        "        self.lateral2 = nn.Conv2d(128, out_channels, kernel_size=1, stride=1, padding=0)\n",
        "        self.lateral1 = nn.Conv2d(64, out_channels, kernel_size=1, stride=1, padding=0)\n",
        "\n",
        "        self.output4 = nn.Conv2d(out_channels, out_channels, kernel_size=3, stride=1, padding=1)\n",
        "        self.output3 = nn.Conv2d(out_channels, out_channels, kernel_size=3, stride=1, padding=1)\n",
        "        self.output2 = nn.Conv2d(out_channels, out_channels, kernel_size=3, stride=1, padding=1)\n",
        "        self.output1 = nn.Conv2d(out_channels, out_channels, kernel_size=3, stride=1, padding=1)\n",
        "\n",
        "    def forward(self, x):\n",
        "        if (torch.isnan(x).any()):\n",
        "            print(\"error at Resnet_FPN\")\n",
        "        c1 = self.layer_1(x)\n",
        "        if (torch.any(torch.isnan(c1))):\n",
        "            print('error resnet ')\n",
        "        c2 = self.layer_2(c1)\n",
        "        c3 = self.layer_3(c2)\n",
        "        c4 = self.layer_4(c3)\n",
        "\n",
        "        p4 = self.lateral4(c4)\n",
        "        p3 = self.lateral3(c3) + F.interpolate(p4, scale_factor=2, mode='nearest')\n",
        "        p2 = self.lateral2(c2) + F.interpolate(p3, scale_factor=2, mode='nearest')\n",
        "        p1 = self.lateral1(c1) + F.interpolate(p2, scale_factor=2, mode='nearest')\n",
        "\n",
        "        p4 = self.output4(p4)\n",
        "        p3 = self.output3(p3)\n",
        "        p2 = self.output2(p2)\n",
        "        p1 = self.output1(p1)\n",
        "\n",
        "        return p1, p2, p3, p4"
      ],
      "metadata": {
        "id": "uyFq57j-V2Aq"
      },
      "execution_count": null,
      "outputs": []
    },
    {
      "cell_type": "code",
      "source": [
        "class transferlayer(nn.Module):\n",
        "    def __init__(self, in_channels, out_channels):\n",
        "        super(transferlayer, self).__init__()\n",
        "        self.conv = nn.Conv2d(in_channels, out_channels, kernel_size=3, stride=1, padding=1)\n",
        "    def forward(self, x):\n",
        "        x = self.conv(x)\n",
        "        return x"
      ],
      "metadata": {
        "id": "kziJrZehV6aW"
      },
      "execution_count": null,
      "outputs": []
    },
    {
      "cell_type": "code",
      "source": [
        "class mess_passing_H(nn.Module):\n",
        "    def __init__(self, in_channels = 32, out_channels= 32):\n",
        "        super(mess_passing_H, self).__init__()\n",
        "        self.t2d_layers = nn.Conv2d(in_channels, out_channels, kernel_size=[1,9], stride=(1,1), padding=(0,4))\n",
        "        self.d2t_layers = nn.Conv2d(in_channels, out_channels, kernel_size=[1,9], stride=(1,1), padding=(0,4))\n",
        "        self.relu = nn.ReLU()\n",
        "    def forward(self, x):\n",
        "        nB, c, h, w = x.shape\n",
        "        feature_list_old = []\n",
        "        feature_list_new = []\n",
        "        for cnt in range(h):\n",
        "            feature_list_old.append(x[:,:,cnt,:].unsqueeze(dim = 2))\n",
        "        feature_list_new.append(x[:,:,0,:].unsqueeze(dim = 2))\n",
        "        feature = self.t2d_layers(feature_list_old[0])\n",
        "        feature = self.relu(feature) + feature_list_old[1]\n",
        "        feature_list_new.append(feature)\n",
        "        for cnt in range(2,h):\n",
        "            feature =  self.t2d_layers(feature_list_new[cnt-1])\n",
        "            feature = self.relu(feature) + feature_list_old[cnt]\n",
        "            feature_list_new.append(feature)\n",
        "        feature_list_new.append(feature)\n",
        "        feature_list_old = feature_list_new\n",
        "        feature_list_new = []\n",
        "        length = h - 1\n",
        "        feature_list_new.append(feature_list_old[length])\n",
        "        feature = self.d2t_layers(feature_list_old[length])\n",
        "        feature = self.relu(feature) + feature_list_old[length - 1]\n",
        "        feature_list_new.append(feature)\n",
        "        for cnt in range(2, h):\n",
        "            feature = self.d2t_layers(feature_list_new[cnt - 1])\n",
        "            feature = self.relu(feature) + feature_list_old[length - cnt]\n",
        "            feature_list_new.append(feature)\n",
        "        feature_list_new.reverse()\n",
        "        processed_feature = torch.stack(feature_list_new,dim = 2)\n",
        "        processed_feature = processed_feature.squeeze(dim = 3 )\n",
        "        return processed_feature"
      ],
      "metadata": {
        "id": "ORe03_7zV8in"
      },
      "execution_count": null,
      "outputs": []
    },
    {
      "cell_type": "code",
      "source": [
        "class mess_passing_W(nn.Module): # L -> R\n",
        "    def __init__(self, in_channels = 32, out_channels= 32):\n",
        "        super(mess_passing_W, self).__init__()\n",
        "        self.l2r_layers = nn.Conv2d(in_channels, out_channels, kernel_size=[9,1], stride=(1,1), padding=(4,0))\n",
        "        self.r2l_layers = nn.Conv2d(in_channels, out_channels, kernel_size=[9,1], stride=(1,1), padding=(4,0))\n",
        "        self.relu = nn.ReLU()\n",
        "    def forward(self, x):\n",
        "        nB, c, h, w = x.shape\n",
        "        feature_list_old = []\n",
        "        feature_list_new = []\n",
        "        for cnt in range(w):\n",
        "            feature_list_old.append(x[:, :, : , cnt].unsqueeze(dim = 3))\n",
        "        feature_list_new.append(x[:, :, :, 0].unsqueeze(dim = 3))\n",
        "        feature = self.l2r_layers(feature_list_old[0])\n",
        "        feature = self.relu(feature) + feature_list_old[1]\n",
        "        feature_list_new.append(feature)\n",
        "        for cnt in range(2, w):\n",
        "            feature = self.l2r_layers(feature_list_new[cnt - 1])\n",
        "            feature = self.relu(feature) + feature_list_old[cnt]\n",
        "            feature_list_new.append(feature)\n",
        "        feature_list_old = feature_list_new\n",
        "        feature_list_new = []\n",
        "        length = w - 1\n",
        "        feature_list_new.append(feature_list_old[length])\n",
        "        feature = self.r2l_layers(feature_list_old[length])\n",
        "        feature = self.relu(feature) + feature_list_old[length - 1]\n",
        "        feature_list_new.append(feature)\n",
        "        for cnt in range(2, w):\n",
        "            feature = self.r2l_layers(feature_list_new[cnt - 1])\n",
        "            feature = self.relu(feature) + feature_list_old[length - cnt]\n",
        "            feature_list_new.append(feature)\n",
        "        feature_list_new.reverse()\n",
        "        processed_feature = torch.stack(feature_list_new, dim=3)\n",
        "        processed_feature = torch.squeeze(processed_feature, axis=4)\n",
        "        return processed_feature"
      ],
      "metadata": {
        "id": "oW1M1dP6V9xF"
      },
      "execution_count": null,
      "outputs": []
    },
    {
      "cell_type": "code",
      "source": [
        "class sun_branch_1(nn.Module):\n",
        "    def __init__(self, size_):\n",
        "        super(sun_branch_1, self).__init__()\n",
        "        self.size_ = size_\n",
        "        self.Max = nn.MaxPool2d(kernel_size=size_, stride=size_ , padding= (0,0))\n",
        "        self.Conv = nn.Conv2d(64, 32, kernel_size=3, stride=1, padding= 1)\n",
        "        self.relu = nn.ReLU()\n",
        "    def forward(self, x , input_channel):\n",
        "        x = x.clone()\n",
        "        x = self.Max(x)\n",
        "        x = self.Conv(x)\n",
        "        x = self.relu(x)\n",
        "        return x"
      ],
      "metadata": {
        "id": "7P2nwYTqV-uK"
      },
      "execution_count": null,
      "outputs": []
    },
    {
      "cell_type": "code",
      "source": [
        "class sun_branch_2(nn.Module):\n",
        "    def __init__(self, size_):\n",
        "        super(sun_branch_2, self).__init__()\n",
        "        self.size_ = size_\n",
        "        self.Max = nn.MaxPool2d(kernel_size=size_, stride=size_ , padding= (0,0))\n",
        "        self.Conv = nn.Conv2d(32, 32, kernel_size=3, stride=1, padding= 1)\n",
        "        self.relu = nn.ReLU()\n",
        "    def forward(self, x , input_channel):\n",
        "        x = x.clone()\n",
        "        x = self.Max(x)\n",
        "        x = self.Conv(x)\n",
        "        x = self.relu(x)\n",
        "        return x"
      ],
      "metadata": {
        "id": "lIH-UI-yV_py"
      },
      "execution_count": null,
      "outputs": []
    },
    {
      "cell_type": "code",
      "source": [
        "class sun_branch_3(nn.Module):\n",
        "    def __init__(self, size_):\n",
        "        super(sun_branch_3, self).__init__()\n",
        "        self.size_ = size_\n",
        "        self.Max = nn.MaxPool2d(kernel_size=size_, stride=size_ , padding= (0,0))\n",
        "        self.Conv = nn.Conv2d(32, 32, kernel_size=3, stride=1, padding= 1)\n",
        "        self.relu = nn.ReLU()\n",
        "    def forward(self, x , input_channel):\n",
        "        x = x.clone()\n",
        "        x = self.Max(x)\n",
        "        x = self.Conv(x)\n",
        "        x = self.relu(x)\n",
        "        return x"
      ],
      "metadata": {
        "id": "FHPqRDsWWAup"
      },
      "execution_count": null,
      "outputs": []
    },
    {
      "cell_type": "code",
      "source": [
        "class updasample_combines(nn.Module):\n",
        "    def __init__(self ):\n",
        "        super(updasample_combines, self).__init__()\n",
        "        self.conv = nn.Conv2d(32, 256, kernel_size=3, stride=1, padding= 'same')\n",
        "        self.bn = nn.BatchNorm2d(256)\n",
        "        self.relu = nn.ReLU()\n",
        "    def forward(self, x_tensor):\n",
        "        x = F.interpolate(x_tensor, size =(SHAPE,SHAPE), mode='bilinear', align_corners=False)\n",
        "        x = self.conv(x)\n",
        "        x = self.bn(x)\n",
        "        x = self.relu(x)\n",
        "        return x"
      ],
      "metadata": {
        "id": "b-3h2y2RWCdd"
      },
      "execution_count": null,
      "outputs": []
    },
    {
      "cell_type": "code",
      "source": [
        "class predict_row(nn.Module):\n",
        "    def __init__(self, in_channels, out_channels):\n",
        "        super(predict_row, self).__init__()\n",
        "        self.conv = nn.Conv2d(in_channels, 1, kernel_size=1, stride=1, padding=0)\n",
        "        self.sigmoid = nn.Sigmoid()\n",
        "    def forward(self, x):\n",
        "        row_ = self.conv(x)\n",
        "        final_row = self.sigmoid(row_)\n",
        "        return final_row\n",
        "\n",
        "# %%\n",
        "class predict_col(nn.Module):\n",
        "    def __init__(self, in_channels, out_channels):\n",
        "        super(predict_col, self).__init__()\n",
        "        self.conv = nn.Conv2d(in_channels, 1, kernel_size=1, stride=1, padding=0)\n",
        "        self.sigmoid = nn.Sigmoid()\n",
        "    def forward(self, x):\n",
        "        col_ = self.conv(x)\n",
        "        final_col = self.sigmoid(col_)\n",
        "        return final_col"
      ],
      "metadata": {
        "id": "bdY01wPBWDyo"
      },
      "execution_count": null,
      "outputs": []
    },
    {
      "cell_type": "code",
      "source": [
        "class model_split(nn.Module):\n",
        "    def __init__(self):\n",
        "        super(model_split, self).__init__()  # 128 -> 256\n",
        "        self.backbone = Resnet_FPN_split()\n",
        "        self.mess_passing_H = mess_passing_H()\n",
        "        self.mess_passing_W = mess_passing_W()\n",
        "        self.predict_row = predict_row(256, 1)\n",
        "        self.predict_col = predict_col(256, 1)\n",
        "        self.sun_branch_W_1 = sun_branch_1(size_=(1,2))\n",
        "        self.sun_branch_W_2 = sun_branch_2(size_=(1,2))\n",
        "        self.sun_branch_W_3 = sun_branch_3(size_=(1,2))\n",
        "\n",
        "        self.sun_branch_H_1 = sun_branch_1(size_=(2,1))\n",
        "        self.sun_branch_H_2 = sun_branch_2(size_=(2,1))\n",
        "        self.sun_branch_H_3 = sun_branch_3(size_=(2,1))\n",
        "\n",
        "        self.transfer_layer = transferlayer(128, 64)  # 256 -> 16\n",
        "        self.updasample_combines_H = updasample_combines()\n",
        "        self.updasample_combines_W = updasample_combines()  # 256 * 256\n",
        "    def forward(self, image):\n",
        "        c2, c3 , c4, c5 = self.backbone(image)\n",
        "        fm = self.transfer_layer(c2)\n",
        "        x_H = fm\n",
        "        x_W = fm\n",
        "        # for _ in range(3):\n",
        "        x_H= self.sun_branch_H_1(x_H, x_H.shape[1])\n",
        "        x_H= self.sun_branch_H_2(x_H, x_H.shape[1])\n",
        "        x_H= self.sun_branch_H_3(x_H, x_H.shape[1])\n",
        "\n",
        "        x_W = self.sun_branch_W_1(x_W, x_W.shape[1])\n",
        "        x_W = self.sun_branch_W_2(x_W, x_W.shape[1])\n",
        "        x_W = self.sun_branch_W_3(x_W, x_W.shape[1])\n",
        "        # print(f'x_W : {x_W.shape}')\n",
        "        col_feature = self.mess_passing_H(x_H)\n",
        "        col_feature = self.updasample_combines_H(col_feature)  # 256 * 256\n",
        "\n",
        "        row_feature = self.mess_passing_W(x_W)\n",
        "        row_feature = self.updasample_combines_W(row_feature)  # 256 * 256\n",
        "        # print(f'row_feature :{row_feature.shape}, col_feature:{col_feature.shape}')\n",
        "        final_row = self.predict_row(row_feature)\n",
        "        final_col = self.predict_col(col_feature)\n",
        "        return final_row, final_col"
      ],
      "metadata": {
        "id": "SlkN1ZtHWFWh"
      },
      "execution_count": null,
      "outputs": []
    },
    {
      "cell_type": "code",
      "source": [
        "def get_heatmap_split(tensor_input , show = False):\n",
        "    pred = tensor_input[0]\n",
        "    pred = pred.permute(1,2,0)\n",
        "    pred = pred.cpu()\n",
        "    pred = pred.detach().numpy()\n",
        "    if show == True:\n",
        "      plt.imshow(pred)\n",
        "    return pred"
      ],
      "metadata": {
        "id": "T1BQuZx2Wtl9"
      },
      "execution_count": null,
      "outputs": []
    },
    {
      "cell_type": "code",
      "source": [
        "def contour_dis(contour_1, contour_2):\n",
        "    min_dis = 99999\n",
        "    for point1 in contour_1:\n",
        "        for point2 in contour_2:\n",
        "            dis = np.linalg.norm(point1[0] - point2[0])\n",
        "            if dis < min_dis:\n",
        "                min_dis = dis\n",
        "    return min_dis\n",
        "\n",
        "def merge_countour(contour_1, contour_2):\n",
        "    merge_c = np.vstack((contour_1, contour_2))\n",
        "    merge_c = cv2.convexHull(merge_c)\n",
        "    return merge_c\n"
      ],
      "metadata": {
        "id": "ZibxeEMOQYI7"
      },
      "execution_count": null,
      "outputs": []
    },
    {
      "cell_type": "code",
      "source": [
        "def get_col_pred_line(img_col_pred):\n",
        "  test_image = img_col_pred[0]\n",
        "  test_image =   test_image.permute(1,2,0)\n",
        "  test_image = test_image.cpu()\n",
        "  test_image_np = test_image.detach().numpy()\n",
        "  col_img_pred = test_image_np.copy()\n",
        "  col_img_pred = np.squeeze(col_img_pred, axis= 2)\n",
        "  reversed_binary_img = 1 - col_img_pred\n",
        "  col_mean = np.mean(col_img_pred , axis = 0)\n",
        "  mask_1 = col_mean> threshold\n",
        "  mask_0 = col_mean <= threshold\n",
        "  col_mean[mask_1] = 0\n",
        "  col_mean[mask_0] = 1\n",
        "  image_finale_col_pred = np.tile(col_mean, (512, 1))\n",
        "  contours, hierarchy = cv2.findContours(image_finale_col_pred.astype(np.uint8), cv2.RETR_TREE, cv2.CHAIN_APPROX_SIMPLE)\n",
        "  final_countours = []\n",
        "  used = set()\n",
        "  for i, contour_1 in enumerate(contours):\n",
        "    if i in used:\n",
        "      continue\n",
        "    for j, contour_2 in enumerate(contours):\n",
        "      if i!= j and j not in used:\n",
        "        dis = contour_dis(contour_1, contour_2)\n",
        "        if dis < threshold_contour_col:\n",
        "            contour_1 = merge_countour(contour_1, contour_2)\n",
        "            used.add(j)\n",
        "    final_countours.append(contour_1)\n",
        "    used.add(i)\n",
        "  polynomial_fits = []\n",
        "  for i, contour in enumerate(final_countours):\n",
        "    x = contour[:, 0, 1]\n",
        "    y = contour[:, 0, 0]\n",
        "    try:\n",
        "      polynomial_fit = np.polyfit(x, y, 0)\n",
        "      polynomial_fits.append(polynomial_fit)\n",
        "    except:\n",
        "        pass\n",
        "  final_list = []\n",
        "  for line in polynomial_fits:\n",
        "    line_int = int(line[0])\n",
        "    final_list.append(line_int)\n",
        "  return final_list"
      ],
      "metadata": {
        "id": "2ZPb66kiXnIg"
      },
      "execution_count": null,
      "outputs": []
    },
    {
      "cell_type": "code",
      "source": [
        "def get_row_pred_line(img_row_pred):\n",
        "  test_image = img_row_pred[0]\n",
        "  # print(test_image.shape)\n",
        "  test_image =   test_image.permute(1,2,0)\n",
        "  test_image = test_image.cpu()\n",
        "  # test_image_np = np.array(test_image)\n",
        "  test_image_np = test_image.detach().numpy()\n",
        "  row_img_pred = test_image_np.copy()\n",
        "  row_img_pred = np.squeeze(row_img_pred, axis= 2)\n",
        "  reversed_binary_img = 1 - row_img_pred\n",
        "  row_mean = np.mean(row_img_pred , axis = 1)\n",
        "  mask_1 = row_mean> threshold\n",
        "  mask_0 = row_mean <= threshold\n",
        "  row_mean[mask_1] = 0\n",
        "  row_mean[mask_0] = 1\n",
        "  row_mean_reshape = row_mean.reshape(512,1)\n",
        "  # print(row_mean)\n",
        "  image_finale_row_pred = np.tile(row_mean_reshape, (1, 512))\n",
        "  contours, hierarchy = cv2.findContours(image_finale_row_pred.astype(np.uint8), cv2.RETR_EXTERNAL, cv2.CHAIN_APPROX_SIMPLE)\n",
        "  final_countours = []\n",
        "  used = set()\n",
        "  for i, contour_1 in enumerate(contours):\n",
        "    if i in used:\n",
        "      continue\n",
        "    for j, contour_2 in enumerate(contours):\n",
        "      if i!= j and j not in used:\n",
        "        dis = contour_dis(contour_1, contour_2)\n",
        "        if dis < threshold_contour_row:\n",
        "            contour_1 = merge_countour(contour_1, contour_2)\n",
        "            used.add(j)\n",
        "    final_countours.append(contour_1)\n",
        "    used.add(i)\n",
        "\n",
        "  polynomial_fits = []\n",
        "  for i, contour in enumerate(final_countours):\n",
        "    x = contour[:, 0, 1]\n",
        "    y = contour[:, 0, 0]\n",
        "    try:\n",
        "      polynomial_fit = np.polyfit(y, x, 0)\n",
        "      polynomial_fits.append(polynomial_fit)\n",
        "    except:\n",
        "      pass\n",
        "  final_list = []\n",
        "  for line in polynomial_fits:\n",
        "    line_int = int(line[0])\n",
        "    final_list.append(line_int)\n",
        "  return final_list"
      ],
      "metadata": {
        "id": "TxtWosMaXq7T"
      },
      "execution_count": null,
      "outputs": []
    },
    {
      "cell_type": "code",
      "source": [
        "def show_line_pred(row_list, col_list, image_np):\n",
        "  image_input = cv2.resize(image_np, (512,512))\n",
        "  for line in row_list:\n",
        "    # print(line)\n",
        "    y_coord = line\n",
        "    start_point = (0, y_coord)\n",
        "    end_point = (512, y_coord)\n",
        "    cv2.line(image_input, start_point, end_point, (255,0,0),1)\n",
        "    # print(line[0])\n",
        "  for line in col_list:\n",
        "    # print(line)\n",
        "    x_coord = line\n",
        "    start_point = (x_coord, 0)\n",
        "    end_point = (x_coord, 512)\n",
        "    cv2.line(image_input, start_point, end_point, (255,0,0),1)\n",
        "  plt.imshow(image_input)\n",
        "  plt.show()"
      ],
      "metadata": {
        "id": "jtREt3-uXu8t"
      },
      "execution_count": null,
      "outputs": []
    },
    {
      "cell_type": "code",
      "source": [
        "def get_pred_bbox_list(row_list_final, col_list_final):\n",
        "    row_bbox_list = []\n",
        "    for index in range(len(row_list_final) - 1):\n",
        "        row_bbox_list.append([row_list_final[index], row_list_final[index + 1]])\n",
        "    col_bbox_list = []\n",
        "    for index in range(len(col_list_final) - 1):\n",
        "        col_bbox_list.append([col_list_final[index], col_list_final[index + 1]])\n",
        "    # print(row_bbox_list)\n",
        "    # print(col_bbox_list)\n",
        "    cell_bbox_list = []\n",
        "    for row_idx , row_bbox in enumerate(row_bbox_list):\n",
        "        for col_idx, col_bbox in enumerate(col_bbox_list):\n",
        "            x1 = col_bbox[0]\n",
        "            y1 = row_bbox[0]\n",
        "            x2 = col_bbox[1]\n",
        "            y2 = row_bbox[1]\n",
        "            updated_bbox = [row_idx, col_idx, x1, y1, x2, y2]\n",
        "            cell_bbox_list.append(updated_bbox)\n",
        "    return cell_bbox_list"
      ],
      "metadata": {
        "id": "_3oXdJ-1e7xY"
      },
      "execution_count": null,
      "outputs": []
    },
    {
      "cell_type": "markdown",
      "source": [
        "## using split"
      ],
      "metadata": {
        "id": "iFcGr_CoWGWe"
      }
    },
    {
      "cell_type": "code",
      "source": [
        "split_task = model_split()\n",
        "split_task.to('cpu')\n",
        "weights = torch.load( model_folder_path + \"/split_model_fintab_80k_20.pth\", map_location='cpu')\n",
        "split_task.load_state_dict(weights)"
      ],
      "metadata": {
        "colab": {
          "base_uri": "https://localhost:8080/"
        },
        "id": "lIdRiA01WIqF",
        "outputId": "d58e6a50-15d3-451e-d54d-680531fcb878"
      },
      "execution_count": null,
      "outputs": [
        {
          "output_type": "stream",
          "name": "stderr",
          "text": [
            "/usr/local/lib/python3.11/dist-packages/torchvision/models/_utils.py:208: UserWarning: The parameter 'pretrained' is deprecated since 0.13 and may be removed in the future, please use 'weights' instead.\n",
            "  warnings.warn(\n",
            "/usr/local/lib/python3.11/dist-packages/torchvision/models/_utils.py:223: UserWarning: Arguments other than a weight enum or `None` for 'weights' are deprecated since 0.13 and may be removed in the future. The current behavior is equivalent to passing `weights=None`.\n",
            "  warnings.warn(msg)\n",
            "<ipython-input-22-3ca3d09bb5fb>:3: FutureWarning: You are using `torch.load` with `weights_only=False` (the current default value), which uses the default pickle module implicitly. It is possible to construct malicious pickle data which will execute arbitrary code during unpickling (See https://github.com/pytorch/pytorch/blob/main/SECURITY.md#untrusted-models for more details). In a future release, the default value for `weights_only` will be flipped to `True`. This limits the functions that could be executed during unpickling. Arbitrary objects will no longer be allowed to be loaded via this mode unless they are explicitly allowlisted by the user via `torch.serialization.add_safe_globals`. We recommend you start setting `weights_only=True` for any use case where you don't have full control of the loaded file. Please open an issue on GitHub for any issues related to this experimental feature.\n",
            "  weights = torch.load( model_folder_path + \"/split_model_fintab_80k_20.pth\", map_location='cpu')\n"
          ]
        },
        {
          "output_type": "execute_result",
          "data": {
            "text/plain": [
              "<All keys matched successfully>"
            ]
          },
          "metadata": {},
          "execution_count": 22
        }
      ]
    },
    {
      "cell_type": "markdown",
      "source": [
        "# Merge"
      ],
      "metadata": {
        "id": "9p90QntRYjnX"
      }
    },
    {
      "cell_type": "markdown",
      "source": [
        "## function"
      ],
      "metadata": {
        "id": "Z-q-Szm2YmE-"
      }
    },
    {
      "cell_type": "code",
      "source": [
        "import numpy as np\n",
        "import pandas as pd\n",
        "import torch\n",
        "import torch.nn as nn\n",
        "import torch.nn.functional as F\n",
        "import torchvision.ops as ops\n",
        "import math\n",
        "import cv2\n",
        "import ast\n",
        "from tqdm import  tqdm\n",
        "\n",
        "import glob\n",
        "import numpy as np\n",
        "\n",
        "import matplotlib.pyplot as plt\n",
        "from PIL import Image\n",
        "import pandas as pd\n",
        "\n",
        "import torch\n",
        "import torch.nn as nn\n",
        "from torch.utils.data import Dataset, DataLoader\n",
        "import torch.optim as optim\n",
        "\n",
        "import torchvision\n",
        "import torchvision.models as models\n",
        "import torchvision.datasets as datasets\n",
        "import torchvision.transforms as transforms"
      ],
      "metadata": {
        "id": "U1bdmfr2YlnC"
      },
      "execution_count": null,
      "outputs": []
    },
    {
      "cell_type": "code",
      "source": [
        "class Resnet_FPN_merge(nn.Module):\n",
        "    def __init__(self,out_channels = 256):\n",
        "        super(Resnet_FPN_merge, self).__init__()\n",
        "        self.resnet = models.resnet18(pretrained=False)\n",
        "        self.resnet.to(device)\n",
        "        self.layer_1 = nn.Sequential(*list(self.resnet.children())[:4])\n",
        "        self.layer_2 = self.resnet.layer2\n",
        "        self.layer_3 = self.resnet.layer3\n",
        "        self.layer_4 = self.resnet.layer4\n",
        "\n",
        "        self.lateral4 = nn.Conv2d(512, out_channels, kernel_size=1, stride=1, padding=0)\n",
        "        self.lateral3 = nn.Conv2d(256, out_channels, kernel_size=1, stride=1, padding=0)\n",
        "        self.lateral2 = nn.Conv2d(128, out_channels, kernel_size=1, stride=1, padding=0)\n",
        "        self.lateral1 = nn.Conv2d(64, out_channels, kernel_size=1, stride=1, padding=0)\n",
        "\n",
        "        self.output4 = nn.Conv2d(out_channels, out_channels, kernel_size=3, stride=1, padding=1)\n",
        "        self.output3 = nn.Conv2d(out_channels, out_channels, kernel_size=3, stride=1, padding=1)\n",
        "        self.output2 = nn.Conv2d(out_channels, out_channels, kernel_size=3, stride=1, padding=1)\n",
        "        self.output1 = nn.Conv2d(out_channels, out_channels, kernel_size=3, stride=1, padding=1)\n",
        "\n",
        "    def forward(self, x):\n",
        "        if (torch.isnan(x).any()):\n",
        "            print(\"error at Resnet_FPN\")\n",
        "        c1 = self.layer_1(x)\n",
        "        if (torch.any(torch.isnan(c1))):\n",
        "            print('error resnet ')\n",
        "        c2 = self.layer_2(c1)\n",
        "        c3 = self.layer_3(c2)\n",
        "        c4 = self.layer_4(c3)\n",
        "\n",
        "        p4 = self.lateral4(c4)\n",
        "        p3 = self.lateral3(c3) + F.interpolate(p4, scale_factor=2, mode='nearest')\n",
        "        p2 = self.lateral2(c2) + F.interpolate(p3, scale_factor=2, mode='nearest')\n",
        "        p1 = self.lateral1(c1) + F.interpolate(p2, scale_factor=2, mode='nearest')\n",
        "\n",
        "        p4 = self.output4(p4)\n",
        "        p3 = self.output3(p3)\n",
        "        p2 = self.output2(p2)\n",
        "        p1 = self.output1(p1)\n",
        "\n",
        "        return p1, p2, p3, p4"
      ],
      "metadata": {
        "id": "S2euY68WeqUC"
      },
      "execution_count": null,
      "outputs": []
    },
    {
      "cell_type": "code",
      "source": [
        "def convert_rois_to_boxes(rois):\n",
        "    MxN = (torch.max(rois[:,0])+1)*(torch.max(rois[:,1])+1).item()\n",
        "    MxN = int(MxN)\n",
        "    batch_index = torch.zeros(MxN)\n",
        "    x1 = rois[:,2]\n",
        "    y1 = rois[:,3]\n",
        "    x2 = rois[:,4]\n",
        "    y2 = rois[:,5]\n",
        "\n",
        "    boxes = torch.stack([batch_index,x1,y1,x2,y2],dim=1)\n",
        "    return boxes"
      ],
      "metadata": {
        "id": "dsAiTsT_esPP"
      },
      "execution_count": null,
      "outputs": []
    },
    {
      "cell_type": "code",
      "source": [
        "def roi_align(feature_map, rois, output_size = (7,7)):\n",
        "    return ops.roi_align(feature_map, rois, output_size , spatial_scale=1/4)"
      ],
      "metadata": {
        "id": "NpQwKcozetsd"
      },
      "execution_count": null,
      "outputs": []
    },
    {
      "cell_type": "code",
      "source": [
        "class convert_rois_to_box(nn.Module):\n",
        "    def __init__(self):\n",
        "        super(convert_rois_to_box, self).__init__()\n",
        "        # pass\n",
        "    def forward(self, rois):\n",
        "        MxN = (torch.max(rois[:,0])+1)*(torch.max(rois[:,1])+1).item()\n",
        "        MxN = int(MxN)\n",
        "        batch_index = torch.zeros(MxN)\n",
        "\n",
        "        batch_index = batch_index.to(device)\n",
        "        x1 = rois[:,2]\n",
        "        y1 = rois[:,3]\n",
        "        x2 = rois[:,4]\n",
        "        y2 = rois[:,5]\n",
        "\n",
        "        boxes = torch.stack([batch_index,x1,y1,x2,y2],dim=1)\n",
        "        return boxes"
      ],
      "metadata": {
        "id": "Y1maAU8Beu-Z"
      },
      "execution_count": null,
      "outputs": []
    },
    {
      "cell_type": "code",
      "source": [
        "class position_embedding(nn.Module):\n",
        "    def __init__(self, num_paches = 100, projection_dims = 256):\n",
        "        super(position_embedding, self).__init__()\n",
        "        self.x_position_embeddings = nn.Embedding(num_paches, projection_dims)\n",
        "        nn.init.constant_(self.x_position_embeddings.weight, 0.)\n",
        "        self.y_position_embeddings = nn.Embedding(num_paches, projection_dims)\n",
        "        nn.init.constant_(self.y_position_embeddings.weight, 0.)\n",
        "    def forward(self, rois):\n",
        "        x = torch.max(rois[:,1])\n",
        "        y = torch.max(rois[:,0])\n",
        "\n",
        "        x = x.to(torch.int32)\n",
        "        y = y.to(torch.int32)\n",
        "        x_1 = x+1\n",
        "        y_1 = y+1\n",
        "\n",
        "        col = torch.arange(x+1)\n",
        "        col = col.to(device)\n",
        "        row = torch.arange(y+1)\n",
        "        row = row.to(device)\n",
        "\n",
        "        x_pos = col.repeat(y_1)\n",
        "        y_pos = row.repeat_interleave(x_1)\n",
        "\n",
        "        x_embed = self.x_position_embeddings(x_pos)\n",
        "        y_embed = self.y_position_embeddings(y_pos)\n",
        "\n",
        "        return x_embed, y_embed"
      ],
      "metadata": {
        "id": "_cIa-s_BexCw"
      },
      "execution_count": null,
      "outputs": []
    },
    {
      "cell_type": "code",
      "source": [
        "class predict_head_row(nn.Module):\n",
        "    def __init__(self,hidden_dim = 512):\n",
        "        super(predict_head_row, self).__init__()\n",
        "        self.hidden_dim = hidden_dim\n",
        "        self.ff1 = nn.Linear(in_features=512, out_features=512)\n",
        "        self.ff2 = nn.Linear(in_features=512, out_features=1)\n",
        "        self.relu = nn.ReLU()\n",
        "        self.sigmoid = nn.Sigmoid()\n",
        "    def forward(self,x):\n",
        "        x = self.ff1(x)\n",
        "        x = self.relu(x)\n",
        "        x= self.ff2(x)\n",
        "        # x = self.relu(x)\n",
        "        x = self.sigmoid(x)\n",
        "        return x\n",
        "class predict_head_col(nn.Module):\n",
        "    def __init__(self,hidden_dim = 512):\n",
        "        super(predict_head_col, self).__init__()\n",
        "        self.hidden_dim = hidden_dim\n",
        "        self.ff1 = nn.Linear(in_features=512, out_features=512)\n",
        "        self.ff2 = nn.Linear(in_features=512, out_features=1)\n",
        "        self.relu = nn.ReLU()\n",
        "        self.sigmoid = nn.Sigmoid()\n",
        "    def forward(self,x):\n",
        "        x = self.ff1(x)\n",
        "        x = self.relu(x)\n",
        "        x= self.ff2(x)\n",
        "        # x = self.relu(x)\n",
        "        x = self.sigmoid(x)\n",
        "        return x"
      ],
      "metadata": {
        "id": "HijENwNHeyjC"
      },
      "execution_count": null,
      "outputs": []
    },
    {
      "cell_type": "code",
      "source": [
        "class TransformerEncoder(nn.Module):\n",
        "    def __init__(self, input_dim = 512, num_layers = 3, num_heads = 8, ff_dim = 512):\n",
        "        super(TransformerEncoder, self).__init__()\n",
        "        self.encoder_layer = nn.TransformerEncoderLayer(d_model=input_dim, nhead=num_heads, dim_feedforward=ff_dim)\n",
        "        self.transformer_encoder = nn.TransformerEncoder(self.encoder_layer, num_layers=num_layers)\n",
        "        self.input_dim = input_dim\n",
        "\n",
        "    def forward(self, src):\n",
        "        src = src * torch.sqrt(torch.tensor(self.input_dim, dtype=torch.float32))\n",
        "        output = self.transformer_encoder(src)\n",
        "        return output"
      ],
      "metadata": {
        "id": "c3n9uENie0Hw"
      },
      "execution_count": null,
      "outputs": []
    },
    {
      "cell_type": "code",
      "source": [
        "class Model_merge(nn.Module):\n",
        "    def __init__(self, num_layers = 3 ):\n",
        "        super(Model_merge, self).__init__()\n",
        "        self.pos_embedding = position_embedding()\n",
        "        self.convert_rois_to_box = convert_rois_to_box()\n",
        "        self.encoder = TransformerEncoder()\n",
        "        self.backbone = Resnet_FPN_merge()\n",
        "\n",
        "        # self.merge_head = merge_head()\n",
        "        self.row_head = predict_head_row()\n",
        "        self.col_head = predict_head_col()\n",
        "        self.middle = nn.Conv2d(in_channels=256, out_channels=128, kernel_size=1)\n",
        "        self.flatten_fm = nn.Linear(in_features= 6272, out_features= 512)\n",
        "    def forward(self, x , rois):\n",
        "        if (torch.isnan(x).any()):\n",
        "            print(\"error fw model \")\n",
        "        rois_1 = torch.tensor(rois[0].cpu().numpy())\n",
        "        rois_new = self.convert_rois_to_box(rois_1)\n",
        "        x_embed, y_embed = self.pos_embedding(rois[0])\n",
        "        if (torch.any(torch.isnan(x_embed))):\n",
        "            print('pos error')\n",
        "        elif  (torch.any(torch.isnan(y_embed))):\n",
        "            print('pos error')\n",
        "        pos_  = torch.cat((x_embed, y_embed), dim=-1) # (1, MxN, 512)\n",
        "        p1, p2, p3, p4 = self.backbone(x) # p1: (1, 256, 128, 128)\n",
        "        if  (torch.any(torch.isnan(p1))):\n",
        "            print('feature error')\n",
        "        feature_map = self.middle(p1) #  (1, 256, 128, 128)\n",
        "        # print(f'feature_map :{feature_map.shape}')\n",
        "        crops = roi_align(feature_map, rois_new) # (MxN, 128, 7, 7)\n",
        "        if  (torch.any(torch.isnan(crops))):\n",
        "            print(' roi align error ')\n",
        "        embedded_patches = crops.reshape(-1, 128*7*7) # (MxN, 6272)\n",
        "        encoded_patches = self.flatten_fm(embedded_patches)# (MxN, 512)\n",
        "        encoded_patches = torch.unsqueeze(encoded_patches, dim=0) # (1, MxN, 512)\n",
        "        encode = pos_ + encoded_patches # (1, MxN , 512)\n",
        "        # encode = encoded_patches\n",
        "\n",
        "        x = self.encoder(encode) # (1, MxN, 512)\n",
        "        if  (torch.any(torch.isnan(x))):\n",
        "            print(' encoder error ')\n",
        "        row_logits = self.row_head(x)\n",
        "        col_logits = self.col_head(x)\n",
        "        col_logits = col_logits.view(-1)\n",
        "        row_logits = row_logits.view(-1)\n",
        "        return row_logits , col_logits"
      ],
      "metadata": {
        "id": "lSIhvvsUe1n4"
      },
      "execution_count": null,
      "outputs": []
    },
    {
      "cell_type": "code",
      "source": [
        "def get_final_pred_merge(row_pred, col_pred, num_row, num_col):\n",
        "    pred_col = col_pred.cpu()\n",
        "    mask_1 = pred_col > 0.9\n",
        "    mask_0 = pred_col <=0.9\n",
        "    final_pred_col = np.zeros(shape = np.shape(pred_col) , dtype= int)\n",
        "    final_pred_col[np.where(mask_1 == True)] = 1\n",
        "    final_pred_col = np.reshape(final_pred_col, (num_row + 1, num_col + 1))\n",
        "\n",
        "    pred_row = row_pred.cpu()\n",
        "    mask_1 = pred_row > 0.9\n",
        "    mask_0 = pred_row <=0.9\n",
        "    final_pred_row = np.zeros(shape = np.shape(pred_row) , dtype= int)\n",
        "    final_pred_row[np.where(mask_1 == True)] = 1\n",
        "    final_pred_row = np.reshape(final_pred_row, (num_row + 1, num_col + 1))\n",
        "\n",
        "    return final_pred_row, final_pred_col"
      ],
      "metadata": {
        "id": "5gDybud-gI6i"
      },
      "execution_count": null,
      "outputs": []
    },
    {
      "cell_type": "code",
      "source": [
        "def show_final_result(image_input , table_dict):\n",
        "    image_input = cv2.resize(image_input, (512,512))\n",
        "    # image_input = image.copy()\n",
        "    for cell in table_dict:\n",
        "        bbox = cell['bbox']\n",
        "        x1, y1, x2, y2 = bbox\n",
        "        cv2.rectangle(image_input, (x1, y1), (x2, y2), (255, 0, 0), 2)\n",
        "\n",
        "    plt.imshow(image_input.astype(np.uint8))\n",
        "    plt.show()"
      ],
      "metadata": {
        "id": "mESUMNOHvb50"
      },
      "execution_count": null,
      "outputs": []
    },
    {
      "cell_type": "code",
      "source": [
        "def get_col_spaning_cell(gt_col):\n",
        "    # gt_col = gt['col'][0]\n",
        "    list_merge_col = {}\n",
        "    for row_idx in range(gt_col.shape[0]):\n",
        "        list_merge_col[row_idx] = []\n",
        "    list_merge_col\n",
        "    flag = 0\n",
        "\n",
        "    for row_idx in range(gt_col.shape[0]):\n",
        "        col_tmp = gt_col[row_idx]\n",
        "        for col_idx in range(1,len(col_tmp)):\n",
        "            if (col_tmp[col_idx] == 1 and col_tmp[col_idx-1]==0): # start counting\n",
        "                flag = 1\n",
        "                start_col = col_idx - 1\n",
        "            elif (col_tmp[col_idx] == 0 and col_tmp[col_idx-1]==1): # end counting\n",
        "                flag = 0\n",
        "                end_col = col_idx - 1\n",
        "                # list_merge_col[row_idx].append([start_col,end_col])\n",
        "                list_merge_col[row_idx].append([i for i in range(start_col,end_col+1)])\n",
        "\n",
        "            if (flag == 1 and col_idx == len(col_tmp)-1): # end counting\n",
        "                flag = 0\n",
        "                end_col = col_idx\n",
        "                # list_merge_col[row_idx].append([start_col,end_col])\n",
        "                list_merge_col[row_idx].append([i for i in range(start_col,end_col+1)])\n",
        "    return list_merge_col\n"
      ],
      "metadata": {
        "id": "xm1e_8kdvd4Q"
      },
      "execution_count": null,
      "outputs": []
    },
    {
      "cell_type": "code",
      "source": [
        "def get_row_spaning_cell(gt_row):\n",
        "    list_merge_row = {}\n",
        "    for row_idx in range(gt_row.shape[1]):\n",
        "        list_merge_row[row_idx] = []\n",
        "    list_merge_row\n",
        "    flag  = 0\n",
        "    for col_idx in range(gt_row.shape[1]):\n",
        "        row_tmp = gt_row[:,col_idx]\n",
        "        for row_idx in range(1,len(row_tmp)):\n",
        "            if (row_tmp[row_idx] == 1 and row_tmp[row_idx-1]==0): # start counting\n",
        "                flag = 1\n",
        "                start_row = row_idx - 1\n",
        "            elif (row_tmp[row_idx] == 0 and row_tmp[row_idx-1]==1): # end counting\n",
        "                flag = 0\n",
        "                end_row = row_idx - 1\n",
        "                list_merge_row[col_idx].append([start_row,end_row])\n",
        "\n",
        "            if (flag == 1 and row_idx == len(row_tmp)-1): # end counting\n",
        "                flag = 0\n",
        "                end_row = row_idx\n",
        "                list_merge_row[col_idx].append([start_row,end_row])\n",
        "    return list_merge_row"
      ],
      "metadata": {
        "id": "CYUoChlwvfqm"
      },
      "execution_count": null,
      "outputs": []
    },
    {
      "cell_type": "code",
      "source": [
        "def check_single_cell_col(idx_row, idx_col, list_merge_col):\n",
        "    span_cell = list_merge_col[idx_row]\n",
        "    if len(span_cell) == 0:\n",
        "        return True\n",
        "    elif len(span_cell) > 0:\n",
        "        if any(idx_col in sublist for sublist in span_cell):\n",
        "            return False\n",
        "        else :\n",
        "            return True\n",
        "\n",
        "def check_single_cell_row(idx_row, idx_col, list_merge_row):\n",
        "    span_cell = list_merge_row[idx_col]\n",
        "    if len(span_cell) == 0:\n",
        "        return True\n",
        "    elif len(span_cell) > 0:\n",
        "        if any(idx_row in sublist for sublist in span_cell):\n",
        "            return False\n",
        "        else :\n",
        "            return True"
      ],
      "metadata": {
        "id": "cCe4ILT6vhC8"
      },
      "execution_count": null,
      "outputs": []
    },
    {
      "cell_type": "code",
      "source": [
        "def get_bbox_location(idx_row_in, idx_col_in, bbox):\n",
        "    for i in range(len(bbox)):\n",
        "        row_idx_gt, col_idx_gt, x1, y1, x2, y2 = bbox[i]\n",
        "        if (row_idx_gt == idx_row_in and col_idx_gt == idx_col_in):\n",
        "            return [x1, y1, x2, y2]\n",
        "    return -1"
      ],
      "metadata": {
        "id": "MH3b_a68vink"
      },
      "execution_count": null,
      "outputs": []
    },
    {
      "cell_type": "code",
      "source": [
        "def get_bbox_spaning_col(idx_row, idx_col_list, bbox):\n",
        "    bbox_list = []\n",
        "    for idx_col in idx_col_list:\n",
        "        try:\n",
        "            bbox_location = get_bbox_location(idx_row, idx_col, bbox)\n",
        "            bbox_list.append(bbox_location)\n",
        "        except:\n",
        "            pass\n",
        "    bbox_array = np.array(bbox_list)\n",
        "    # print(bbox_array.shape)\n",
        "    x1 = np.min(bbox_array[:,0])\n",
        "    y1 = np.min(bbox_array[:,1])\n",
        "    x2 = np.max(bbox_array[:,2])\n",
        "    y2 = np.max(bbox_array[:,3])\n",
        "\n",
        "    final_bbox_span = [x1, y1, x2, y2]\n",
        "    return final_bbox_span"
      ],
      "metadata": {
        "id": "IQdtY18svj9J"
      },
      "execution_count": null,
      "outputs": []
    },
    {
      "cell_type": "code",
      "source": [
        "def get_bbox_spaning_row(idx_row_list, idx_col, bbox):\n",
        "    bbox_list = []\n",
        "    for idx_row in idx_row_list:\n",
        "        try:\n",
        "            bbox_location = get_bbox_location(idx_row, idx_col, bbox)\n",
        "            bbox_list.append(bbox_location)\n",
        "        except:\n",
        "            pass\n",
        "    bbox_array = np.array(bbox_list)\n",
        "    x1 = np.min(bbox_array[:,0])\n",
        "    y1 = np.min(bbox_array[:,1])\n",
        "    x2 = np.max(bbox_array[:,2])\n",
        "    y2 = np.max(bbox_array[:,3])\n",
        "\n",
        "    final_bbox_span = [x1, y1, x2, y2]\n",
        "    return final_bbox_span"
      ],
      "metadata": {
        "id": "ryZfxjY0vmFb"
      },
      "execution_count": null,
      "outputs": []
    },
    {
      "cell_type": "code",
      "source": [
        "def get_table(gt_row, gt_col, bbox):\n",
        "    merge_col = get_col_spaning_cell(gt_col)\n",
        "    merge_row = get_row_spaning_cell(gt_row)\n",
        "    table_dict = []\n",
        "\n",
        "    # get span col cell\n",
        "    for idx_row in range(len(merge_col)):\n",
        "        merge_col_tmp = merge_col[idx_row]\n",
        "        if len(merge_col_tmp) > 0:\n",
        "            cell_merge = []\n",
        "\n",
        "            for i in range(len(merge_col_tmp)):\n",
        "                cell_dict = dict()\n",
        "                list_col_merge_tmp = merge_col_tmp[i]\n",
        "                bbox_spaning_col = get_bbox_spaning_col(idx_row, list_col_merge_tmp, bbox)\n",
        "                cell_dict['row'] = idx_row\n",
        "                cell_dict['col'] = list_col_merge_tmp\n",
        "                cell_dict['bbox'] = bbox_spaning_col\n",
        "                cell_dict['content'] = ''\n",
        "                table_dict.append(cell_dict)\n",
        "    # get span row cell\n",
        "    for idx_col in range(len(merge_row)):\n",
        "        merge_row_tmp = merge_row[idx_col]\n",
        "        if len(merge_row_tmp) > 0:\n",
        "            cell_merge = []\n",
        "            for i in range(len(merge_row_tmp)):\n",
        "                cell_dict = dict()\n",
        "                list_row_merge_tmp = merge_row_tmp[i]\n",
        "                bbox_spaning_row = get_bbox_spaning_row(list_row_merge_tmp, idx_col, bbox)\n",
        "                cell_dict['row'] = list_row_merge_tmp\n",
        "                cell_dict['col'] = idx_col\n",
        "                cell_dict['bbox'] = bbox_spaning_row\n",
        "                cell_dict['content'] = ''\n",
        "                table_dict.append(cell_dict)\n",
        "\n",
        "    # get single cell\n",
        "    for idx in range(len(bbox)):\n",
        "        idx_row, idx_col, x1, y1, x2, y2 = bbox[idx]\n",
        "        try:\n",
        "            single_cell_row  = check_single_cell_row(idx_row, idx_col, merge_row)\n",
        "            single_cell_col  = check_single_cell_col(idx_row, idx_col, merge_col)\n",
        "            if single_cell_row == True  and single_cell_col == True:\n",
        "                cell_dict = dict()\n",
        "                cell_dict['row'] = [idx_row]\n",
        "                cell_dict['col'] = [idx_col]\n",
        "                cell_dict['bbox'] = [x1,y1,x2,y2]\n",
        "                cell_dict['content'] = ''\n",
        "                table_dict.append(cell_dict)\n",
        "        except:\n",
        "            print(idx_row)\n",
        "\n",
        "    return table_dict\n"
      ],
      "metadata": {
        "id": "909dokzIvoWs"
      },
      "execution_count": null,
      "outputs": []
    },
    {
      "cell_type": "markdown",
      "source": [
        "## using merge"
      ],
      "metadata": {
        "id": "_BGqSGpkfV-w"
      }
    },
    {
      "cell_type": "code",
      "source": [
        "merge_task = Model_merge()\n",
        "merge_task.to('cpu')\n",
        "weights = torch.load(model_folder_path + \"/merge_model_fintab_80_20.pth\", map_location='cpu')\n",
        "merge_task.load_state_dict(weights)"
      ],
      "metadata": {
        "colab": {
          "base_uri": "https://localhost:8080/"
        },
        "id": "HOo4zKzpfdI6",
        "outputId": "f6072dc9-33b2-4aca-e600-4c9ec4797d4c"
      },
      "execution_count": null,
      "outputs": [
        {
          "output_type": "stream",
          "name": "stderr",
          "text": [
            "/usr/local/lib/python3.11/dist-packages/torch/nn/modules/transformer.py:379: UserWarning: enable_nested_tensor is True, but self.use_nested_tensor is False because encoder_layer.self_attn.batch_first was not True(use batch_first for better inference performance)\n",
            "  warnings.warn(\n",
            "<ipython-input-41-59acc8eb5337>:3: FutureWarning: You are using `torch.load` with `weights_only=False` (the current default value), which uses the default pickle module implicitly. It is possible to construct malicious pickle data which will execute arbitrary code during unpickling (See https://github.com/pytorch/pytorch/blob/main/SECURITY.md#untrusted-models for more details). In a future release, the default value for `weights_only` will be flipped to `True`. This limits the functions that could be executed during unpickling. Arbitrary objects will no longer be allowed to be loaded via this mode unless they are explicitly allowlisted by the user via `torch.serialization.add_safe_globals`. We recommend you start setting `weights_only=True` for any use case where you don't have full control of the loaded file. Please open an issue on GitHub for any issues related to this experimental feature.\n",
            "  weights = torch.load(model_folder_path + \"/merge_model_fintab_80_20.pth\", map_location='cpu')\n"
          ]
        },
        {
          "output_type": "execute_result",
          "data": {
            "text/plain": [
              "<All keys matched successfully>"
            ]
          },
          "metadata": {},
          "execution_count": 41
        }
      ]
    },
    {
      "cell_type": "markdown",
      "source": [
        "# Full"
      ],
      "metadata": {
        "id": "V2eRRYIHw-J5"
      }
    },
    {
      "cell_type": "code",
      "source": [
        "def generate_html_table(data: list) -> str:\n",
        "    table = \"<table border='1'>\\n\"\n",
        "\n",
        "    # Find max row and col to determine table size\n",
        "    max_row = max(\n",
        "        max(item['row']) if isinstance(item['row'], list) else item['row']\n",
        "        for item in data\n",
        "    )\n",
        "    max_col = max(\n",
        "        max(item['col']) if isinstance(item['col'], list) else item['col']\n",
        "        for item in data\n",
        "    )\n",
        "\n",
        "    # Create an empty table structure\n",
        "    table_structure = [['' for _ in range(max_col + 1)] for _ in range(max_row + 1)]\n",
        "    span_map = {}\n",
        "\n",
        "    # Populate the table with data\n",
        "    for item in data:\n",
        "        try:\n",
        "          rows = item['row'] if isinstance(item['row'], list) else [item['row']]\n",
        "          cols = item['col'] if isinstance(item['col'], list) else [item['col']]\n",
        "          content = item['content']\n",
        "\n",
        "          span_map[(rows[0], cols[0])] = (len(rows), len(cols))\n",
        "          table_structure[rows[0]][cols[0]] = content\n",
        "        except:\n",
        "          pass\n",
        "\n",
        "        # Mark spanned cells\n",
        "        for r in rows:\n",
        "            for c in cols:\n",
        "                if (r, c) != (rows[0], cols[0]):\n",
        "                    table_structure[r][c] = None\n",
        "\n",
        "    # Generate HTML table rows\n",
        "    for r, row in enumerate(table_structure):\n",
        "        table += \"  <tr>\\n\"\n",
        "        for c, cell in enumerate(row):\n",
        "            if cell is not None:\n",
        "                rowspan, colspan = span_map.get((r, c), (1, 1))\n",
        "                rowspan_attr = f\" rowspan='{rowspan}'\" if rowspan > 1 else \"\"\n",
        "                colspan_attr = f\" colspan='{colspan}'\" if colspan > 1 else \"\"\n",
        "                table += f\"    <td{rowspan_attr}{colspan_attr}>{cell}</td>\\n\"\n",
        "        table += \"  </tr>\\n\"\n",
        "\n",
        "    table += \"</table>\"\n",
        "    return table\n",
        "\n"
      ],
      "metadata": {
        "id": "F2rdH1zVqJyJ"
      },
      "execution_count": null,
      "outputs": []
    },
    {
      "cell_type": "code",
      "source": [
        "def show_final_result_v2(image_input , table_dict):\n",
        "    # return to original image\n",
        "    image_original = image_input.copy()\n",
        "    for cell in table_dict:\n",
        "        bbox = cell['bbox']\n",
        "        x1_512 , y1_512 , x2_512, y2_512 = bbox\n",
        "        x1_ori = int(x1_512/512 * w_original)\n",
        "        y1_ori = int(y1_512/512 * h_original)\n",
        "        x2_ori = int(x2_512/512 * w_original)\n",
        "        y2_ori = int(y2_512/512 * h_original)\n",
        "        cv2.rectangle(image_original, (x1_ori, y1_ori), (x2_ori, y2_ori), (255, 0, 0), 2)\n",
        "    plt.imshow(image_original)"
      ],
      "metadata": {
        "id": "V337bfVIPgcw"
      },
      "execution_count": null,
      "outputs": []
    },
    {
      "cell_type": "code",
      "source": [
        "def get_heatmap_split(tensor_input):\n",
        "    pred = tensor_input[0]\n",
        "    pred = pred.permute(1,2,0)\n",
        "    pred = pred.cpu()\n",
        "    pred = pred.detach().numpy()\n",
        "    plt.imshow(pred)\n",
        "    return pred"
      ],
      "metadata": {
        "id": "RLjsw8wE3zdy"
      },
      "execution_count": null,
      "outputs": []
    },
    {
      "cell_type": "code",
      "source": [
        "# c  = get_heatmap_split(a)"
      ],
      "metadata": {
        "id": "jGuCDQ2D46Be"
      },
      "execution_count": null,
      "outputs": []
    },
    {
      "cell_type": "code",
      "source": [
        "# col_pred_np = col_pred.detach().numpy()\n",
        "# col_pred_np = np.reshape(col_pred_np, (num_row + 1, num_col + 1))\n",
        "# col_pred_np"
      ],
      "metadata": {
        "id": "XDbOXrHRxm6W"
      },
      "execution_count": null,
      "outputs": []
    },
    {
      "cell_type": "markdown",
      "source": [
        "# fintab test data"
      ],
      "metadata": {
        "id": "ulJMbzX_yBpE"
      }
    },
    {
      "cell_type": "code",
      "source": [
        "!pip install pdf2image==1.14\n",
        "!pip install pypdf2==1.26\n",
        "!apt-get install poppler-utils"
      ],
      "metadata": {
        "colab": {
          "base_uri": "https://localhost:8080/"
        },
        "id": "PqPv9SMryVxi",
        "outputId": "afb9003b-9615-4904-9c6f-f4ca3366c02c"
      },
      "execution_count": null,
      "outputs": [
        {
          "output_type": "stream",
          "name": "stdout",
          "text": [
            "Collecting pdf2image==1.14\n",
            "  Downloading pdf2image-1.14.0-py3-none-any.whl.metadata (6.1 kB)\n",
            "Requirement already satisfied: pillow in /usr/local/lib/python3.11/dist-packages (from pdf2image==1.14) (11.1.0)\n",
            "Downloading pdf2image-1.14.0-py3-none-any.whl (10 kB)\n",
            "Installing collected packages: pdf2image\n",
            "Successfully installed pdf2image-1.14.0\n",
            "Collecting pypdf2==1.26\n",
            "  Downloading PyPDF2-1.26.0.tar.gz (77 kB)\n",
            "\u001b[2K     \u001b[90m━━━━━━━━━━━━━━━━━━━━━━━━━━━━━━━━━━━━━━━━\u001b[0m \u001b[32m77.6/77.6 kB\u001b[0m \u001b[31m2.1 MB/s\u001b[0m eta \u001b[36m0:00:00\u001b[0m\n",
            "\u001b[?25h  Preparing metadata (setup.py) ... \u001b[?25l\u001b[?25hdone\n",
            "Building wheels for collected packages: pypdf2\n",
            "  Building wheel for pypdf2 (setup.py) ... \u001b[?25l\u001b[?25hdone\n",
            "  Created wheel for pypdf2: filename=PyPDF2-1.26.0-py3-none-any.whl size=61082 sha256=c18455445d6cf4941ee5dd65997f9b6aa7ebecf7ecfb30a2ffd8f425faad6b3d\n",
            "  Stored in directory: /root/.cache/pip/wheels/71/61/d5/5383a0b3a4f5eed2438f67d4a840fafda466dd0b7286d52ab5\n",
            "Successfully built pypdf2\n",
            "Installing collected packages: pypdf2\n",
            "Successfully installed pypdf2-1.26.0\n",
            "Reading package lists... Done\n",
            "Building dependency tree... Done\n",
            "Reading state information... Done\n",
            "The following NEW packages will be installed:\n",
            "  poppler-utils\n",
            "0 upgraded, 1 newly installed, 0 to remove and 19 not upgraded.\n",
            "Need to get 186 kB of archives.\n",
            "After this operation, 696 kB of additional disk space will be used.\n",
            "Get:1 http://archive.ubuntu.com/ubuntu jammy-updates/main amd64 poppler-utils amd64 22.02.0-2ubuntu0.6 [186 kB]\n",
            "Fetched 186 kB in 1s (301 kB/s)\n",
            "Selecting previously unselected package poppler-utils.\n",
            "(Reading database ... 124926 files and directories currently installed.)\n",
            "Preparing to unpack .../poppler-utils_22.02.0-2ubuntu0.6_amd64.deb ...\n",
            "Unpacking poppler-utils (22.02.0-2ubuntu0.6) ...\n",
            "Setting up poppler-utils (22.02.0-2ubuntu0.6) ...\n",
            "Processing triggers for man-db (2.10.2-1) ...\n"
          ]
        }
      ]
    },
    {
      "cell_type": "code",
      "source": [
        "import zipfile\n",
        "source_data_path = '/content/drive/MyDrive/quocanh/test_gt.zip'\n",
        "with zipfile.ZipFile(source_data_path, 'r') as zip_ref:\n",
        "    zip_ref.extractall('/content/test_gt')"
      ],
      "metadata": {
        "id": "YsgvCgAjycEl"
      },
      "execution_count": null,
      "outputs": []
    },
    {
      "cell_type": "code",
      "source": [
        "import os\n",
        "image_path  = \"/content/test_gt/test_gt/image/\"\n",
        "list_image =[image_name[:-4] for image_name in os.listdir(image_path)]\n",
        "len(list_image)"
      ],
      "metadata": {
        "colab": {
          "base_uri": "https://localhost:8080/"
        },
        "id": "kzm0JaI0EOqx",
        "outputId": "186814b9-8637-4009-d2bf-f6ad2ddb8917"
      },
      "execution_count": null,
      "outputs": [
        {
          "output_type": "execute_result",
          "data": {
            "text/plain": [
              "10635"
            ]
          },
          "metadata": {},
          "execution_count": 46
        }
      ]
    },
    {
      "cell_type": "code",
      "source": [
        "html_path = \"/content/test_gt/test_gt/html_code/\""
      ],
      "metadata": {
        "id": "C-9lH7EyFKYJ"
      },
      "execution_count": null,
      "outputs": []
    },
    {
      "cell_type": "code",
      "source": [
        "file_name = list_image[2120]\n",
        "image = Image.open(image_path + file_name + '.jpg')\n",
        "with open(html_path + file_name + '.html', 'r') as f:\n",
        "    html_code = f.read()"
      ],
      "metadata": {
        "id": "AqhMbYsvE2ig"
      },
      "execution_count": null,
      "outputs": []
    },
    {
      "cell_type": "code",
      "source": [
        "plt.imshow(image)"
      ],
      "metadata": {
        "colab": {
          "base_uri": "https://localhost:8080/",
          "height": 195
        },
        "id": "HTWInHj-Fe6F",
        "outputId": "b443f91d-595b-42f9-d7d6-a7c6eae81faa"
      },
      "execution_count": null,
      "outputs": [
        {
          "output_type": "execute_result",
          "data": {
            "text/plain": [
              "<matplotlib.image.AxesImage at 0x797199a05410>"
            ]
          },
          "metadata": {},
          "execution_count": 107
        },
        {
          "output_type": "display_data",
          "data": {
            "text/plain": [
              "<Figure size 640x480 with 1 Axes>"
            ],
            "image/png": "[encoded data removed]"
          },
          "metadata": {}
        }
      ]
    },
    {
      "cell_type": "code",
      "source": [
        "threshold = 0.1\n",
        "imgae_split_input = np.array(image)\n",
        "image_test = imgae_split_input.copy()\n",
        "imgae_split_input_512 = cv2.resize(imgae_split_input, (SHAPE, SHAPE))\n",
        "image_input = imgae_split_input_512.astype('float')\n",
        "image_input = np.array(image_input,dtype= np.float32)/255.0\n",
        "image_tensor =  torch.from_numpy(image_input)\n",
        "image_tensor = image_tensor.permute(2,0,1)\n",
        "image_tensor = torch.unsqueeze(image_tensor, dim = 0)\n",
        "h_original , w_original =  image_test.shape[0], image_test.shape[1]               # image_test.height, image_test.width\n",
        "print(f' shape of original image {np.array(image_test).shape}')\n",
        "threshold_contour_col = 5\n",
        "if h_original < 100:\n",
        "    threshold_contour_row = 5\n",
        "else :\n",
        "    threshold_contour_row = 1\n",
        "a,b = split_task(image_tensor)\n",
        "row_list_ = get_row_pred_line(a)\n",
        "# row_list_ = sorted(row_list_)\n",
        "col_list_ = get_col_pred_line(b)\n",
        "# col_list_ = sorted(col_list_)\n",
        "# show_line_pred(row_list_, col_list_, imgae_split_input_512)\n",
        "row_list_ = sorted(row_list_)\n",
        "row_list_ = [x if x > 15 else 0 for x in row_list_]\n",
        "col_list_ = sorted(col_list_)\n",
        "col_list_ = [x if x > 5 else 0 for x in col_list_]\n",
        "cell_bbox_ = get_pred_bbox_list(row_list_ , col_list_)\n",
        "bbox_input =  torch.from_numpy(np.array([cell_bbox_]))\n",
        "row_pred, col_pred = merge_task(image_tensor, bbox_input)\n",
        "last_cell = bbox_input.numpy()[-1]\n",
        "num_row, num_col =  last_cell[-1][0] , last_cell[-1][1]\n",
        "row_merge , col_merge  = get_final_pred_merge(row_pred, col_pred, num_row, num_col)\n",
        "table_dict  = get_table(row_merge, col_merge, np.array(cell_bbox_) )\n",
        "show_final_result_v2(imgae_split_input , table_dict)"
      ],
      "metadata": {
        "colab": {
          "base_uri": "https://localhost:8080/",
          "height": 195
        },
        "id": "9PhW2cNA0HIo",
        "outputId": "223c469f-5ffe-4333-c9a7-62106445b663"
      },
      "execution_count": null,
      "outputs": [
        {
          "output_type": "stream",
          "name": "stdout",
          "text": [
            " shape of original image (86, 381, 3)\n"
          ]
        },
        {
          "output_type": "display_data",
          "data": {
            "text/plain": [
              "<Figure size 640x480 with 1 Axes>"
            ],
            "image/png": "[encoded data removed]"
          },
          "metadata": {}
        }
      ]
    },
    {
      "cell_type": "code",
      "source": [
        "col_merge"
      ],
      "metadata": {
        "colab": {
          "base_uri": "https://localhost:8080/"
        },
        "id": "pCbVPNQSo7_-",
        "outputId": "604b216a-67f4-413b-ab40-8a1be848200d"
      },
      "execution_count": null,
      "outputs": [
        {
          "output_type": "execute_result",
          "data": {
            "text/plain": [
              "array([[0, 0, 1, 1],\n",
              "       [0, 0, 0, 0],\n",
              "       [0, 0, 0, 0],\n",
              "       [0, 0, 0, 0],\n",
              "       [0, 0, 0, 0],\n",
              "       [0, 0, 0, 0]])"
            ]
          },
          "metadata": {},
          "execution_count": 109
        }
      ]
    },
    {
      "cell_type": "code",
      "source": [
        "c  = get_heatmap_split(b)"
      ],
      "metadata": {
        "colab": {
          "base_uri": "https://localhost:8080/",
          "height": 435
        },
        "id": "YtYjKQoA0eOd",
        "outputId": "9a694af6-0374-4013-bf83-c7158dad4edb"
      },
      "execution_count": null,
      "outputs": [
        {
          "output_type": "display_data",
          "data": {
            "text/plain": [
              "<Figure size 640x480 with 1 Axes>"
            ],
            "image/png": "[encoded data removed]"
          },
          "metadata": {}
        }
      ]
    },
    {
      "cell_type": "code",
      "source": [
        "row_merge"
      ],
      "metadata": {
        "colab": {
          "base_uri": "https://localhost:8080/"
        },
        "id": "uWFr5rvynS1Q",
        "outputId": "1b0bbf81-958a-4f04-a12f-0524106a3c8d"
      },
      "execution_count": null,
      "outputs": [
        {
          "output_type": "execute_result",
          "data": {
            "text/plain": [
              "array([[0, 0, 0, 0, 0],\n",
              "       [1, 0, 0, 0, 0],\n",
              "       [1, 0, 0, 0, 0],\n",
              "       [0, 0, 0, 0, 0],\n",
              "       [0, 0, 0, 0, 0],\n",
              "       [0, 0, 0, 0, 0],\n",
              "       [0, 0, 0, 0, 0],\n",
              "       [0, 0, 0, 0, 0],\n",
              "       [0, 0, 0, 0, 0],\n",
              "       [0, 0, 0, 0, 0],\n",
              "       [0, 0, 0, 0, 0],\n",
              "       [0, 0, 0, 0, 0],\n",
              "       [0, 0, 0, 0, 0],\n",
              "       [0, 0, 0, 0, 0]])"
            ]
          },
          "metadata": {},
          "execution_count": 201
        }
      ]
    },
    {
      "cell_type": "code",
      "source": [
        "html_pred = generate_html_table(table_dict)"
      ],
      "metadata": {
        "id": "i_YvZYWuG4D3"
      },
      "execution_count": null,
      "outputs": []
    },
    {
      "cell_type": "code",
      "source": [
        "html_code  = \"<html><body>\" + html_code + \"</body></html>\""
      ],
      "metadata": {
        "id": "ajucwGIvG7ul"
      },
      "execution_count": null,
      "outputs": []
    },
    {
      "cell_type": "code",
      "source": [
        "html_pred = \"<html><body>\" + html_pred + \"</body></html>\""
      ],
      "metadata": {
        "id": "zqucFyR-OLkr"
      },
      "execution_count": null,
      "outputs": []
    },
    {
      "cell_type": "code",
      "source": [
        "html_code.replace(\"table border='1'\", \"table\")"
      ],
      "metadata": {
        "colab": {
          "base_uri": "https://localhost:8080/",
          "height": 90
        },
        "id": "X8wuye4RSS9G",
        "outputId": "e5db69db-4233-44c2-fdf8-6e2c9fd5d1f7"
      },
      "execution_count": null,
      "outputs": [
        {
          "output_type": "execute_result",
          "data": {
            "text/plain": [
              "\"<html><body><table>\\n  <tr>\\n    <td rowspan='2'>In thousands</td>\\n    <td colspan='3'>For the year ended December 31,</td>\\n  </tr>\\n  <tr>\\n    <td>2011</td>\\n    <td>2010</td>\\n    <td>Percent Change</td>\\n  </tr>\\n  <tr>\\n    <td>Freight Segment</td>\\n    <td>$146,992</td>\\n    <td>$123,822</td>\\n    <td>18.7%</td>\\n  </tr>\\n  <tr>\\n    <td>Transit Segment</td>\\n    <td>114,390</td>\\n    <td>107,566</td>\\n    <td>6.3%</td>\\n  </tr>\\n  <tr>\\n    <td>Corporate</td>\\n    <td>38,341</td>\\n    <td>14,880</td>\\n    <td>157.7%</td>\\n  </tr>\\n  <tr>\\n    <td>Total operating expenses</td>\\n    <td>$299,723</td>\\n    <td>$246,268</td>\\n    <td>21.7%</td>\\n  </tr>\\n</table></body></html>\""
            ],
            "application/vnd.google.colaboratory.intrinsic+json": {
              "type": "string"
            }
          },
          "metadata": {},
          "execution_count": 113
        }
      ]
    },
    {
      "cell_type": "code",
      "source": [
        "html_pred.replace(\"table border='1'\", \"table\")"
      ],
      "metadata": {
        "colab": {
          "base_uri": "https://localhost:8080/",
          "height": 72
        },
        "id": "6yi7LK1lSWmr",
        "outputId": "71502339-4da7-4b0c-ffea-8391128a59a2"
      },
      "execution_count": null,
      "outputs": [
        {
          "output_type": "execute_result",
          "data": {
            "text/plain": [
              "\"<html><body><table>\\n  <tr>\\n    <td rowspan='2'></td>\\n    <td colspan='3'></td>\\n  </tr>\\n  <tr>\\n    <td></td>\\n    <td></td>\\n    <td></td>\\n  </tr>\\n  <tr>\\n    <td></td>\\n    <td></td>\\n    <td></td>\\n    <td></td>\\n  </tr>\\n  <tr>\\n    <td></td>\\n    <td></td>\\n    <td></td>\\n    <td></td>\\n  </tr>\\n  <tr>\\n    <td></td>\\n    <td></td>\\n    <td></td>\\n    <td></td>\\n  </tr>\\n  <tr>\\n    <td></td>\\n    <td></td>\\n    <td></td>\\n    <td></td>\\n  </tr>\\n</table></body></html>\""
            ],
            "application/vnd.google.colaboratory.intrinsic+json": {
              "type": "string"
            }
          },
          "metadata": {},
          "execution_count": 114
        }
      ]
    },
    {
      "cell_type": "code",
      "source": [
        "# Initialize the TEDS metric with tree_weight=1.0 for structure-only comparison\n",
        "teds = TEDS(tree_weight=1.0)\n",
        "\n",
        "# Compute the TEDS score (structure only)\n",
        "score = teds.compute_teds(html_pred, html_code)\n",
        "\n",
        "print(\"TEDS Score (Structure Only):\", score)"
      ],
      "metadata": {
        "colab": {
          "base_uri": "https://localhost:8080/",
          "height": 220
        },
        "id": "akPGt0KaHgjy",
        "outputId": "acc6f69d-4542-4f65-d408-4467d2c26da7"
      },
      "execution_count": null,
      "outputs": [
        {
          "output_type": "error",
          "ename": "TypeError",
          "evalue": "TEDS.__init__() got an unexpected keyword argument 'tree_weight'",
          "traceback": [
            "\u001b[0;31m---------------------------------------------------------------------------\u001b[0m",
            "\u001b[0;31mTypeError\u001b[0m                                 Traceback (most recent call last)",
            "\u001b[0;32m<ipython-input-80-f5c7dfcf7fce>\u001b[0m in \u001b[0;36m<cell line: 0>\u001b[0;34m()\u001b[0m\n\u001b[1;32m      1\u001b[0m \u001b[0;31m# Initialize the TEDS metric with tree_weight=1.0 for structure-only comparison\u001b[0m\u001b[0;34m\u001b[0m\u001b[0;34m\u001b[0m\u001b[0m\n\u001b[0;32m----> 2\u001b[0;31m \u001b[0mteds\u001b[0m \u001b[0;34m=\u001b[0m \u001b[0mTEDS\u001b[0m\u001b[0;34m(\u001b[0m\u001b[0mtree_weight\u001b[0m\u001b[0;34m=\u001b[0m\u001b[0;36m1.0\u001b[0m\u001b[0;34m)\u001b[0m\u001b[0;34m\u001b[0m\u001b[0;34m\u001b[0m\u001b[0m\n\u001b[0m\u001b[1;32m      3\u001b[0m \u001b[0;34m\u001b[0m\u001b[0m\n\u001b[1;32m      4\u001b[0m \u001b[0;31m# Compute the TEDS score (structure only)\u001b[0m\u001b[0;34m\u001b[0m\u001b[0;34m\u001b[0m\u001b[0m\n\u001b[1;32m      5\u001b[0m \u001b[0mscore\u001b[0m \u001b[0;34m=\u001b[0m \u001b[0mteds\u001b[0m\u001b[0;34m.\u001b[0m\u001b[0mcompute_teds\u001b[0m\u001b[0;34m(\u001b[0m\u001b[0mhtml_pred\u001b[0m\u001b[0;34m,\u001b[0m \u001b[0mhtml_code\u001b[0m\u001b[0;34m)\u001b[0m\u001b[0;34m\u001b[0m\u001b[0;34m\u001b[0m\u001b[0m\n",
            "\u001b[0;31mTypeError\u001b[0m: TEDS.__init__() got an unexpected keyword argument 'tree_weight'"
          ]
        }
      ]
    },
    {
      "cell_type": "code",
      "source": [
        "from IPython.core.display import display, HTML\n",
        "# html_code = generate_html_table(final_table_dict_2)\n",
        "display(HTML(html_code))"
      ],
      "metadata": {
        "colab": {
          "base_uri": "https://localhost:8080/",
          "height": 182
        },
        "id": "0BfbAtQjMTiP",
        "outputId": "18f45b84-4bf8-4e50-8bd9-fefcc8a5dc92"
      },
      "execution_count": null,
      "outputs": [
        {
          "output_type": "display_data",
          "data": {
            "text/plain": [
              "<IPython.core.display.HTML object>"
            ],
            "text/html": [
              "<html><body><table border='1'>\n",
              "  <tr>\n",
              "    <td rowspan='2'>Name</td>\n",
              "    <td colspan='2'>Option Awards</td>\n",
              "  </tr>\n",
              "  <tr>\n",
              "    <td>Number of Shares Acquired on Exercise</td>\n",
              "    <td>Value Realized Upon Exercise ($)</td>\n",
              "  </tr>\n",
              "  <tr>\n",
              "    <td>Lonnie M. Smith</td>\n",
              "    <td>22,500</td>\n",
              "    <td>5,353,797</td>\n",
              "  </tr>\n",
              "  <tr>\n",
              "    <td>Marshall L. Mohr</td>\n",
              "    <td>8,000</td>\n",
              "    <td>893,040</td>\n",
              "  </tr>\n",
              "  <tr>\n",
              "    <td>Gary S. Guthart</td>\n",
              "    <td>55,750</td>\n",
              "    <td>7,584,118</td>\n",
              "  </tr>\n",
              "  <tr>\n",
              "    <td>Jerome J. McNamara</td>\n",
              "    <td>40,160</td>\n",
              "    <td>5,957,938</td>\n",
              "  </tr>\n",
              "  <tr>\n",
              "    <td>John F. Runkel</td>\n",
              "    <td>23,459</td>\n",
              "    <td>1,183,247</td>\n",
              "  </tr>\n",
              "</table></body></html>"
            ]
          },
          "metadata": {}
        }
      ]
    },
    {
      "cell_type": "code",
      "source": [
        "!pip install table_recognition_metric"
      ],
      "metadata": {
        "colab": {
          "base_uri": "https://localhost:8080/"
        },
        "id": "zQp4ycvBRiXi",
        "outputId": "4274e50f-4a41-41c5-8ba1-090b326bc05c"
      },
      "execution_count": null,
      "outputs": [
        {
          "output_type": "stream",
          "name": "stdout",
          "text": [
            "Collecting table_recognition_metric\n",
            "  Downloading table_recognition_metric-0.0.4-py3-none-any.whl.metadata (849 bytes)\n",
            "Collecting apted>=1.0.3 (from table_recognition_metric)\n",
            "  Downloading apted-1.0.3-py3-none-any.whl.metadata (6.0 kB)\n",
            "Requirement already satisfied: lxml>=4.9.3 in /usr/local/lib/python3.11/dist-packages (from table_recognition_metric) (5.3.1)\n",
            "Collecting levenshtein (from table_recognition_metric)\n",
            "  Downloading levenshtein-0.26.1-cp311-cp311-manylinux_2_17_x86_64.manylinux2014_x86_64.whl.metadata (3.2 kB)\n",
            "Collecting rapidfuzz<4.0.0,>=3.9.0 (from levenshtein->table_recognition_metric)\n",
            "  Downloading rapidfuzz-3.12.1-cp311-cp311-manylinux_2_17_x86_64.manylinux2014_x86_64.whl.metadata (11 kB)\n",
            "Downloading table_recognition_metric-0.0.4-py3-none-any.whl (4.1 kB)\n",
            "Downloading apted-1.0.3-py3-none-any.whl (40 kB)\n",
            "\u001b[2K   \u001b[90m━━━━━━━━━━━━━━━━━━━━━━━━━━━━━━━━━━━━━━━━\u001b[0m \u001b[32m40.6/40.6 kB\u001b[0m \u001b[31m1.8 MB/s\u001b[0m eta \u001b[36m0:00:00\u001b[0m\n",
            "\u001b[?25hDownloading levenshtein-0.26.1-cp311-cp311-manylinux_2_17_x86_64.manylinux2014_x86_64.whl (162 kB)\n",
            "\u001b[2K   \u001b[90m━━━━━━━━━━━━━━━━━━━━━━━━━━━━━━━━━━━━━━━━\u001b[0m \u001b[32m162.7/162.7 kB\u001b[0m \u001b[31m6.8 MB/s\u001b[0m eta \u001b[36m0:00:00\u001b[0m\n",
            "\u001b[?25hDownloading rapidfuzz-3.12.1-cp311-cp311-manylinux_2_17_x86_64.manylinux2014_x86_64.whl (3.1 MB)\n",
            "\u001b[2K   \u001b[90m━━━━━━━━━━━━━━━━━━━━━━━━━━━━━━━━━━━━━━━━\u001b[0m \u001b[32m3.1/3.1 MB\u001b[0m \u001b[31m33.1 MB/s\u001b[0m eta \u001b[36m0:00:00\u001b[0m\n",
            "\u001b[?25hInstalling collected packages: apted, rapidfuzz, levenshtein, table_recognition_metric\n",
            "Successfully installed apted-1.0.3 levenshtein-0.26.1 rapidfuzz-3.12.1 table_recognition_metric-0.0.4\n"
          ]
        }
      ]
    },
    {
      "cell_type": "code",
      "source": [
        "from table_recognition_metric import TEDS\n",
        "\n",
        "teds = TEDS(structure_only=True)"
      ],
      "metadata": {
        "id": "hCTBOeNuMiHh"
      },
      "execution_count": null,
      "outputs": []
    },
    {
      "cell_type": "code",
      "source": [
        "score = teds(html_code, html_pred)\n",
        "print(score)"
      ],
      "metadata": {
        "colab": {
          "base_uri": "https://localhost:8080/"
        },
        "id": "p2dMfc3yRoF9",
        "outputId": "8391c338-c632-4784-af2e-f20dd66fd301"
      },
      "execution_count": null,
      "outputs": [
        {
          "output_type": "stream",
          "name": "stdout",
          "text": [
            "1.0\n"
          ]
        }
      ]
    },
    {
      "cell_type": "markdown",
      "source": [
        "# apply easy ocr"
      ],
      "metadata": {
        "id": "SkH-kabH5_W1"
      }
    },
    {
      "cell_type": "code",
      "source": [
        "!pip install paddlepaddle\n",
        "!pip install paddleocr"
      ],
      "metadata": {
        "id": "MCSVbMhW6Q2W",
        "colab": {
          "base_uri": "https://localhost:8080/"
        },
        "outputId": "8e2f10ba-5977-4479-c2b5-5b890ef7b2d6"
      },
      "execution_count": null,
      "outputs": [
        {
          "output_type": "stream",
          "name": "stdout",
          "text": [
            "Collecting paddlepaddle\n",
            "  Downloading paddlepaddle-2.6.2-cp311-cp311-manylinux1_x86_64.whl.metadata (8.6 kB)\n",
            "Requirement already satisfied: httpx in /usr/local/lib/python3.11/dist-packages (from paddlepaddle) (0.28.1)\n",
            "Requirement already satisfied: numpy>=1.13 in /usr/local/lib/python3.11/dist-packages (from paddlepaddle) (1.26.4)\n",
            "Requirement already satisfied: Pillow in /usr/local/lib/python3.11/dist-packages (from paddlepaddle) (11.1.0)\n",
            "Requirement already satisfied: decorator in /usr/local/lib/python3.11/dist-packages (from paddlepaddle) (4.4.2)\n",
            "Collecting astor (from paddlepaddle)\n",
            "  Downloading astor-0.8.1-py2.py3-none-any.whl.metadata (4.2 kB)\n",
            "Collecting opt-einsum==3.3.0 (from paddlepaddle)\n",
            "  Downloading opt_einsum-3.3.0-py3-none-any.whl.metadata (6.5 kB)\n",
            "Requirement already satisfied: protobuf>=3.20.2 in /usr/local/lib/python3.11/dist-packages (from paddlepaddle) (4.25.6)\n",
            "Requirement already satisfied: anyio in /usr/local/lib/python3.11/dist-packages (from httpx->paddlepaddle) (3.7.1)\n",
            "Requirement already satisfied: certifi in /usr/local/lib/python3.11/dist-packages (from httpx->paddlepaddle) (2025.1.31)\n",
            "Requirement already satisfied: httpcore==1.* in /usr/local/lib/python3.11/dist-packages (from httpx->paddlepaddle) (1.0.7)\n",
            "Requirement already satisfied: idna in /usr/local/lib/python3.11/dist-packages (from httpx->paddlepaddle) (3.10)\n",
            "Requirement already satisfied: h11<0.15,>=0.13 in /usr/local/lib/python3.11/dist-packages (from httpcore==1.*->httpx->paddlepaddle) (0.14.0)\n",
            "Requirement already satisfied: sniffio>=1.1 in /usr/local/lib/python3.11/dist-packages (from anyio->httpx->paddlepaddle) (1.3.1)\n",
            "Downloading paddlepaddle-2.6.2-cp311-cp311-manylinux1_x86_64.whl (126.0 MB)\n",
            "\u001b[2K   \u001b[90m━━━━━━━━━━━━━━━━━━━━━━━━━━━━━━━━━━━━━━━━\u001b[0m \u001b[32m126.0/126.0 MB\u001b[0m \u001b[31m5.9 MB/s\u001b[0m eta \u001b[36m0:00:00\u001b[0m\n",
            "\u001b[?25hDownloading opt_einsum-3.3.0-py3-none-any.whl (65 kB)\n",
            "\u001b[2K   \u001b[90m━━━━━━━━━━━━━━━━━━━━━━━━━━━━━━━━━━━━━━━━\u001b[0m \u001b[32m65.5/65.5 kB\u001b[0m \u001b[31m4.5 MB/s\u001b[0m eta \u001b[36m0:00:00\u001b[0m\n",
            "\u001b[?25hDownloading astor-0.8.1-py2.py3-none-any.whl (27 kB)\n",
            "Installing collected packages: opt-einsum, astor, paddlepaddle\n",
            "  Attempting uninstall: opt-einsum\n",
            "    Found existing installation: opt_einsum 3.4.0\n",
            "    Uninstalling opt_einsum-3.4.0:\n",
            "      Successfully uninstalled opt_einsum-3.4.0\n",
            "Successfully installed astor-0.8.1 opt-einsum-3.3.0 paddlepaddle-2.6.2\n",
            "Collecting paddleocr\n",
            "  Downloading paddleocr-2.9.1-py3-none-any.whl.metadata (8.5 kB)\n",
            "Requirement already satisfied: shapely in /usr/local/lib/python3.11/dist-packages (from paddleocr) (2.0.7)\n",
            "Requirement already satisfied: scikit-image in /usr/local/lib/python3.11/dist-packages (from paddleocr) (0.25.1)\n",
            "Requirement already satisfied: imgaug in /usr/local/lib/python3.11/dist-packages (from paddleocr) (0.4.0)\n",
            "Collecting pyclipper (from paddleocr)\n",
            "  Downloading pyclipper-1.3.0.post6-cp311-cp311-manylinux_2_17_x86_64.manylinux2014_x86_64.whl.metadata (9.0 kB)\n",
            "Collecting lmdb (from paddleocr)\n",
            "  Downloading lmdb-1.6.2-cp311-cp311-manylinux_2_17_x86_64.manylinux2014_x86_64.whl.metadata (1.1 kB)\n",
            "Requirement already satisfied: tqdm in /usr/local/lib/python3.11/dist-packages (from paddleocr) (4.67.1)\n",
            "Requirement already satisfied: numpy<2.0 in /usr/local/lib/python3.11/dist-packages (from paddleocr) (1.26.4)\n",
            "Collecting rapidfuzz (from paddleocr)\n",
            "  Downloading rapidfuzz-3.12.1-cp311-cp311-manylinux_2_17_x86_64.manylinux2014_x86_64.whl.metadata (11 kB)\n",
            "Requirement already satisfied: opencv-python in /usr/local/lib/python3.11/dist-packages (from paddleocr) (4.11.0.86)\n",
            "Requirement already satisfied: opencv-contrib-python in /usr/local/lib/python3.11/dist-packages (from paddleocr) (4.11.0.86)\n",
            "Requirement already satisfied: cython in /usr/local/lib/python3.11/dist-packages (from paddleocr) (3.0.11)\n",
            "Requirement already satisfied: Pillow in /usr/local/lib/python3.11/dist-packages (from paddleocr) (11.1.0)\n",
            "Requirement already satisfied: pyyaml in /usr/local/lib/python3.11/dist-packages (from paddleocr) (6.0.2)\n",
            "Collecting python-docx (from paddleocr)\n",
            "  Downloading python_docx-1.1.2-py3-none-any.whl.metadata (2.0 kB)\n",
            "Requirement already satisfied: beautifulsoup4 in /usr/local/lib/python3.11/dist-packages (from paddleocr) (4.13.3)\n",
            "Requirement already satisfied: fonttools>=4.24.0 in /usr/local/lib/python3.11/dist-packages (from paddleocr) (4.55.8)\n",
            "Collecting fire>=0.3.0 (from paddleocr)\n",
            "  Downloading fire-0.7.0.tar.gz (87 kB)\n",
            "\u001b[2K     \u001b[90m━━━━━━━━━━━━━━━━━━━━━━━━━━━━━━━━━━━━━━━━\u001b[0m \u001b[32m87.2/87.2 kB\u001b[0m \u001b[31m2.7 MB/s\u001b[0m eta \u001b[36m0:00:00\u001b[0m\n",
            "\u001b[?25h  Preparing metadata (setup.py) ... \u001b[?25l\u001b[?25hdone\n",
            "Requirement already satisfied: requests in /usr/local/lib/python3.11/dist-packages (from paddleocr) (2.32.3)\n",
            "Collecting albumentations==1.4.10 (from paddleocr)\n",
            "  Downloading albumentations-1.4.10-py3-none-any.whl.metadata (38 kB)\n",
            "Collecting albucore==0.0.13 (from paddleocr)\n",
            "  Downloading albucore-0.0.13-py3-none-any.whl.metadata (3.1 kB)\n",
            "Collecting tomli>=2.0.1 (from albucore==0.0.13->paddleocr)\n",
            "  Downloading tomli-2.2.1-cp311-cp311-manylinux_2_17_x86_64.manylinux2014_x86_64.whl.metadata (11 kB)\n",
            "Requirement already satisfied: typing-extensions>=4.9.0 in /usr/local/lib/python3.11/dist-packages (from albucore==0.0.13->paddleocr) (4.12.2)\n",
            "Requirement already satisfied: opencv-python-headless>=4.9.0.80 in /usr/local/lib/python3.11/dist-packages (from albucore==0.0.13->paddleocr) (4.11.0.86)\n",
            "Requirement already satisfied: scipy>=1.10.0 in /usr/local/lib/python3.11/dist-packages (from albumentations==1.4.10->paddleocr) (1.13.1)\n",
            "Requirement already satisfied: scikit-learn>=1.3.2 in /usr/local/lib/python3.11/dist-packages (from albumentations==1.4.10->paddleocr) (1.6.1)\n",
            "Requirement already satisfied: pydantic>=2.7.0 in /usr/local/lib/python3.11/dist-packages (from albumentations==1.4.10->paddleocr) (2.10.6)\n",
            "Requirement already satisfied: termcolor in /usr/local/lib/python3.11/dist-packages (from fire>=0.3.0->paddleocr) (2.5.0)\n",
            "Requirement already satisfied: networkx>=3.0 in /usr/local/lib/python3.11/dist-packages (from scikit-image->paddleocr) (3.4.2)\n",
            "Requirement already satisfied: imageio!=2.35.0,>=2.33 in /usr/local/lib/python3.11/dist-packages (from scikit-image->paddleocr) (2.37.0)\n",
            "Requirement already satisfied: tifffile>=2022.8.12 in /usr/local/lib/python3.11/dist-packages (from scikit-image->paddleocr) (2025.1.10)\n",
            "Requirement already satisfied: packaging>=21 in /usr/local/lib/python3.11/dist-packages (from scikit-image->paddleocr) (24.2)\n",
            "Requirement already satisfied: lazy-loader>=0.4 in /usr/local/lib/python3.11/dist-packages (from scikit-image->paddleocr) (0.4)\n",
            "Requirement already satisfied: soupsieve>1.2 in /usr/local/lib/python3.11/dist-packages (from beautifulsoup4->paddleocr) (2.6)\n",
            "Requirement already satisfied: six in /usr/local/lib/python3.11/dist-packages (from imgaug->paddleocr) (1.17.0)\n",
            "Requirement already satisfied: matplotlib in /usr/local/lib/python3.11/dist-packages (from imgaug->paddleocr) (3.10.0)\n",
            "Requirement already satisfied: lxml>=3.1.0 in /usr/local/lib/python3.11/dist-packages (from python-docx->paddleocr) (5.3.0)\n",
            "Requirement already satisfied: charset-normalizer<4,>=2 in /usr/local/lib/python3.11/dist-packages (from requests->paddleocr) (3.4.1)\n",
            "Requirement already satisfied: idna<4,>=2.5 in /usr/local/lib/python3.11/dist-packages (from requests->paddleocr) (3.10)\n",
            "Requirement already satisfied: urllib3<3,>=1.21.1 in /usr/local/lib/python3.11/dist-packages (from requests->paddleocr) (2.3.0)\n",
            "Requirement already satisfied: certifi>=2017.4.17 in /usr/local/lib/python3.11/dist-packages (from requests->paddleocr) (2025.1.31)\n",
            "Requirement already satisfied: annotated-types>=0.6.0 in /usr/local/lib/python3.11/dist-packages (from pydantic>=2.7.0->albumentations==1.4.10->paddleocr) (0.7.0)\n",
            "Requirement already satisfied: pydantic-core==2.27.2 in /usr/local/lib/python3.11/dist-packages (from pydantic>=2.7.0->albumentations==1.4.10->paddleocr) (2.27.2)\n",
            "Requirement already satisfied: joblib>=1.2.0 in /usr/local/lib/python3.11/dist-packages (from scikit-learn>=1.3.2->albumentations==1.4.10->paddleocr) (1.4.2)\n",
            "Requirement already satisfied: threadpoolctl>=3.1.0 in /usr/local/lib/python3.11/dist-packages (from scikit-learn>=1.3.2->albumentations==1.4.10->paddleocr) (3.5.0)\n",
            "Requirement already satisfied: contourpy>=1.0.1 in /usr/local/lib/python3.11/dist-packages (from matplotlib->imgaug->paddleocr) (1.3.1)\n",
            "Requirement already satisfied: cycler>=0.10 in /usr/local/lib/python3.11/dist-packages (from matplotlib->imgaug->paddleocr) (0.12.1)\n",
            "Requirement already satisfied: kiwisolver>=1.3.1 in /usr/local/lib/python3.11/dist-packages (from matplotlib->imgaug->paddleocr) (1.4.8)\n",
            "Requirement already satisfied: pyparsing>=2.3.1 in /usr/local/lib/python3.11/dist-packages (from matplotlib->imgaug->paddleocr) (3.2.1)\n",
            "Requirement already satisfied: python-dateutil>=2.7 in /usr/local/lib/python3.11/dist-packages (from matplotlib->imgaug->paddleocr) (2.8.2)\n",
            "Downloading paddleocr-2.9.1-py3-none-any.whl (544 kB)\n",
            "\u001b[2K   \u001b[90m━━━━━━━━━━━━━━━━━━━━━━━━━━━━━━━━━━━━━━━━\u001b[0m \u001b[32m544.7/544.7 kB\u001b[0m \u001b[31m13.1 MB/s\u001b[0m eta \u001b[36m0:00:00\u001b[0m\n",
            "\u001b[?25hDownloading albucore-0.0.13-py3-none-any.whl (8.5 kB)\n",
            "Downloading albumentations-1.4.10-py3-none-any.whl (161 kB)\n",
            "\u001b[2K   \u001b[90m━━━━━━━━━━━━━━━━━━━━━━━━━━━━━━━━━━━━━━━━\u001b[0m \u001b[32m161.9/161.9 kB\u001b[0m \u001b[31m7.3 MB/s\u001b[0m eta \u001b[36m0:00:00\u001b[0m\n",
            "\u001b[?25hDownloading lmdb-1.6.2-cp311-cp311-manylinux_2_17_x86_64.manylinux2014_x86_64.whl (297 kB)\n",
            "\u001b[2K   \u001b[90m━━━━━━━━━━━━━━━━━━━━━━━━━━━━━━━━━━━━━━━━\u001b[0m \u001b[32m297.8/297.8 kB\u001b[0m \u001b[31m18.3 MB/s\u001b[0m eta \u001b[36m0:00:00\u001b[0m\n",
            "\u001b[?25hDownloading pyclipper-1.3.0.post6-cp311-cp311-manylinux_2_17_x86_64.manylinux2014_x86_64.whl (969 kB)\n",
            "\u001b[2K   \u001b[90m━━━━━━━━━━━━━━━━━━━━━━━━━━━━━━━━━━━━━━━━\u001b[0m \u001b[32m969.6/969.6 kB\u001b[0m \u001b[31m30.5 MB/s\u001b[0m eta \u001b[36m0:00:00\u001b[0m\n",
            "\u001b[?25hDownloading python_docx-1.1.2-py3-none-any.whl (244 kB)\n",
            "\u001b[2K   \u001b[90m━━━━━━━━━━━━━━━━━━━━━━━━━━━━━━━━━━━━━━━━\u001b[0m \u001b[32m244.3/244.3 kB\u001b[0m \u001b[31m17.6 MB/s\u001b[0m eta \u001b[36m0:00:00\u001b[0m\n",
            "\u001b[?25hDownloading rapidfuzz-3.12.1-cp311-cp311-manylinux_2_17_x86_64.manylinux2014_x86_64.whl (3.1 MB)\n",
            "\u001b[2K   \u001b[90m━━━━━━━━━━━━━━━━━━━━━━━━━━━━━━━━━━━━━━━━\u001b[0m \u001b[32m3.1/3.1 MB\u001b[0m \u001b[31m59.6 MB/s\u001b[0m eta \u001b[36m0:00:00\u001b[0m\n",
            "\u001b[?25hDownloading tomli-2.2.1-cp311-cp311-manylinux_2_17_x86_64.manylinux2014_x86_64.whl (236 kB)\n",
            "\u001b[2K   \u001b[90m━━━━━━━━━━━━━━━━━━━━━━━━━━━━━━━━━━━━━━━━\u001b[0m \u001b[32m236.0/236.0 kB\u001b[0m \u001b[31m16.8 MB/s\u001b[0m eta \u001b[36m0:00:00\u001b[0m\n",
            "\u001b[?25hBuilding wheels for collected packages: fire\n",
            "  Building wheel for fire (setup.py) ... \u001b[?25l\u001b[?25hdone\n",
            "  Created wheel for fire: filename=fire-0.7.0-py3-none-any.whl size=114249 sha256=a0eea7412667f4e10e68e61e12c3e481baea1bf999406277c2a0f98c75224f1b\n",
            "  Stored in directory: /root/.cache/pip/wheels/46/54/24/1624fd5b8674eb1188623f7e8e17cdf7c0f6c24b609dfb8a89\n",
            "Successfully built fire\n",
            "Installing collected packages: pyclipper, lmdb, tomli, rapidfuzz, python-docx, fire, albucore, albumentations, paddleocr\n",
            "  Attempting uninstall: albucore\n",
            "    Found existing installation: albucore 0.0.23\n",
            "    Uninstalling albucore-0.0.23:\n",
            "      Successfully uninstalled albucore-0.0.23\n",
            "  Attempting uninstall: albumentations\n",
            "    Found existing installation: albumentations 2.0.3\n",
            "    Uninstalling albumentations-2.0.3:\n",
            "      Successfully uninstalled albumentations-2.0.3\n",
            "Successfully installed albucore-0.0.13 albumentations-1.4.10 fire-0.7.0 lmdb-1.6.2 paddleocr-2.9.1 pyclipper-1.3.0.post6 python-docx-1.1.2 rapidfuzz-3.12.1 tomli-2.2.1\n"
          ]
        }
      ]
    },
    {
      "cell_type": "code",
      "source": [
        "from paddleocr import PaddleOCR, draw_ocr\n",
        "from PIL import Image\n",
        "import numpy as np\n",
        "import matplotlib.pyplot as plt\n",
        "from google.colab import files"
      ],
      "metadata": {
        "id": "oNfvcAWXlmNL"
      },
      "execution_count": null,
      "outputs": []
    },
    {
      "cell_type": "code",
      "source": [
        "ocr = PaddleOCR(use_angle_cls=True, lang=\"en\")"
      ],
      "metadata": {
        "colab": {
          "base_uri": "https://localhost:8080/"
        },
        "id": "DxMQ3UTll2oZ",
        "outputId": "f88c2db8-abe1-4308-f473-879c3a2dfd30"
      },
      "execution_count": null,
      "outputs": [
        {
          "output_type": "stream",
          "name": "stdout",
          "text": [
            "download https://paddleocr.bj.bcebos.com/PP-OCRv3/english/en_PP-OCRv3_det_infer.tar to /root/.paddleocr/whl/det/en/en_PP-OCRv3_det_infer/en_PP-OCRv3_det_infer.tar\n"
          ]
        },
        {
          "output_type": "stream",
          "name": "stderr",
          "text": [
            "100%|██████████| 3910/3910 [00:17<00:00, 222.98it/s] \n"
          ]
        },
        {
          "output_type": "stream",
          "name": "stdout",
          "text": [
            "download https://paddleocr.bj.bcebos.com/PP-OCRv4/english/en_PP-OCRv4_rec_infer.tar to /root/.paddleocr/whl/rec/en/en_PP-OCRv4_rec_infer/en_PP-OCRv4_rec_infer.tar\n"
          ]
        },
        {
          "output_type": "stream",
          "name": "stderr",
          "text": [
            "100%|██████████| 10000/10000 [00:17<00:00, 566.30it/s]\n"
          ]
        },
        {
          "output_type": "stream",
          "name": "stdout",
          "text": [
            "download https://paddleocr.bj.bcebos.com/dygraph_v2.0/ch/ch_ppocr_mobile_v2.0_cls_infer.tar to /root/.paddleocr/whl/cls/ch_ppocr_mobile_v2.0_cls_infer/ch_ppocr_mobile_v2.0_cls_infer.tar\n"
          ]
        },
        {
          "output_type": "stream",
          "name": "stderr",
          "text": [
            "100%|██████████| 2138/2138 [00:14<00:00, 144.07it/s]"
          ]
        },
        {
          "output_type": "stream",
          "name": "stdout",
          "text": [
            "[2025/02/09 07:06:17] ppocr DEBUG: Namespace(help='==SUPPRESS==', use_gpu=False, use_xpu=False, use_npu=False, use_mlu=False, ir_optim=True, use_tensorrt=False, min_subgraph_size=15, precision='fp32', gpu_mem=500, gpu_id=0, image_dir=None, page_num=0, det_algorithm='DB', det_model_dir='/root/.paddleocr/whl/det/en/en_PP-OCRv3_det_infer', det_limit_side_len=960, det_limit_type='max', det_box_type='quad', det_db_thresh=0.3, det_db_box_thresh=0.6, det_db_unclip_ratio=1.5, max_batch_size=10, use_dilation=False, det_db_score_mode='fast', det_east_score_thresh=0.8, det_east_cover_thresh=0.1, det_east_nms_thresh=0.2, det_sast_score_thresh=0.5, det_sast_nms_thresh=0.2, det_pse_thresh=0, det_pse_box_thresh=0.85, det_pse_min_area=16, det_pse_scale=1, scales=[8, 16, 32], alpha=1.0, beta=1.0, fourier_degree=5, rec_algorithm='SVTR_LCNet', rec_model_dir='/root/.paddleocr/whl/rec/en/en_PP-OCRv4_rec_infer', rec_image_inverse=True, rec_image_shape='3, 48, 320', rec_batch_num=6, max_text_length=25, rec_char_dict_path='/usr/local/lib/python3.11/dist-packages/paddleocr/ppocr/utils/en_dict.txt', use_space_char=True, vis_font_path='./doc/fonts/simfang.ttf', drop_score=0.5, e2e_algorithm='PGNet', e2e_model_dir=None, e2e_limit_side_len=768, e2e_limit_type='max', e2e_pgnet_score_thresh=0.5, e2e_char_dict_path='./ppocr/utils/ic15_dict.txt', e2e_pgnet_valid_set='totaltext', e2e_pgnet_mode='fast', use_angle_cls=True, cls_model_dir='/root/.paddleocr/whl/cls/ch_ppocr_mobile_v2.0_cls_infer', cls_image_shape='3, 48, 192', label_list=['0', '180'], cls_batch_num=6, cls_thresh=0.9, enable_mkldnn=False, cpu_threads=10, use_pdserving=False, warmup=False, sr_model_dir=None, sr_image_shape='3, 32, 128', sr_batch_num=1, draw_img_save_dir='./inference_results', save_crop_res=False, crop_res_save_dir='./output', use_mp=False, total_process_num=1, process_id=0, benchmark=False, save_log_path='./log_output/', show_log=True, use_onnx=False, return_word_box=False, output='./output', table_max_len=488, table_algorithm='TableAttn', table_model_dir=None, merge_no_span_structure=True, table_char_dict_path=None, formula_algorithm='LaTeXOCR', formula_model_dir=None, formula_char_dict_path=None, formula_batch_num=1, layout_model_dir=None, layout_dict_path=None, layout_score_threshold=0.5, layout_nms_threshold=0.5, kie_algorithm='LayoutXLM', ser_model_dir=None, re_model_dir=None, use_visual_backbone=True, ser_dict_path='../train_data/XFUND/class_list_xfun.txt', ocr_order_method=None, mode='structure', image_orientation=False, layout=True, table=True, formula=False, ocr=True, recovery=False, recovery_to_markdown=False, use_pdf2docx_api=False, invert=False, binarize=False, alphacolor=(255, 255, 255), lang='en', det=True, rec=True, type='ocr', savefile=False, ocr_version='PP-OCRv4', structure_version='PP-StructureV2')\n"
          ]
        },
        {
          "output_type": "stream",
          "name": "stderr",
          "text": [
            "\n"
          ]
        }
      ]
    },
    {
      "cell_type": "code",
      "source": [
        "final_table_dict  = []\n",
        "\n",
        "for cell in table_dict:\n",
        "  cell_dict = dict()\n",
        "  bbox = cell['bbox']\n",
        "  x1_512 , y1_512 , x2_512, y2_512 = bbox\n",
        "  x1_ori = int(x1_512/512 * w_original)\n",
        "  y1_ori = int(y1_512/512 * h_original)\n",
        "  x2_ori = int(x2_512/512 * w_original)\n",
        "  y2_ori = int(y2_512/512 * h_original)\n",
        "  row_cnt = cell['row']\n",
        "  col_cnt = cell['col']\n",
        "  content = ''\n",
        "  cell_dict['row'] = row_cnt\n",
        "  cell_dict['col'] = col_cnt\n",
        "  cell_dict['bbox'] = [x1_ori, y1_ori, x2_ori, y2_ori]\n",
        "  final_table_dict.append(cell_dict)\n"
      ],
      "metadata": {
        "id": "q1xptlt16gZ-"
      },
      "execution_count": null,
      "outputs": []
    },
    {
      "cell_type": "code",
      "source": [
        "table_image_original = imgae_split_input.copy()\n",
        "# plt.imshow(table_image_original)\n",
        "# plt.show()\n",
        "final_table_dict_2 = []\n",
        "for cell in final_table_dict:\n",
        "  cell_dict = dict()\n",
        "  bbox = cell['bbox']\n",
        "  x1, y1, x2, y2 = bbox\n",
        "  row_cnt = cell['row']\n",
        "  col_cnt = cell['col']\n",
        "  content = ''\n",
        "  cell_dict['row'] = row_cnt\n",
        "  cell_dict['col'] = col_cnt\n",
        "  # print(f' num :{row_cnt},  {col_cnt}')\n",
        "  # cell_dict['bbox'] = [x1, y1, x2, y2]\n",
        "  sub_image = table_image_original[y1:y2, x1:x2]\n",
        "  # plt.imshow(sub_image)\n",
        "  # plt.show()\n",
        "  scale_factor = 4  # Adjust as needed\n",
        "  resized_image = cv2.resize(sub_image, (sub_image.shape[1] * scale_factor, sub_image.shape[0] * scale_factor), interpolation=cv2.INTER_CUBIC)\n",
        "\n",
        "  result = ocr.ocr(resized_image, cls=True)\n",
        "  # check if result not empty\n",
        "  content = ''\n",
        "  if not result[0]:\n",
        "    cell_dict['content'] = content\n",
        "    final_table_dict_2.append(cell_dict)\n",
        "  else:\n",
        "    for line in result[0]:\n",
        "        # print(f'ocr : {line}')  # Extracted text\n",
        "        # content_box = str(line[1][0])\n",
        "\n",
        "        content  = content + ' ' + str(line[1][0])\n",
        "        # for line in result[0]:\n",
        "        # for text in line:\n",
        "        #   print(f' text :{text}')\n",
        "        #   content = content + ' ' + str(text[1][0])\n",
        "        cell_dict['content'] = content\n",
        "        final_table_dict_2.append(cell_dict)\n",
        "        # cell_dict['content'] = content_box\n",
        "        # final_table_dict_2.append(cell_dict)\n",
        "\n"
      ],
      "metadata": {
        "colab": {
          "base_uri": "https://localhost:8080/"
        },
        "id": "cics6PsE6VxP",
        "outputId": "2d81d3f5-3f54-44cd-ef8d-e71f285f3e30"
      },
      "execution_count": null,
      "outputs": [
        {
          "output_type": "stream",
          "name": "stdout",
          "text": [
            "[2025/02/09 07:54:18] ppocr DEBUG: dt_boxes num : 1, elapsed : 0.1510162353515625\n",
            "[2025/02/09 07:54:18] ppocr DEBUG: cls num  : 1, elapsed : 0.019798755645751953\n",
            "[2025/02/09 07:54:18] ppocr DEBUG: rec_res num  : 1, elapsed : 0.17590951919555664\n",
            "[2025/02/09 07:54:19] ppocr DEBUG: dt_boxes num : 1, elapsed : 0.1287856101989746\n",
            "[2025/02/09 07:54:19] ppocr DEBUG: cls num  : 1, elapsed : 0.02045154571533203\n",
            "[2025/02/09 07:54:19] ppocr DEBUG: rec_res num  : 1, elapsed : 0.08262085914611816\n",
            "[2025/02/09 07:54:19] ppocr DEBUG: dt_boxes num : 1, elapsed : 0.13761639595031738\n",
            "[2025/02/09 07:54:19] ppocr DEBUG: cls num  : 1, elapsed : 0.01938152313232422\n",
            "[2025/02/09 07:54:19] ppocr DEBUG: rec_res num  : 1, elapsed : 0.2355647087097168\n",
            "[2025/02/09 07:54:19] ppocr DEBUG: dt_boxes num : 0, elapsed : 0.20932388305664062\n",
            "[2025/02/09 07:54:19] ppocr DEBUG: cls num  : 0, elapsed : 0\n",
            "[2025/02/09 07:54:19] ppocr DEBUG: rec_res num  : 0, elapsed : 2.1457672119140625e-06\n",
            "[2025/02/09 07:54:19] ppocr DEBUG: dt_boxes num : 0, elapsed : 0.021874427795410156\n",
            "[2025/02/09 07:54:19] ppocr DEBUG: cls num  : 0, elapsed : 0\n",
            "[2025/02/09 07:54:19] ppocr DEBUG: rec_res num  : 0, elapsed : 2.1457672119140625e-06\n",
            "[2025/02/09 07:54:19] ppocr DEBUG: dt_boxes num : 1, elapsed : 0.09521079063415527\n",
            "[2025/02/09 07:54:20] ppocr DEBUG: cls num  : 1, elapsed : 0.018839359283447266\n",
            "[2025/02/09 07:54:20] ppocr DEBUG: rec_res num  : 1, elapsed : 0.08257865905761719\n",
            "[2025/02/09 07:54:20] ppocr DEBUG: dt_boxes num : 1, elapsed : 0.08611059188842773\n",
            "[2025/02/09 07:54:20] ppocr DEBUG: cls num  : 1, elapsed : 0.02040719985961914\n",
            "[2025/02/09 07:54:20] ppocr DEBUG: rec_res num  : 1, elapsed : 0.08190560340881348\n",
            "[2025/02/09 07:54:20] ppocr DEBUG: dt_boxes num : 1, elapsed : 0.0963599681854248\n",
            "[2025/02/09 07:54:20] ppocr DEBUG: cls num  : 1, elapsed : 0.018598079681396484\n",
            "[2025/02/09 07:54:20] ppocr DEBUG: rec_res num  : 1, elapsed : 0.08118200302124023\n",
            "[2025/02/09 07:54:20] ppocr DEBUG: dt_boxes num : 1, elapsed : 0.025152206420898438\n",
            "[2025/02/09 07:54:20] ppocr DEBUG: cls num  : 1, elapsed : 0.01804494857788086\n",
            "[2025/02/09 07:54:20] ppocr DEBUG: rec_res num  : 1, elapsed : 0.08093595504760742\n",
            "[2025/02/09 07:54:20] ppocr DEBUG: dt_boxes num : 1, elapsed : 0.02805948257446289\n",
            "[2025/02/09 07:54:20] ppocr DEBUG: cls num  : 1, elapsed : 0.02054905891418457\n",
            "[2025/02/09 07:54:20] ppocr DEBUG: rec_res num  : 1, elapsed : 0.08235788345336914\n",
            "[2025/02/09 07:54:20] ppocr DEBUG: dt_boxes num : 1, elapsed : 0.0383448600769043\n",
            "[2025/02/09 07:54:20] ppocr DEBUG: cls num  : 1, elapsed : 0.020062685012817383\n",
            "[2025/02/09 07:54:20] ppocr DEBUG: rec_res num  : 1, elapsed : 0.08072233200073242\n",
            "[2025/02/09 07:54:20] ppocr DEBUG: dt_boxes num : 1, elapsed : 0.025746583938598633\n",
            "[2025/02/09 07:54:20] ppocr DEBUG: cls num  : 1, elapsed : 0.019791364669799805\n",
            "[2025/02/09 07:54:21] ppocr DEBUG: rec_res num  : 1, elapsed : 0.08181285858154297\n",
            "[2025/02/09 07:54:21] ppocr DEBUG: dt_boxes num : 2, elapsed : 0.026815414428710938\n",
            "[2025/02/09 07:54:21] ppocr DEBUG: cls num  : 2, elapsed : 0.044402122497558594\n",
            "[2025/02/09 07:54:21] ppocr DEBUG: rec_res num  : 2, elapsed : 0.34821391105651855\n",
            "[2025/02/09 07:54:21] ppocr DEBUG: dt_boxes num : 1, elapsed : 0.06896257400512695\n",
            "[2025/02/09 07:54:21] ppocr DEBUG: cls num  : 1, elapsed : 0.023769140243530273\n",
            "[2025/02/09 07:54:21] ppocr DEBUG: rec_res num  : 1, elapsed : 0.10014986991882324\n",
            "[2025/02/09 07:54:21] ppocr DEBUG: dt_boxes num : 1, elapsed : 0.09495353698730469\n",
            "[2025/02/09 07:54:21] ppocr DEBUG: cls num  : 1, elapsed : 0.02988719940185547\n",
            "[2025/02/09 07:54:21] ppocr DEBUG: rec_res num  : 1, elapsed : 0.10614609718322754\n",
            "[2025/02/09 07:54:22] ppocr DEBUG: dt_boxes num : 1, elapsed : 0.0922238826751709\n",
            "[2025/02/09 07:54:22] ppocr DEBUG: cls num  : 1, elapsed : 0.021959781646728516\n",
            "[2025/02/09 07:54:22] ppocr DEBUG: rec_res num  : 1, elapsed : 0.09742426872253418\n",
            "[2025/02/09 07:54:22] ppocr DEBUG: dt_boxes num : 1, elapsed : 0.027681589126586914\n",
            "[2025/02/09 07:54:22] ppocr DEBUG: cls num  : 1, elapsed : 0.0213925838470459\n",
            "[2025/02/09 07:54:22] ppocr DEBUG: rec_res num  : 1, elapsed : 0.17657184600830078\n",
            "[2025/02/09 07:54:22] ppocr DEBUG: dt_boxes num : 1, elapsed : 0.10486769676208496\n",
            "[2025/02/09 07:54:22] ppocr DEBUG: cls num  : 1, elapsed : 0.02521800994873047\n",
            "[2025/02/09 07:54:22] ppocr DEBUG: rec_res num  : 1, elapsed : 0.09538578987121582\n",
            "[2025/02/09 07:54:22] ppocr DEBUG: dt_boxes num : 1, elapsed : 0.09844446182250977\n",
            "[2025/02/09 07:54:22] ppocr DEBUG: cls num  : 1, elapsed : 0.024294376373291016\n",
            "[2025/02/09 07:54:22] ppocr DEBUG: rec_res num  : 1, elapsed : 0.09949707984924316\n",
            "[2025/02/09 07:54:22] ppocr DEBUG: dt_boxes num : 1, elapsed : 0.13469433784484863\n",
            "[2025/02/09 07:54:23] ppocr DEBUG: cls num  : 1, elapsed : 0.0337979793548584\n",
            "[2025/02/09 07:54:23] ppocr DEBUG: rec_res num  : 1, elapsed : 0.14158248901367188\n",
            "[2025/02/09 07:54:23] ppocr DEBUG: dt_boxes num : 1, elapsed : 0.3077104091644287\n",
            "[2025/02/09 07:54:23] ppocr DEBUG: cls num  : 1, elapsed : 0.026752471923828125\n",
            "[2025/02/09 07:54:23] ppocr DEBUG: rec_res num  : 1, elapsed : 0.481886625289917\n",
            "[2025/02/09 07:54:24] ppocr DEBUG: dt_boxes num : 1, elapsed : 0.03992819786071777\n",
            "[2025/02/09 07:54:24] ppocr DEBUG: cls num  : 1, elapsed : 0.026233673095703125\n",
            "[2025/02/09 07:54:24] ppocr DEBUG: rec_res num  : 1, elapsed : 0.11572766304016113\n",
            "[2025/02/09 07:54:24] ppocr DEBUG: dt_boxes num : 1, elapsed : 0.03719520568847656\n",
            "[2025/02/09 07:54:24] ppocr DEBUG: cls num  : 1, elapsed : 0.024297475814819336\n",
            "[2025/02/09 07:54:24] ppocr DEBUG: rec_res num  : 1, elapsed : 0.12774944305419922\n",
            "[2025/02/09 07:54:24] ppocr DEBUG: dt_boxes num : 1, elapsed : 0.044274091720581055\n",
            "[2025/02/09 07:54:24] ppocr DEBUG: cls num  : 1, elapsed : 0.030169010162353516\n",
            "[2025/02/09 07:54:24] ppocr DEBUG: rec_res num  : 1, elapsed : 0.13183116912841797\n",
            "[2025/02/09 07:54:24] ppocr DEBUG: dt_boxes num : 2, elapsed : 0.0440821647644043\n",
            "[2025/02/09 07:54:24] ppocr DEBUG: cls num  : 2, elapsed : 0.06410574913024902\n",
            "[2025/02/09 07:54:25] ppocr DEBUG: rec_res num  : 2, elapsed : 0.3663768768310547\n",
            "[2025/02/09 07:54:25] ppocr DEBUG: dt_boxes num : 1, elapsed : 0.044708967208862305\n",
            "[2025/02/09 07:54:25] ppocr DEBUG: cls num  : 1, elapsed : 0.028095483779907227\n",
            "[2025/02/09 07:54:25] ppocr DEBUG: rec_res num  : 1, elapsed : 0.13065028190612793\n",
            "[2025/02/09 07:54:25] ppocr DEBUG: dt_boxes num : 1, elapsed : 0.042172908782958984\n",
            "[2025/02/09 07:54:25] ppocr DEBUG: cls num  : 1, elapsed : 0.031516313552856445\n",
            "[2025/02/09 07:54:25] ppocr DEBUG: rec_res num  : 1, elapsed : 0.13355684280395508\n",
            "[2025/02/09 07:54:25] ppocr DEBUG: dt_boxes num : 0, elapsed : 0.04013800621032715\n",
            "[2025/02/09 07:54:25] ppocr DEBUG: cls num  : 0, elapsed : 0\n",
            "[2025/02/09 07:54:25] ppocr DEBUG: rec_res num  : 0, elapsed : 2.384185791015625e-06\n",
            "[2025/02/09 07:54:25] ppocr DEBUG: dt_boxes num : 1, elapsed : 0.07245755195617676\n",
            "[2025/02/09 07:54:25] ppocr DEBUG: cls num  : 1, elapsed : 0.028702259063720703\n",
            "[2025/02/09 07:54:25] ppocr DEBUG: rec_res num  : 1, elapsed : 0.24330997467041016\n",
            "[2025/02/09 07:54:25] ppocr DEBUG: dt_boxes num : 1, elapsed : 0.04354429244995117\n",
            "[2025/02/09 07:54:26] ppocr DEBUG: cls num  : 1, elapsed : 0.0334467887878418\n",
            "[2025/02/09 07:54:26] ppocr DEBUG: rec_res num  : 1, elapsed : 0.15306639671325684\n",
            "[2025/02/09 07:54:26] ppocr DEBUG: dt_boxes num : 1, elapsed : 0.04637789726257324\n",
            "[2025/02/09 07:54:26] ppocr DEBUG: cls num  : 1, elapsed : 0.03873801231384277\n",
            "[2025/02/09 07:54:26] ppocr DEBUG: rec_res num  : 1, elapsed : 0.1403660774230957\n",
            "[2025/02/09 07:54:26] ppocr DEBUG: dt_boxes num : 0, elapsed : 0.03725075721740723\n",
            "[2025/02/09 07:54:26] ppocr DEBUG: cls num  : 0, elapsed : 0\n",
            "[2025/02/09 07:54:26] ppocr DEBUG: rec_res num  : 0, elapsed : 2.384185791015625e-06\n",
            "[2025/02/09 07:54:26] ppocr DEBUG: dt_boxes num : 1, elapsed : 0.08202791213989258\n",
            "[2025/02/09 07:54:26] ppocr DEBUG: cls num  : 1, elapsed : 0.038811683654785156\n",
            "[2025/02/09 07:54:27] ppocr DEBUG: rec_res num  : 1, elapsed : 0.4379563331604004\n",
            "[2025/02/09 07:54:27] ppocr DEBUG: dt_boxes num : 1, elapsed : 0.04432177543640137\n",
            "[2025/02/09 07:54:27] ppocr DEBUG: cls num  : 1, elapsed : 0.03420376777648926\n",
            "[2025/02/09 07:54:27] ppocr DEBUG: rec_res num  : 1, elapsed : 0.14485573768615723\n",
            "[2025/02/09 07:54:27] ppocr DEBUG: dt_boxes num : 1, elapsed : 0.05294084548950195\n",
            "[2025/02/09 07:54:27] ppocr DEBUG: cls num  : 1, elapsed : 0.02918553352355957\n",
            "[2025/02/09 07:54:27] ppocr DEBUG: rec_res num  : 1, elapsed : 0.13178372383117676\n",
            "[2025/02/09 07:54:27] ppocr DEBUG: dt_boxes num : 0, elapsed : 0.039813995361328125\n",
            "[2025/02/09 07:54:27] ppocr DEBUG: cls num  : 0, elapsed : 0\n",
            "[2025/02/09 07:54:27] ppocr DEBUG: rec_res num  : 0, elapsed : 2.1457672119140625e-06\n",
            "[2025/02/09 07:54:27] ppocr DEBUG: dt_boxes num : 1, elapsed : 0.07499146461486816\n",
            "[2025/02/09 07:54:27] ppocr DEBUG: cls num  : 1, elapsed : 0.02998828887939453\n",
            "[2025/02/09 07:54:28] ppocr DEBUG: rec_res num  : 1, elapsed : 0.3648562431335449\n",
            "[2025/02/09 07:54:28] ppocr DEBUG: dt_boxes num : 1, elapsed : 0.04372096061706543\n",
            "[2025/02/09 07:54:28] ppocr DEBUG: cls num  : 1, elapsed : 0.03480982780456543\n",
            "[2025/02/09 07:54:28] ppocr DEBUG: rec_res num  : 1, elapsed : 0.1537773609161377\n",
            "[2025/02/09 07:54:28] ppocr DEBUG: dt_boxes num : 1, elapsed : 0.04253721237182617\n",
            "[2025/02/09 07:54:28] ppocr DEBUG: cls num  : 1, elapsed : 0.031761884689331055\n",
            "[2025/02/09 07:54:28] ppocr DEBUG: rec_res num  : 1, elapsed : 0.13711905479431152\n",
            "[2025/02/09 07:54:28] ppocr DEBUG: dt_boxes num : 1, elapsed : 0.04585146903991699\n",
            "[2025/02/09 07:54:28] ppocr DEBUG: cls num  : 1, elapsed : 0.03497004508972168\n",
            "[2025/02/09 07:54:28] ppocr DEBUG: rec_res num  : 1, elapsed : 0.1286921501159668\n",
            "[2025/02/09 07:54:28] ppocr DEBUG: dt_boxes num : 1, elapsed : 0.06213569641113281\n",
            "[2025/02/09 07:54:28] ppocr DEBUG: cls num  : 1, elapsed : 0.024705886840820312\n",
            "[2025/02/09 07:54:29] ppocr DEBUG: rec_res num  : 1, elapsed : 0.2930595874786377\n",
            "[2025/02/09 07:54:29] ppocr DEBUG: dt_boxes num : 1, elapsed : 0.03182101249694824\n",
            "[2025/02/09 07:54:29] ppocr DEBUG: cls num  : 1, elapsed : 0.021752357482910156\n",
            "[2025/02/09 07:54:29] ppocr DEBUG: rec_res num  : 1, elapsed : 0.1199331283569336\n",
            "[2025/02/09 07:54:29] ppocr DEBUG: dt_boxes num : 1, elapsed : 0.03283381462097168\n",
            "[2025/02/09 07:54:29] ppocr DEBUG: cls num  : 1, elapsed : 0.02209329605102539\n",
            "[2025/02/09 07:54:29] ppocr DEBUG: rec_res num  : 1, elapsed : 0.09193134307861328\n",
            "[2025/02/09 07:54:29] ppocr DEBUG: dt_boxes num : 1, elapsed : 0.03028273582458496\n",
            "[2025/02/09 07:54:29] ppocr DEBUG: cls num  : 1, elapsed : 0.021392822265625\n",
            "[2025/02/09 07:54:29] ppocr DEBUG: rec_res num  : 1, elapsed : 0.09448599815368652\n",
            "[2025/02/09 07:54:29] ppocr DEBUG: dt_boxes num : 0, elapsed : 0.13204717636108398\n",
            "[2025/02/09 07:54:29] ppocr DEBUG: cls num  : 0, elapsed : 0\n",
            "[2025/02/09 07:54:29] ppocr DEBUG: rec_res num  : 0, elapsed : 2.1457672119140625e-06\n",
            "[2025/02/09 07:54:29] ppocr DEBUG: dt_boxes num : 1, elapsed : 0.029917240142822266\n",
            "[2025/02/09 07:54:29] ppocr DEBUG: cls num  : 1, elapsed : 0.020714998245239258\n",
            "[2025/02/09 07:54:29] ppocr DEBUG: rec_res num  : 1, elapsed : 0.08657145500183105\n",
            "[2025/02/09 07:54:29] ppocr DEBUG: dt_boxes num : 1, elapsed : 0.027489662170410156\n",
            "[2025/02/09 07:54:29] ppocr DEBUG: cls num  : 1, elapsed : 0.020241737365722656\n",
            "[2025/02/09 07:54:30] ppocr DEBUG: rec_res num  : 1, elapsed : 0.07854127883911133\n",
            "[2025/02/09 07:54:30] ppocr DEBUG: dt_boxes num : 1, elapsed : 0.02712416648864746\n",
            "[2025/02/09 07:54:30] ppocr DEBUG: cls num  : 1, elapsed : 0.01747417449951172\n",
            "[2025/02/09 07:54:30] ppocr DEBUG: rec_res num  : 1, elapsed : 0.08327603340148926\n",
            "[2025/02/09 07:54:30] ppocr DEBUG: dt_boxes num : 2, elapsed : 0.04330849647521973\n",
            "[2025/02/09 07:54:30] ppocr DEBUG: cls num  : 2, elapsed : 0.04811239242553711\n",
            "[2025/02/09 07:54:30] ppocr DEBUG: rec_res num  : 2, elapsed : 0.6374154090881348\n",
            "[2025/02/09 07:54:30] ppocr DEBUG: dt_boxes num : 1, elapsed : 0.028829097747802734\n",
            "[2025/02/09 07:54:30] ppocr DEBUG: cls num  : 1, elapsed : 0.01787090301513672\n",
            "[2025/02/09 07:54:31] ppocr DEBUG: rec_res num  : 1, elapsed : 0.07868719100952148\n",
            "[2025/02/09 07:54:31] ppocr DEBUG: dt_boxes num : 1, elapsed : 0.025752782821655273\n",
            "[2025/02/09 07:54:31] ppocr DEBUG: cls num  : 1, elapsed : 0.01770806312561035\n",
            "[2025/02/09 07:54:31] ppocr DEBUG: rec_res num  : 1, elapsed : 0.0805819034576416\n",
            "[2025/02/09 07:54:31] ppocr DEBUG: dt_boxes num : 0, elapsed : 0.025686264038085938\n",
            "[2025/02/09 07:54:31] ppocr DEBUG: cls num  : 0, elapsed : 0\n",
            "[2025/02/09 07:54:31] ppocr DEBUG: rec_res num  : 0, elapsed : 1.9073486328125e-06\n",
            "[2025/02/09 07:54:31] ppocr DEBUG: dt_boxes num : 1, elapsed : 0.023482799530029297\n",
            "[2025/02/09 07:54:31] ppocr DEBUG: cls num  : 1, elapsed : 0.019208431243896484\n",
            "[2025/02/09 07:54:31] ppocr DEBUG: rec_res num  : 1, elapsed : 0.33275270462036133\n",
            "[2025/02/09 07:54:31] ppocr DEBUG: dt_boxes num : 1, elapsed : 0.02602243423461914\n",
            "[2025/02/09 07:54:31] ppocr DEBUG: cls num  : 1, elapsed : 0.023411273956298828\n",
            "[2025/02/09 07:54:31] ppocr DEBUG: rec_res num  : 1, elapsed : 0.09824800491333008\n",
            "[2025/02/09 07:54:31] ppocr DEBUG: dt_boxes num : 1, elapsed : 0.033255815505981445\n",
            "[2025/02/09 07:54:31] ppocr DEBUG: cls num  : 1, elapsed : 0.0215146541595459\n",
            "[2025/02/09 07:54:31] ppocr DEBUG: rec_res num  : 1, elapsed : 0.09303164482116699\n",
            "[2025/02/09 07:54:31] ppocr DEBUG: dt_boxes num : 1, elapsed : 0.03164839744567871\n",
            "[2025/02/09 07:54:31] ppocr DEBUG: cls num  : 1, elapsed : 0.024062156677246094\n",
            "[2025/02/09 07:54:32] ppocr DEBUG: rec_res num  : 1, elapsed : 0.0935049057006836\n"
          ]
        }
      ]
    },
    {
      "cell_type": "code",
      "source": [
        "final_table_dict_2"
      ],
      "metadata": {
        "colab": {
          "base_uri": "https://localhost:8080/"
        },
        "id": "LEckk4dVs_vB",
        "outputId": "771432ba-3df4-4c25-f6c4-117939cf8c6b"
      },
      "execution_count": null,
      "outputs": [
        {
          "output_type": "execute_result",
          "data": {
            "text/plain": [
              "[{'row': 0, 'col': [1, 2, 3], 'content': ' YearsEnded December 31,'},\n",
              " {'row': 2, 'col': [1, 2, 3], 'content': ' (In thousands)'},\n",
              " {'row': 4,\n",
              "  'col': [0, 1, 2, 3],\n",
              "  'content': ' Other comprehensive(loss)income'},\n",
              " {'row': [0, 2], 'col': 0, 'content': ''},\n",
              " {'row': [1], 'col': [0], 'content': ''},\n",
              " {'row': [1], 'col': [1], 'content': ' 2015'},\n",
              " {'row': [1], 'col': [2], 'content': ' 2014'},\n",
              " {'row': [1], 'col': [3], 'content': ' 2013'},\n",
              " {'row': [3], 'col': [0], 'content': ' Net income'},\n",
              " {'row': [3], 'col': [1], 'content': ' $605,428'},\n",
              " {'row': [3], 'col': [2], 'content': ' $516,140'},\n",
              " {'row': [3], 'col': [3], 'content': ' $496.170'},\n",
              " {'row': [5], 'col': [0], 'content': ' Unrealized loss available-for-sale'},\n",
              " {'row': [5], 'col': [0], 'content': ' Unrealized loss available-for-sale'},\n",
              " {'row': [5], 'col': [1], 'content': ' (2.870)'},\n",
              " {'row': [5], 'col': [2], 'content': ' (264)'},\n",
              " {'row': [5], 'col': [3], 'content': ' (7.592)'},\n",
              " {'row': [6], 'col': [0], 'content': ' Tax benefit (expense)'},\n",
              " {'row': [6], 'col': [1], 'content': ' 149'},\n",
              " {'row': [6], 'col': [2], 'content': ' (1,271)'},\n",
              " {'row': [6], 'col': [3], 'content': ' 1,460'},\n",
              " {'row': [7],\n",
              "  'col': [0],\n",
              "  'content': ' Unrealized loss on securities available-for-sale. net of tax'},\n",
              " {'row': [7], 'col': [1], 'content': ' (2,721)'},\n",
              " {'row': [7], 'col': [2], 'content': ' (1,535)'},\n",
              " {'row': [7], 'col': [3], 'content': ' (6,132)'},\n",
              " {'row': [8], 'col': [0], 'content': ' Unrealized dlos ash flow bede'},\n",
              " {'row': [8], 'col': [0], 'content': ' Unrealized dlos ash flow bede'},\n",
              " {'row': [8], 'col': [1], 'content': ' (1.359)'},\n",
              " {'row': [8], 'col': [2], 'content': ' 3,302'},\n",
              " {'row': [8], 'col': [3], 'content': ''},\n",
              " {'row': [9], 'col': [0], 'content': ' Tax benefit (expense)'},\n",
              " {'row': [9], 'col': [1], 'content': ' 358'},\n",
              " {'row': [9], 'col': [2], 'content': ' (952)'},\n",
              " {'row': [9], 'col': [3], 'content': ''},\n",
              " {'row': [10],\n",
              "  'col': [0],\n",
              "  'content': ' Unrealized (loss) gain on cash flow hedges, net of tax'},\n",
              " {'row': [10], 'col': [1], 'content': ' (1001)'},\n",
              " {'row': [10], 'col': [2], 'content': ' 2,350'},\n",
              " {'row': [10], 'col': [3], 'content': ''},\n",
              " {'row': [11],\n",
              "  'col': [0],\n",
              "  'content': ' Foreign currencytranslation adjustments'},\n",
              " {'row': [11], 'col': [1], 'content': ' (58,076)'},\n",
              " {'row': [11], 'col': [2], 'content': ' (58,041)'},\n",
              " {'row': [11], 'col': [3], 'content': ' 9,766'},\n",
              " {'row': [12],\n",
              "  'col': [0],\n",
              "  'content': ' Other comprehensive (loss)income, net of tax'},\n",
              " {'row': [12], 'col': [1], 'content': ' (61,798)'},\n",
              " {'row': [12], 'col': [2], 'content': ' (57,226)'},\n",
              " {'row': [12], 'col': [3], 'content': ' 3,634'},\n",
              " {'row': [13], 'col': [0], 'content': ''},\n",
              " {'row': [13], 'col': [1], 'content': ' $543,630'},\n",
              " {'row': [13], 'col': [2], 'content': ' $458,914'},\n",
              " {'row': [13], 'col': [3], 'content': ' $499,804'},\n",
              " {'row': [14],\n",
              "  'col': [0],\n",
              "  'content': ' Less:Comprehensive income attributable to non-controllinginterest'},\n",
              " {'row': [14], 'col': [1], 'content': ' 9,630'},\n",
              " {'row': [14], 'col': [2], 'content': ' 9911'},\n",
              " {'row': [14], 'col': [3], 'content': ''},\n",
              " {'row': [15],\n",
              "  'col': [0],\n",
              "  'content': ' Comprehensiveincome attributableto common stockholders'},\n",
              " {'row': [15], 'col': [1], 'content': ' $534,000'},\n",
              " {'row': [15], 'col': [2], 'content': ' $447,148'},\n",
              " {'row': [15], 'col': [3], 'content': ' $499,804'}]"
            ]
          },
          "metadata": {},
          "execution_count": 226
        }
      ]
    },
    {
      "cell_type": "code",
      "source": [
        "from IPython.core.display import display, HTML\n",
        "html_code = generate_html_table(final_table_dict_2)\n",
        "display(HTML(html_code))"
      ],
      "metadata": {
        "colab": {
          "base_uri": "https://localhost:8080/",
          "height": 388
        },
        "id": "_PP4ahYfqhYc",
        "outputId": "24cacf37-e497-4c1e-b9fb-ab975d11d755"
      },
      "execution_count": null,
      "outputs": [
        {
          "output_type": "display_data",
          "data": {
            "text/plain": [
              "<IPython.core.display.HTML object>"
            ],
            "text/html": [
              "<table border='1'>\n",
              "  <tr>\n",
              "    <td rowspan='2'></td>\n",
              "    <td colspan='3'> YearsEnded December 31,</td>\n",
              "  </tr>\n",
              "  <tr>\n",
              "    <td></td>\n",
              "    <td> 2015</td>\n",
              "    <td> 2014</td>\n",
              "    <td> 2013</td>\n",
              "  </tr>\n",
              "  <tr>\n",
              "    <td colspan='3'> (In thousands)</td>\n",
              "  </tr>\n",
              "  <tr>\n",
              "    <td> Net income</td>\n",
              "    <td> $605,428</td>\n",
              "    <td> $516,140</td>\n",
              "    <td> $496.170</td>\n",
              "  </tr>\n",
              "  <tr>\n",
              "    <td colspan='4'> Other comprehensive(loss)income</td>\n",
              "  </tr>\n",
              "  <tr>\n",
              "    <td> Unrealized loss available-for-sale</td>\n",
              "    <td> (2.870)</td>\n",
              "    <td> (264)</td>\n",
              "    <td> (7.592)</td>\n",
              "  </tr>\n",
              "  <tr>\n",
              "    <td> Tax benefit (expense)</td>\n",
              "    <td> 149</td>\n",
              "    <td> (1,271)</td>\n",
              "    <td> 1,460</td>\n",
              "  </tr>\n",
              "  <tr>\n",
              "    <td> Unrealized loss on securities available-for-sale. net of tax</td>\n",
              "    <td> (2,721)</td>\n",
              "    <td> (1,535)</td>\n",
              "    <td> (6,132)</td>\n",
              "  </tr>\n",
              "  <tr>\n",
              "    <td> Unrealized dlos ash flow bede</td>\n",
              "    <td> (1.359)</td>\n",
              "    <td> 3,302</td>\n",
              "    <td></td>\n",
              "  </tr>\n",
              "  <tr>\n",
              "    <td> Tax benefit (expense)</td>\n",
              "    <td> 358</td>\n",
              "    <td> (952)</td>\n",
              "    <td></td>\n",
              "  </tr>\n",
              "  <tr>\n",
              "    <td> Unrealized (loss) gain on cash flow hedges, net of tax</td>\n",
              "    <td> (1001)</td>\n",
              "    <td> 2,350</td>\n",
              "    <td></td>\n",
              "  </tr>\n",
              "  <tr>\n",
              "    <td> Foreign currencytranslation adjustments</td>\n",
              "    <td> (58,076)</td>\n",
              "    <td> (58,041)</td>\n",
              "    <td> 9,766</td>\n",
              "  </tr>\n",
              "  <tr>\n",
              "    <td> Other comprehensive (loss)income, net of tax</td>\n",
              "    <td> (61,798)</td>\n",
              "    <td> (57,226)</td>\n",
              "    <td> 3,634</td>\n",
              "  </tr>\n",
              "  <tr>\n",
              "    <td></td>\n",
              "    <td> $543,630</td>\n",
              "    <td> $458,914</td>\n",
              "    <td> $499,804</td>\n",
              "  </tr>\n",
              "  <tr>\n",
              "    <td> Less:Comprehensive income attributable to non-controllinginterest</td>\n",
              "    <td> 9,630</td>\n",
              "    <td> 9911</td>\n",
              "    <td></td>\n",
              "  </tr>\n",
              "  <tr>\n",
              "    <td> Comprehensiveincome attributableto common stockholders</td>\n",
              "    <td> $534,000</td>\n",
              "    <td> $447,148</td>\n",
              "    <td> $499,804</td>\n",
              "  </tr>\n",
              "</table>"
            ]
          },
          "metadata": {}
        }
      ]
    },
    {
      "cell_type": "markdown",
      "source": [
        "# using excel"
      ],
      "metadata": {
        "id": "_Woj0zGe1xET"
      }
    },
    {
      "cell_type": "code",
      "source": [
        "final_table_dict_2"
      ],
      "metadata": {
        "colab": {
          "base_uri": "https://localhost:8080/"
        },
        "id": "W-Wa11Kj1zMW",
        "outputId": "df40aa3a-ef56-417a-bff8-18e50415c0e5"
      },
      "execution_count": null,
      "outputs": [
        {
          "output_type": "execute_result",
          "data": {
            "text/plain": [
              "[{'row': 0, 'col': [1, 2, 3], 'content': ' YearsEnded December 31,'},\n",
              " {'row': 2, 'col': [1, 2, 3], 'content': ' (In thousands)'},\n",
              " {'row': 4,\n",
              "  'col': [0, 1, 2, 3],\n",
              "  'content': ' Other comprehensive(loss)income'},\n",
              " {'row': [0, 2], 'col': 0, 'content': ''},\n",
              " {'row': [1], 'col': [0], 'content': ''},\n",
              " {'row': [1], 'col': [1], 'content': ' 2015'},\n",
              " {'row': [1], 'col': [2], 'content': ' 2014'},\n",
              " {'row': [1], 'col': [3], 'content': ' 2013'},\n",
              " {'row': [3], 'col': [0], 'content': ' Net income'},\n",
              " {'row': [3], 'col': [1], 'content': ' $605,428'},\n",
              " {'row': [3], 'col': [2], 'content': ' $516,140'},\n",
              " {'row': [3], 'col': [3], 'content': ' $496.170'},\n",
              " {'row': [5], 'col': [0], 'content': ' Unrealized loss available-for-sale'},\n",
              " {'row': [5], 'col': [0], 'content': ' Unrealized loss available-for-sale'},\n",
              " {'row': [5], 'col': [1], 'content': ' (2.870)'},\n",
              " {'row': [5], 'col': [2], 'content': ' (264)'},\n",
              " {'row': [5], 'col': [3], 'content': ' (7.592)'},\n",
              " {'row': [6], 'col': [0], 'content': ' Tax benefit (expense)'},\n",
              " {'row': [6], 'col': [1], 'content': ' 149'},\n",
              " {'row': [6], 'col': [2], 'content': ' (1,271)'},\n",
              " {'row': [6], 'col': [3], 'content': ' 1,460'},\n",
              " {'row': [7],\n",
              "  'col': [0],\n",
              "  'content': ' Unrealized loss on securities available-for-sale. net of tax'},\n",
              " {'row': [7], 'col': [1], 'content': ' (2,721)'},\n",
              " {'row': [7], 'col': [2], 'content': ' (1,535)'},\n",
              " {'row': [7], 'col': [3], 'content': ' (6,132)'},\n",
              " {'row': [8], 'col': [0], 'content': ' Unrealized dlos ash flow bede'},\n",
              " {'row': [8], 'col': [0], 'content': ' Unrealized dlos ash flow bede'},\n",
              " {'row': [8], 'col': [1], 'content': ' (1.359)'},\n",
              " {'row': [8], 'col': [2], 'content': ' 3,302'},\n",
              " {'row': [8], 'col': [3], 'content': ''},\n",
              " {'row': [9], 'col': [0], 'content': ' Tax benefit (expense)'},\n",
              " {'row': [9], 'col': [1], 'content': ' 358'},\n",
              " {'row': [9], 'col': [2], 'content': ' (952)'},\n",
              " {'row': [9], 'col': [3], 'content': ''},\n",
              " {'row': [10],\n",
              "  'col': [0],\n",
              "  'content': ' Unrealized (loss) gain on cash flow hedges, net of tax'},\n",
              " {'row': [10], 'col': [1], 'content': ' (1001)'},\n",
              " {'row': [10], 'col': [2], 'content': ' 2,350'},\n",
              " {'row': [10], 'col': [3], 'content': ''},\n",
              " {'row': [11],\n",
              "  'col': [0],\n",
              "  'content': ' Foreign currencytranslation adjustments'},\n",
              " {'row': [11], 'col': [1], 'content': ' (58,076)'},\n",
              " {'row': [11], 'col': [2], 'content': ' (58,041)'},\n",
              " {'row': [11], 'col': [3], 'content': ' 9,766'},\n",
              " {'row': [12],\n",
              "  'col': [0],\n",
              "  'content': ' Other comprehensive (loss)income, net of tax'},\n",
              " {'row': [12], 'col': [1], 'content': ' (61,798)'},\n",
              " {'row': [12], 'col': [2], 'content': ' (57,226)'},\n",
              " {'row': [12], 'col': [3], 'content': ' 3,634'},\n",
              " {'row': [13], 'col': [0], 'content': ''},\n",
              " {'row': [13], 'col': [1], 'content': ' $543,630'},\n",
              " {'row': [13], 'col': [2], 'content': ' $458,914'},\n",
              " {'row': [13], 'col': [3], 'content': ' $499,804'},\n",
              " {'row': [14],\n",
              "  'col': [0],\n",
              "  'content': ' Less:Comprehensive income attributable to non-controllinginterest'},\n",
              " {'row': [14], 'col': [1], 'content': ' 9,630'},\n",
              " {'row': [14], 'col': [2], 'content': ' 9911'},\n",
              " {'row': [14], 'col': [3], 'content': ''},\n",
              " {'row': [15],\n",
              "  'col': [0],\n",
              "  'content': ' Comprehensiveincome attributableto common stockholders'},\n",
              " {'row': [15], 'col': [1], 'content': ' $534,000'},\n",
              " {'row': [15], 'col': [2], 'content': ' $447,148'},\n",
              " {'row': [15], 'col': [3], 'content': ' $499,804'}]"
            ]
          },
          "metadata": {},
          "execution_count": 228
        }
      ]
    },
    {
      "cell_type": "code",
      "source": [
        "def is_integer(var):\n",
        "  return isinstance(var, int)"
      ],
      "metadata": {
        "id": "3jIk-3oF9vSI"
      },
      "execution_count": null,
      "outputs": []
    },
    {
      "cell_type": "code",
      "source": [
        "import openpyxl\n",
        "import pandas as pd\n",
        "from openpyxl import load_workbook\n",
        "row_merge.shape\n",
        "row_max , col_max = row_merge.shape\n",
        "print(f'row_max: {row_max} , col_max :{col_max}')\n",
        "wb = openpyxl.Workbook()\n",
        "sheet = wb.active\n",
        "for data_cell in final_table_dict_2:\n",
        "  row_cnt = data_cell['row']\n",
        "  col_cnt = data_cell['col']\n",
        "  try:\n",
        "    start_row = int(data_cell['row']) + 1\n",
        "  except:\n",
        "    start_row = int(data_cell['row'][0]) + 1\n",
        "  try:\n",
        "    start_col = int(data_cell['col']) + 1\n",
        "  except:\n",
        "    start_col = int(data_cell['col'][0]) + 1\n",
        "  content = data_cell['content']\n",
        "  if not content:\n",
        "    content = ' '\n",
        "  sheet.cell(row=start_row, column=start_col, value=content)\n",
        "for data_cell in final_table_dict_2:\n",
        "  # check spanning cell\n",
        "  row_merge_flag = 0\n",
        "  col_merge_flag = 0\n",
        "  row_cnt = data_cell['row']\n",
        "  col_cnt = data_cell['col']\n",
        "  # print(row_cnt)\n",
        "  # print(col_cnt)\n",
        "  if not is_integer(row_cnt):\n",
        "    row_merge_flag = 1\n",
        "  if not is_integer(col_cnt):\n",
        "    col_merge_flag = 1\n",
        "  if col_merge_flag == 1 and row_merge_flag == 0:\n",
        "    start_col = int(data_cell['col'][0]) + 1\n",
        "    end_col = int(data_cell['col'][-1]) + 1\n",
        "    start_row = int(data_cell['row']) + 1\n",
        "    end_row = int(data_cell['row']) + 1\n",
        "    sheet.merge_cells(start_row=start_row, start_column=start_col, end_row=end_row, end_column=end_col)\n",
        "  if col_merge_flag == 0 and row_merge_flag == 1:\n",
        "    start_col = int(data_cell['col']) + 1\n",
        "    end_col = int(data_cell['col']) + 1\n",
        "    start_row = int(data_cell['row'][0]) + 1\n",
        "    end_row = int(data_cell['row'][-1]) + 1\n",
        "    sheet.merge_cells(start_row=start_row, start_column=start_col, end_row=end_row, end_column=end_col)\n",
        "  if col_merge_flag == 1 and row_merge_flag == 1:\n",
        "    start_col = int(data_cell['col'][0]) + 1\n",
        "    end_col = int(data_cell['col'][-1]) + 1\n",
        "    start_row = int(data_cell['row'][0]) + 1\n",
        "    end_row = int(data_cell['row'][-1]) + 1\n",
        "    sheet.merge_cells(start_row=start_row, start_column=start_col, end_row=end_row, end_column=end_col)\n",
        "wb.save('test.xlsx')"
      ],
      "metadata": {
        "colab": {
          "base_uri": "https://localhost:8080/"
        },
        "id": "G0XhCpwC2TS4",
        "outputId": "6275b329-a362-4166-9cc2-654d0eb0b737"
      },
      "execution_count": null,
      "outputs": [
        {
          "output_type": "stream",
          "name": "stdout",
          "text": [
            "row_max: 16 , col_max :4\n"
          ]
        }
      ]
    },
    {
      "cell_type": "code",
      "source": [
        "def excel_to_html(excel_path, sheet_name=0):\n",
        "    wb = load_workbook(excel_path)\n",
        "    ws = wb[wb.sheetnames[sheet_name]] if isinstance(sheet_name, int) else wb[sheet_name]\n",
        "\n",
        "    merged_cells = ws.merged_cells.ranges  # Get merged cell ranges\n",
        "    df = pd.read_excel(excel_path, sheet_name=sheet_name, dtype=str)\n",
        "\n",
        "    html = '<table border=\"1\">\\n'\n",
        "    for i, row in enumerate(ws.iter_rows(values_only=True)):\n",
        "        html += \"  <tr>\\n\"\n",
        "        for j, cell in enumerate(row):\n",
        "            rowspan, colspan = 1, 1\n",
        "            for merged in merged_cells:\n",
        "                if ws.cell(row=i+1, column=j+1).coordinate in merged:\n",
        "                    rowspan = merged.size[\"rows\"]\n",
        "                    colspan = merged.size[\"columns\"]\n",
        "                    if i+1 != merged.min_row or j+1 != merged.min_col:\n",
        "                        cell = None  # Skip duplicate merged cells\n",
        "\n",
        "            if cell is not None:\n",
        "                attributes = \"\"\n",
        "                if rowspan > 1:\n",
        "                    attributes += f' rowspan=\"{rowspan}\"'\n",
        "                if colspan > 1:\n",
        "                    attributes += f' colspan=\"{colspan}\"'\n",
        "                html += f'    <td{attributes}>{cell}</td>\\n'\n",
        "\n",
        "        html += \"  </tr>\\n\"\n",
        "    html += \"</table>\"\n",
        "\n",
        "    return html"
      ],
      "metadata": {
        "id": "a-QhjoCSB5yr"
      },
      "execution_count": null,
      "outputs": []
    },
    {
      "cell_type": "code",
      "source": [
        "def workbook_to_html(wb, sheet_name=0):\n",
        "    ws = wb[wb.sheetnames[sheet_name]] if isinstance(sheet_name, int) else wb[sheet_name]\n",
        "    merged_cells = ws.merged_cells.ranges  # Get merged cell ranges\n",
        "\n",
        "    html = '<table border=\"1\">\\n'\n",
        "    for i, row in enumerate(ws.iter_rows(values_only=True)):\n",
        "        html += \"  <tr>\\n\"\n",
        "        for j, cell in enumerate(row):\n",
        "            rowspan, colspan = 1, 1\n",
        "            for merged in merged_cells:\n",
        "                if ws.cell(row=i+1, column=j+1).coordinate in merged:\n",
        "                    rowspan = merged.size[\"rows\"]\n",
        "                    colspan = merged.size[\"columns\"]\n",
        "                    if i+1 != merged.min_row or j+1 != merged.min_col:\n",
        "                        cell = None  # Skip duplicate merged cells\n",
        "\n",
        "            if cell is not None:\n",
        "                attributes = \"\"\n",
        "                if rowspan > 1:\n",
        "                    attributes += f' rowspan=\"{rowspan}\"'\n",
        "                if colspan > 1:\n",
        "                    attributes += f' colspan=\"{colspan}\"'\n",
        "                html += f'    <td{attributes}>{cell}</td>\\n'\n",
        "\n",
        "        html += \"  </tr>\\n\"\n",
        "    html += \"</table>\"\n",
        "\n",
        "    return html"
      ],
      "metadata": {
        "id": "hfi_pwccFqy9"
      },
      "execution_count": null,
      "outputs": []
    },
    {
      "cell_type": "code",
      "source": [
        "html_test = workbook_to_html(wb)\n",
        "display(HTML(html_test))"
      ],
      "metadata": {
        "colab": {
          "base_uri": "https://localhost:8080/",
          "height": 388
        },
        "id": "_g2bheZ9GBK-",
        "outputId": "cfde5292-5d1b-4dd2-abb3-0094e7a96834"
      },
      "execution_count": null,
      "outputs": [
        {
          "output_type": "display_data",
          "data": {
            "text/plain": [
              "<IPython.core.display.HTML object>"
            ],
            "text/html": [
              "<table border=\"1\">\n",
              "  <tr>\n",
              "    <td rowspan=\"3\"> </td>\n",
              "    <td colspan=\"3\"> YearsEnded December 31,</td>\n",
              "  </tr>\n",
              "  <tr>\n",
              "    <td> 2015</td>\n",
              "    <td> 2014</td>\n",
              "    <td> 2013</td>\n",
              "  </tr>\n",
              "  <tr>\n",
              "    <td colspan=\"3\"> (In thousands)</td>\n",
              "  </tr>\n",
              "  <tr>\n",
              "    <td> Net income</td>\n",
              "    <td> $605,428</td>\n",
              "    <td> $516,140</td>\n",
              "    <td> $496.170</td>\n",
              "  </tr>\n",
              "  <tr>\n",
              "    <td colspan=\"4\"> Other comprehensive(loss)income</td>\n",
              "  </tr>\n",
              "  <tr>\n",
              "    <td> Unrealized loss available-for-sale</td>\n",
              "    <td> (2.870)</td>\n",
              "    <td> (264)</td>\n",
              "    <td> (7.592)</td>\n",
              "  </tr>\n",
              "  <tr>\n",
              "    <td> Tax benefit (expense)</td>\n",
              "    <td> 149</td>\n",
              "    <td> (1,271)</td>\n",
              "    <td> 1,460</td>\n",
              "  </tr>\n",
              "  <tr>\n",
              "    <td> Unrealized loss on securities available-for-sale. net of tax</td>\n",
              "    <td> (2,721)</td>\n",
              "    <td> (1,535)</td>\n",
              "    <td> (6,132)</td>\n",
              "  </tr>\n",
              "  <tr>\n",
              "    <td> Unrealized dlos ash flow bede</td>\n",
              "    <td> (1.359)</td>\n",
              "    <td> 3,302</td>\n",
              "    <td> </td>\n",
              "  </tr>\n",
              "  <tr>\n",
              "    <td> Tax benefit (expense)</td>\n",
              "    <td> 358</td>\n",
              "    <td> (952)</td>\n",
              "    <td> </td>\n",
              "  </tr>\n",
              "  <tr>\n",
              "    <td> Unrealized (loss) gain on cash flow hedges, net of tax</td>\n",
              "    <td> (1001)</td>\n",
              "    <td> 2,350</td>\n",
              "    <td> </td>\n",
              "  </tr>\n",
              "  <tr>\n",
              "    <td> Foreign currencytranslation adjustments</td>\n",
              "    <td> (58,076)</td>\n",
              "    <td> (58,041)</td>\n",
              "    <td> 9,766</td>\n",
              "  </tr>\n",
              "  <tr>\n",
              "    <td> Other comprehensive (loss)income, net of tax</td>\n",
              "    <td> (61,798)</td>\n",
              "    <td> (57,226)</td>\n",
              "    <td> 3,634</td>\n",
              "  </tr>\n",
              "  <tr>\n",
              "    <td> </td>\n",
              "    <td> $543,630</td>\n",
              "    <td> $458,914</td>\n",
              "    <td> $499,804</td>\n",
              "  </tr>\n",
              "  <tr>\n",
              "    <td> Less:Comprehensive income attributable to non-controllinginterest</td>\n",
              "    <td> 9,630</td>\n",
              "    <td> 9911</td>\n",
              "    <td> </td>\n",
              "  </tr>\n",
              "  <tr>\n",
              "    <td> Comprehensiveincome attributableto common stockholders</td>\n",
              "    <td> $534,000</td>\n",
              "    <td> $447,148</td>\n",
              "    <td> $499,804</td>\n",
              "  </tr>\n",
              "</table>"
            ]
          },
          "metadata": {}
        }
      ]
    },
    {
      "cell_type": "code",
      "source": [
        "html_test"
      ],
      "metadata": {
        "colab": {
          "base_uri": "https://localhost:8080/",
          "height": 200
        },
        "id": "MPe8lJEg8lRW",
        "outputId": "1d1b2e0b-91aa-4fb9-b26b-37001c7f40da"
      },
      "execution_count": null,
      "outputs": [
        {
          "output_type": "execute_result",
          "data": {
            "text/plain": [
              "'<table border=\"1\">\\n  <tr>\\n    <td rowspan=\"3\"> </td>\\n    <td colspan=\"3\"> YearsEnded December 31,</td>\\n  </tr>\\n  <tr>\\n    <td> 2015</td>\\n    <td> 2014</td>\\n    <td> 2013</td>\\n  </tr>\\n  <tr>\\n    <td colspan=\"3\"> (In thousands)</td>\\n  </tr>\\n  <tr>\\n    <td> Net income</td>\\n    <td> $605,428</td>\\n    <td> $516,140</td>\\n    <td> $496.170</td>\\n  </tr>\\n  <tr>\\n    <td colspan=\"4\"> Other comprehensive(loss)income</td>\\n  </tr>\\n  <tr>\\n    <td> Unrealized loss available-for-sale</td>\\n    <td> (2.870)</td>\\n    <td> (264)</td>\\n    <td> (7.592)</td>\\n  </tr>\\n  <tr>\\n    <td> Tax benefit (expense)</td>\\n    <td> 149</td>\\n    <td> (1,271)</td>\\n    <td> 1,460</td>\\n  </tr>\\n  <tr>\\n    <td> Unrealized loss on securities available-for-sale. net of tax</td>\\n    <td> (2,721)</td>\\n    <td> (1,535)</td>\\n    <td> (6,132)</td>\\n  </tr>\\n  <tr>\\n    <td> Unrealized dlos ash flow bede</td>\\n    <td> (1.359)</td>\\n    <td> 3,302</td>\\n    <td> </td>\\n  </tr>\\n  <tr>\\n    <td> Tax benefit (expense)</td>\\n    <td> 358</td>\\n    <td> (952)</td>\\n    <td> </td>\\n  </tr>\\n  <tr>\\n    <td> Unrealized (loss) gain on cash flow hedges, net of tax</td>\\n    <td> (1001)</td>\\n    <td> 2,350</td>\\n    <td> </td>\\n  </tr>\\n  <tr>\\n    <td> Foreign currencytranslation adjustments</td>\\n    <td> (58,076)</td>\\n    <td> (58,041)</td>\\n    <td> 9,766</td>\\n  </tr>\\n  <tr>\\n    <td> Other comprehensive (loss)income, net of tax</td>\\n    <td> (61,798)</td>\\n    <td> (57,226)</td>\\n    <td> 3,634</td>\\n  </tr>\\n  <tr>\\n    <td> </td>\\n    <td> $543,630</td>\\n    <td> $458,914</td>\\n    <td> $499,804</td>\\n  </tr>\\n  <tr>\\n    <td> Less:Comprehensive income attributable to non-controllinginterest</td>\\n    <td> 9,630</td>\\n    <td> 9911</td>\\n    <td> </td>\\n  </tr>\\n  <tr>\\n    <td> Comprehensiveincome attributableto common stockholders</td>\\n    <td> $534,000</td>\\n    <td> $447,148</td>\\n    <td> $499,804</td>\\n  </tr>\\n</table>'"
            ],
            "application/vnd.google.colaboratory.intrinsic+json": {
              "type": "string"
            }
          },
          "metadata": {},
          "execution_count": 257
        }
      ]
    },
    {
      "cell_type": "code",
      "source": [
        "# y1 = 50\n",
        "# y2 = 65\n",
        "# x1 = 287\n",
        "# x2 = 365\n",
        "# sub_image = table_image_original[y1:y2, x1:x2]\n",
        "# plt.imshow(sub_image)"
      ],
      "metadata": {
        "id": "862AVyb7syj1"
      },
      "execution_count": null,
      "outputs": []
    },
    {
      "cell_type": "code",
      "source": [
        "# ocr_2 = PaddleOCR(det_db_box_thresh=0.1, use_angle_cls=True, lang=\"en\")\n",
        "# scale_factor = 4  # Adjust as needed\n",
        "# resized_image = cv2.resize(sub_image, (sub_image.shape[1] * scale_factor, sub_image.shape[0] * scale_factor), interpolation=cv2.INTER_CUBIC)\n",
        "\n",
        "# # Run OCR on the resized image\n",
        "# results = ocr.ocr(resized_image, cls=True)\n",
        "# results[0]"
      ],
      "metadata": {
        "id": "qYMnhCpBu8MD"
      },
      "execution_count": null,
      "outputs": []
    },
    {
      "cell_type": "code",
      "source": [
        "# line = results[0]\n",
        "# line[0][1]"
      ],
      "metadata": {
        "id": "gqSmwjk9fanE"
      },
      "execution_count": null,
      "outputs": []
    },
    {
      "cell_type": "code",
      "source": [
        "# white_image = np.ones_like(table_image_original) * 255\n",
        "# white_image[y1:y2, x1:x2, :] = table_image_original[y1:y2, x1:x2,:]\n",
        "# plt.imshow(white_image)"
      ],
      "metadata": {
        "id": "6LYcj_1wvWJQ"
      },
      "execution_count": null,
      "outputs": []
    },
    {
      "cell_type": "code",
      "source": [
        "# result = ocr_2.ocr(table_image_original, cls=True)\n",
        "# result"
      ],
      "metadata": {
        "id": "albf1W54tXhQ"
      },
      "execution_count": null,
      "outputs": []
    },
    {
      "cell_type": "code",
      "source": [
        "def generate_html_table(data: list) -> str:\n",
        "    table = \"<table border='1'>\\n\"\n",
        "\n",
        "    # Find max row and col to determine table size\n",
        "    max_row = max(\n",
        "        max(item['row']) if isinstance(item['row'], list) else item['row']\n",
        "        for item in data\n",
        "    )\n",
        "    max_col = max(\n",
        "        max(item['col']) if isinstance(item['col'], list) else item['col']\n",
        "        for item in data\n",
        "    )\n",
        "\n",
        "    # Create an empty table structure\n",
        "    table_structure = [['' for _ in range(max_col + 1)] for _ in range(max_row + 1)]\n",
        "    span_map = {}\n",
        "\n",
        "    # Populate the table with data\n",
        "    for item in data:\n",
        "        try:\n",
        "          rows = item['row'] if isinstance(item['row'], list) else [item['row']]\n",
        "          cols = item['col'] if isinstance(item['col'], list) else [item['col']]\n",
        "          content = item['content']\n",
        "\n",
        "          span_map[(rows[0], cols[0])] = (len(rows), len(cols))\n",
        "          table_structure[rows[0]][cols[0]] = content\n",
        "        except:\n",
        "          pass\n",
        "\n",
        "        # Mark spanned cells\n",
        "        for r in rows:\n",
        "            for c in cols:\n",
        "                if (r, c) != (rows[0], cols[0]):\n",
        "                    table_structure[r][c] = None\n",
        "\n",
        "    # Generate HTML table rows\n",
        "    for r, row in enumerate(table_structure):\n",
        "        table += \"  <tr>\\n\"\n",
        "        for c, cell in enumerate(row):\n",
        "            if cell is not None:\n",
        "                rowspan, colspan = span_map.get((r, c), (1, 1))\n",
        "                rowspan_attr = f\" rowspan='{rowspan}'\" if rowspan > 1 else \"\"\n",
        "                colspan_attr = f\" colspan='{colspan}'\" if colspan > 1 else \"\"\n",
        "                table += f\"    <td{rowspan_attr}{colspan_attr}>{cell}</td>\\n\"\n",
        "        table += \"  </tr>\\n\"\n",
        "\n",
        "    table += \"</table>\"\n",
        "    return table\n",
        "\n"
      ],
      "metadata": {
        "id": "uaa5P5H-ml-h"
      },
      "execution_count": null,
      "outputs": []
    },
    {
      "cell_type": "markdown",
      "source": [
        "# New Section"
      ],
      "metadata": {
        "id": "h25Hww6xqA4y"
      }
    },
    {
      "cell_type": "code",
      "source": [
        "html_code = generate_html_table(final_table_dict_2)\n",
        "# print(html_code)"
      ],
      "metadata": {
        "id": "bjdfyJa6zPz2"
      },
      "execution_count": null,
      "outputs": []
    },
    {
      "cell_type": "code",
      "source": [
        "final_table_dict_2"
      ],
      "metadata": {
        "id": "YWImmbXdTgCU",
        "colab": {
          "base_uri": "https://localhost:8080/"
        },
        "outputId": "3d257100-d6a4-4295-c620-2b2bb6425f56"
      },
      "execution_count": null,
      "outputs": [
        {
          "output_type": "execute_result",
          "data": {
            "text/plain": [
              "[{'row': 0, 'col': [1, 2, 3], 'content': ' Year Ended December 31'},\n",
              " {'row': [0, 1], 'col': 0, 'content': ' Millions of dollars'},\n",
              " {'row': [1], 'col': [1], 'content': ' 2014'},\n",
              " {'row': [1], 'col': [2], 'content': ' 2013'},\n",
              " {'row': [1], 'col': [3], 'content': ' 2012'},\n",
              " {'row': [2], 'col': [0], 'content': ' Stock-based compensation cost'},\n",
              " {'row': [2], 'col': [1], 'content': ' S 298'},\n",
              " {'row': [2], 'col': [1], 'content': ' S 298'},\n",
              " {'row': [2], 'col': [2], 'content': ' S 264'},\n",
              " {'row': [2], 'col': [2], 'content': ' S 264'},\n",
              " {'row': [2], 'col': [3], 'content': ' S 217'},\n",
              " {'row': [2], 'col': [3], 'content': ' S 217'},\n",
              " {'row': [3], 'col': [0], 'content': ' Tax benefit'},\n",
              " {'row': [3], 'col': [1], 'content': ' (90)'},\n",
              " {'row': [3], 'col': [2], 'content': ' (81)'},\n",
              " {'row': [3], 'col': [3], 'content': ' (67)'},\n",
              " {'row': [4],\n",
              "  'col': [0],\n",
              "  'content': ' Stock-based compensation cost, net of tax'},\n",
              " {'row': [4], 'col': [1], 'content': ' $ 208'},\n",
              " {'row': [4], 'col': [1], 'content': ' $ 208'},\n",
              " {'row': [4], 'col': [2], 'content': ' $ 183'},\n",
              " {'row': [4], 'col': [2], 'content': ' $ 183'},\n",
              " {'row': [4], 'col': [3], 'content': ' $ 150'},\n",
              " {'row': [4], 'col': [3], 'content': ' $ 150'}]"
            ]
          },
          "metadata": {},
          "execution_count": 117
        }
      ]
    },
    {
      "cell_type": "code",
      "source": [
        "from IPython.core.display import display, HTML\n",
        "html_code = generate_html_table(final_table_dict_2)\n",
        "display(HTML(html_code))"
      ],
      "metadata": {
        "id": "J4hychlqzkEP",
        "colab": {
          "base_uri": "https://localhost:8080/",
          "height": 141
        },
        "outputId": "9aa9f62c-8088-4a6d-c210-9015eb29925f"
      },
      "execution_count": null,
      "outputs": [
        {
          "output_type": "display_data",
          "data": {
            "text/plain": [
              "<IPython.core.display.HTML object>"
            ],
            "text/html": [
              "<table border='1'>\n",
              "  <tr>\n",
              "    <td> Average Oil Prices (dollars per barrel)</td>\n",
              "    <td> 2007</td>\n",
              "    <td> 2006</td>\n",
              "    <td> 2005</td>\n",
              "  </tr>\n",
              "  <tr>\n",
              "    <td> West TexasIntermediate</td>\n",
              "    <td> $ 71.91</td>\n",
              "    <td> $66.17</td>\n",
              "    <td> $56.30</td>\n",
              "  </tr>\n",
              "  <tr>\n",
              "    <td> United Kingdom Brent</td>\n",
              "    <td> $ 72.21</td>\n",
              "    <td> $65.35</td>\n",
              "    <td> $54.45</td>\n",
              "  </tr>\n",
              "  <tr>\n",
              "    <td colspan='4'> Average United States Gas Prices (dollars per million British thermalunits, or mmBtu)</td>\n",
              "  </tr>\n",
              "  <tr>\n",
              "    <td> Henry Hub</td>\n",
              "    <td> $6.97</td>\n",
              "    <td> $6.81</td>\n",
              "    <td> $8.79</td>\n",
              "  </tr>\n",
              "  <tr>\n",
              "    <td></td>\n",
              "    <td></td>\n",
              "    <td></td>\n",
              "    <td></td>\n",
              "  </tr>\n",
              "</table>"
            ]
          },
          "metadata": {}
        }
      ]
    },
    {
      "cell_type": "code",
      "source": [
        "final_table_dict_2"
      ],
      "metadata": {
        "id": "K5Yw8hUL0N3B"
      },
      "execution_count": null,
      "outputs": []
    },
    {
      "cell_type": "code",
      "source": [
        "def generate_html_table(data_dict):\n",
        "  html = '<table border=\"1\" style=\"border-collapse: collapse;\">\\n'\n",
        "  for row_idx in range(num_row):\n",
        "      html += '  <tr>\\n'\n",
        "      for col_idx in range(num_col):\n",
        "        row_members_list = []\n",
        "        row_have_span_col_flag  = 0\n",
        "        row_have_span_row_flag  = 0\n",
        "        for cell_data in data_dict:\n",
        "          if col_idx in cell_data['col'] and row_idx in cell_data['row']:\n",
        "            row_members_list.append(cell_data['content'])\n",
        "  html = html + '</table>'\n"
      ],
      "metadata": {
        "id": "_5VwFD2djwNE"
      },
      "execution_count": null,
      "outputs": []
    },
    {
      "cell_type": "code",
      "source": [
        "final_table_dict_2.get(5,2)"
      ],
      "metadata": {
        "id": "I697Xtw2rJg0"
      },
      "execution_count": null,
      "outputs": []
    },
    {
      "cell_type": "code",
      "source": [
        "\n",
        "\n",
        "html_output = generate_html_table(final_table_dict_2)\n",
        "# print(html_output)\n",
        "display(HTML(html_output))"
      ],
      "metadata": {
        "id": "7Umuz-5ZsTyZ",
        "colab": {
          "base_uri": "https://localhost:8080/",
          "height": 159
        },
        "outputId": "ced095e1-e4fc-41c8-fb34-6543c50bb680"
      },
      "execution_count": null,
      "outputs": [
        {
          "output_type": "display_data",
          "data": {
            "text/plain": [
              "<IPython.core.display.HTML object>"
            ],
            "text/html": [
              "<table border='1'>\n",
              "  <tr>\n",
              "    <td rowspan='2'> Millions of dollars</td>\n",
              "    <td colspan='2'> December31</td>\n",
              "  </tr>\n",
              "  <tr>\n",
              "    <td> 2014</td>\n",
              "    <td> 2013</td>\n",
              "  </tr>\n",
              "  <tr>\n",
              "    <td> Defined benefit and other postretirement liability adjustments (a)</td>\n",
              "    <td> S (326)</td>\n",
              "    <td> S (241)</td>\n",
              "  </tr>\n",
              "  <tr>\n",
              "    <td> Cumulative translation adjustment</td>\n",
              "    <td> (70)</td>\n",
              "    <td> (69)</td>\n",
              "  </tr>\n",
              "  <tr>\n",
              "    <td> Other</td>\n",
              "    <td> (3)</td>\n",
              "    <td> 3</td>\n",
              "  </tr>\n",
              "  <tr>\n",
              "    <td> Totalaccumulated other comprehensiveloss</td>\n",
              "    <td> S (399)</td>\n",
              "    <td> S (307)</td>\n",
              "  </tr>\n",
              "</table>"
            ]
          },
          "metadata": {}
        }
      ]
    },
    {
      "cell_type": "code",
      "source": [
        "table_dict"
      ],
      "metadata": {
        "id": "lXNcR0zhts5C"
      },
      "execution_count": null,
      "outputs": []
    },
    {
      "cell_type": "markdown",
      "source": [
        "# pytesseract"
      ],
      "metadata": {
        "id": "IBylyhr-nm5U"
      }
    },
    {
      "cell_type": "code",
      "source": [
        "!sudo apt install tesseract-ocr\n",
        "!pip install pytesseract"
      ],
      "metadata": {
        "id": "tBBYP4e7nmVO"
      },
      "execution_count": null,
      "outputs": []
    },
    {
      "cell_type": "code",
      "source": [
        "try:\n",
        " from PIL import Image\n",
        "except ImportError:\n",
        " import Image\n",
        "import cv2\n",
        "import pytesseract\n"
      ],
      "metadata": {
        "id": "0gXvcWG5oBi_"
      },
      "execution_count": null,
      "outputs": []
    },
    {
      "cell_type": "code",
      "source": [
        "!which tesseract"
      ],
      "metadata": {
        "id": "8A6ZD9dooL2G"
      },
      "execution_count": null,
      "outputs": []
    },
    {
      "cell_type": "code",
      "source": [
        "final_table_dict  = []\n",
        "\n",
        "for cell in table_dict:\n",
        "  cell_dict = dict()\n",
        "  bbox = cell['bbox']\n",
        "  x1_512 , y1_512 , x2_512, y2_512 = bbox\n",
        "  x1_ori = int(x1_512/512 * w_original)\n",
        "  y1_ori = int(y1_512/512 * h_original)\n",
        "  x2_ori = int(x2_512/512 * w_original)\n",
        "  y2_ori = int(y2_512/512 * h_original)\n",
        "  row_cnt = cell['row']\n",
        "  col_cnt = cell['col']\n",
        "  content = ''\n",
        "  cell_dict['row'] = row_cnt\n",
        "  cell_dict['col'] = col_cnt\n",
        "  cell_dict['bbox'] = [x1_ori, y1_ori, x2_ori, y2_ori]\n",
        "  final_table_dict.append(cell_dict)"
      ],
      "metadata": {
        "id": "yktvsmFCoNGZ"
      },
      "execution_count": null,
      "outputs": []
    },
    {
      "cell_type": "code",
      "source": [
        "table_image_original = imgae_split_input.copy()\n",
        "# plt.imshow(table_image_original)\n",
        "# plt.show()\n",
        "final_table_dict_2 = []\n",
        "for cell in final_table_dict:\n",
        "  cell_dict = dict()\n",
        "  bbox = cell['bbox']\n",
        "  x1, y1, x2, y2 = bbox\n",
        "  row_cnt = cell['row']\n",
        "  col_cnt = cell['col']\n",
        "  content = ''\n",
        "  cell_dict['row'] = row_cnt\n",
        "  cell_dict['col'] = col_cnt\n",
        "  # cell_dict['bbox'] = [x1, y1, x2, y2]\n",
        "  sub_image = table_image_original[y1:y2, x1:x2]\n",
        "  lang = 'eng'\n",
        "  config = r'--oem 3 --psm 6'\n",
        "  extractedInformation = pytesseract.image_to_string(sub_image, config = \"--psm 6\")\n",
        "  content = extractedInformation\n",
        "  # content = content.strip()\n",
        "  cell_dict['content'] = content\n",
        "  final_table_dict_2.append(cell_dict)\n"
      ],
      "metadata": {
        "id": "8W9OoTlfoYcZ"
      },
      "execution_count": null,
      "outputs": []
    },
    {
      "cell_type": "code",
      "source": [
        "final_table_dict_2"
      ],
      "metadata": {
        "id": "RL81BfoSpN97"
      },
      "execution_count": null,
      "outputs": []
    },
    {
      "cell_type": "code",
      "source": [
        "final_table_dict\n",
        "x1 , y1 , x2, y2 = 287, 20, 356, 35\n",
        "sub_image = table_image_original[y1:y2, x1:x2]\n",
        "plt.imshow(sub_image)"
      ],
      "metadata": {
        "id": "eezlv30xpoPM"
      },
      "execution_count": null,
      "outputs": []
    },
    {
      "cell_type": "code",
      "source": [
        "def process_table_cell(cell_image):\n",
        "    \"\"\"Processes a single table cell image for OCR.\"\"\"\n",
        "\n",
        "    roi = cell_image\n",
        "    kernel = cv2.getStructuringElement(cv2.MORPH_RECT, (2, 1))\n",
        "    border = cv2.copyMakeBorder(roi,2,2,2,2, cv2.BORDER_CONSTANT,value=[255,255])\n",
        "    resizing = cv2.resize(border, None, fx=2, fy=2, interpolation=cv2.INTER_CUBIC)\n",
        "    dilation = cv2.dilate(resizing, kernel,iterations=1)\n",
        "    erosion = cv2.erode(dilation, kernel,iterations=2)\n",
        "    out = pytesseract.image_to_string(erosion)\n",
        "    if(len(out)==0):\n",
        "      out = pytesseract.image_to_string(erosion)\n",
        "    # 3. Post-processing (basic)\n",
        "    text = out.strip()  # Remove leading/trailing whitespace\n",
        "\n",
        "    return text"
      ],
      "metadata": {
        "id": "A1DSKRiXt5xO"
      },
      "execution_count": null,
      "outputs": []
    },
    {
      "cell_type": "code",
      "source": [
        "table_image_original = imgae_split_input.copy()\n",
        "# plt.imshow(table_image_original)\n",
        "# plt.show()\n",
        "final_table_dict_2 = []\n",
        "for cell in final_table_dict:\n",
        "  cell_dict = dict()\n",
        "  bbox = cell['bbox']\n",
        "  x1, y1, x2, y2 = bbox\n",
        "  row_cnt = cell['row']\n",
        "  col_cnt = cell['col']\n",
        "  content = ''\n",
        "  cell_dict['row'] = row_cnt\n",
        "  cell_dict['col'] = col_cnt\n",
        "  # cell_dict['bbox'] = [x1, y1, x2, y2]\n",
        "  sub_image = table_image_original[y1:y2, x1:x2]\n",
        "  content = process_table_cell(sub_image)\n",
        "  # content = content.strip()\n",
        "  cell_dict['content'] = content\n",
        "  final_table_dict_2.append(cell_dict)"
      ],
      "metadata": {
        "id": "niP1ERm1p68X"
      },
      "execution_count": null,
      "outputs": []
    },
    {
      "cell_type": "code",
      "source": [
        "final_table_dict_2"
      ],
      "metadata": {
        "id": "KFZOLYe50TVa"
      },
      "execution_count": null,
      "outputs": []
    },
    {
      "cell_type": "code",
      "source": [
        "final_table_dict"
      ],
      "metadata": {
        "id": "kbGS0Gzyz-Mi"
      },
      "execution_count": null,
      "outputs": []
    },
    {
      "cell_type": "code",
      "source": [
        "# pytesseract.image_to_string(sub_image, lang = lang, config = '--oem 1 --psm 7')\n",
        "x1 , y1 , x2, y2 = 287, 0, 406, 20\n",
        "sub_image = table_image_original[y1:y2, x1:x2]\n",
        "white_image = np.ones_like(table_image_original) * 255\n",
        "white_image[y1:y2, x1:x2, :] = table_image_original[y1:y2, x1:x2,:]\n",
        "plt.imshow(white_image)\n",
        "text = pytesseract.image_to_string(table_image_original,lang = lang, config = '--psm 6')\n",
        "text"
      ],
      "metadata": {
        "id": "NSs6b3IBuAd7"
      },
      "execution_count": null,
      "outputs": []
    },
    {
      "cell_type": "code",
      "source": [
        "plt.imshow(table_image_original)"
      ],
      "metadata": {
        "id": "chXye6RcyJ3-"
      },
      "execution_count": null,
      "outputs": []
    },
    {
      "cell_type": "code",
      "source": [
        "# roi = table_image_original[y1:y2, x1:x2]\n",
        "roi = white_image\n",
        "kernel = cv2.getStructuringElement(cv2.MORPH_RECT, (2, 1))\n",
        "border = cv2.copyMakeBorder(roi,2,2,2,2, cv2.BORDER_CONSTANT,value=[255,255])\n",
        "resizing = cv2.resize(border, None, fx=2, fy=2, interpolation=cv2.INTER_CUBIC)\n",
        "dilation = cv2.dilate(resizing, kernel,iterations=1)\n",
        "erosion = cv2.erode(dilation, kernel,iterations=2)\n",
        "out = pytesseract.image_to_string(erosion , config = '--psm 6')\n",
        "if(len(out)==0):\n",
        "  print('aaa')\n",
        "  out = pytesseract.image_to_string(erosion)\n"
      ],
      "metadata": {
        "id": "SIKOq1UKzDEA"
      },
      "execution_count": null,
      "outputs": []
    },
    {
      "cell_type": "code",
      "source": [
        "plt.imshow(erosion)"
      ],
      "metadata": {
        "id": "pwehxY2M0ffF"
      },
      "execution_count": null,
      "outputs": []
    },
    {
      "cell_type": "code",
      "source": [
        "out"
      ],
      "metadata": {
        "id": "OZIyj0PnzcWt"
      },
      "execution_count": null,
      "outputs": []
    }
  ]
}